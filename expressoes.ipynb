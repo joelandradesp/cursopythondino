{
  "nbformat": 4,
  "nbformat_minor": 0,
  "metadata": {
    "colab": {
      "provenance": [],
      "authorship_tag": "ABX9TyMu/wS3rxeUkSJcKk4UvNfc",
      "include_colab_link": true
    },
    "kernelspec": {
      "name": "python3",
      "display_name": "Python 3"
    },
    "language_info": {
      "name": "python"
    }
  },
  "cells": [
    {
      "cell_type": "markdown",
      "metadata": {
        "id": "view-in-github",
        "colab_type": "text"
      },
      "source": [
        "<a href=\"https://colab.research.google.com/github/joelandradesp/cursopythondino/blob/master/expressoes.ipynb\" target=\"_parent\"><img src=\"https://colab.research.google.com/assets/colab-badge.svg\" alt=\"Open In Colab\"/></a>"
      ]
    },
    {
      "cell_type": "code",
      "execution_count": 13,
      "metadata": {
        "id": "Q7dIdmH-WLvN"
      },
      "outputs": [],
      "source": [
        "i = 5\n",
        "j = 2"
      ]
    },
    {
      "cell_type": "markdown",
      "source": [
        "**Soma**"
      ],
      "metadata": {
        "id": "vtWOOmS8A_mF"
      }
    },
    {
      "cell_type": "code",
      "source": [
        "resultado = i + j\n",
        "print(\"A Soma de {0} + {1} = {2}\".format(i,j,i+j))\n",
        "print(\"A Soma de {0} + {1} = {2}\".format(i,j,resultado))"
      ],
      "metadata": {
        "colab": {
          "base_uri": "https://localhost:8080/"
        },
        "id": "1ntPWpOFWUaR",
        "outputId": "7ffeb956-10b6-492a-be7e-22608d74aaf2"
      },
      "execution_count": 14,
      "outputs": [
        {
          "output_type": "stream",
          "name": "stdout",
          "text": [
            "A Soma de 5 + 2 = 7\n",
            "A Soma de 5 + 2 = 7\n"
          ]
        }
      ]
    },
    {
      "cell_type": "markdown",
      "source": [
        "Subtração"
      ],
      "metadata": {
        "id": "Rb9ZV7yQBM8s"
      }
    },
    {
      "cell_type": "code",
      "source": [
        "resultado = i - j\n",
        "print(\"A subtração de {0} - {1} = {2}\".format(i,j,resultado))"
      ],
      "metadata": {
        "id": "T73J3bYDWbyC",
        "colab": {
          "base_uri": "https://localhost:8080/"
        },
        "outputId": "5e4db9ca-5849-4083-fda4-f0dadc2f93b7"
      },
      "execution_count": 15,
      "outputs": [
        {
          "output_type": "stream",
          "name": "stdout",
          "text": [
            "A subtração de 5 - 2 = 3\n"
          ]
        }
      ]
    },
    {
      "cell_type": "markdown",
      "source": [
        "**Multiplicação**"
      ],
      "metadata": {
        "id": "mT3KrW3qBiZC"
      }
    },
    {
      "cell_type": "code",
      "source": [
        "resultado = i * j\n",
        "print(\"A multiplicação de {0} * {1} = {2}\".format(i,j,resultado))"
      ],
      "metadata": {
        "colab": {
          "base_uri": "https://localhost:8080/"
        },
        "id": "XiIkHU8_BlQ6",
        "outputId": "0210dbc0-b8a6-49a9-9893-1d201b4ef901"
      },
      "execution_count": 16,
      "outputs": [
        {
          "output_type": "stream",
          "name": "stdout",
          "text": [
            "A multiplicação de 5 * 2 = 10\n"
          ]
        }
      ]
    },
    {
      "cell_type": "markdown",
      "source": [
        "**Divisão**"
      ],
      "metadata": {
        "id": "hxonn3LiB3Lm"
      }
    },
    {
      "cell_type": "code",
      "source": [
        "resultado = i / j\n",
        "print(\"A divisão de {0} / {1} = {2}\".format(i,j,resultado))"
      ],
      "metadata": {
        "colab": {
          "base_uri": "https://localhost:8080/"
        },
        "id": "s1awLEIjB5wl",
        "outputId": "f5f3f616-a33a-4a4b-e672-a357c92cf1ab"
      },
      "execution_count": 17,
      "outputs": [
        {
          "output_type": "stream",
          "name": "stdout",
          "text": [
            "A divisão de 5 / 2 = 2.5\n"
          ]
        }
      ]
    },
    {
      "cell_type": "markdown",
      "source": [
        "**Resto da Divisão**"
      ],
      "metadata": {
        "id": "U7SklV_XCGUt"
      }
    },
    {
      "cell_type": "code",
      "source": [
        "resultado = i % j\n",
        "print(\"O Resto da divisão de {0} % {1} = {2}\".format(i,j,resultado))"
      ],
      "metadata": {
        "colab": {
          "base_uri": "https://localhost:8080/"
        },
        "id": "TBL8kj1LCOBR",
        "outputId": "b727fbd7-637b-4c4a-b38b-6988cc213a2d"
      },
      "execution_count": 18,
      "outputs": [
        {
          "output_type": "stream",
          "name": "stdout",
          "text": [
            "O Resto da divisão de 5 % 2 = 1\n"
          ]
        }
      ]
    },
    {
      "cell_type": "markdown",
      "source": [
        "**Exponenciação**"
      ],
      "metadata": {
        "id": "bJd6FC5aCZ4o"
      }
    },
    {
      "cell_type": "code",
      "source": [
        "resultado = i ** j\n",
        "print(\"Exponenciação de {0} ** {1} = {2}\".format(i,j,resultado))"
      ],
      "metadata": {
        "colab": {
          "base_uri": "https://localhost:8080/"
        },
        "id": "2jhN4VkQCeKX",
        "outputId": "84da3c1b-4419-4bb0-8bd1-65d7b8198f5a"
      },
      "execution_count": 19,
      "outputs": [
        {
          "output_type": "stream",
          "name": "stdout",
          "text": [
            "Exponenciação de 5 ** 2 = 25\n"
          ]
        }
      ]
    }
  ]
}