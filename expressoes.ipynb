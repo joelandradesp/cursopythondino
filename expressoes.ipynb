{
  "nbformat": 4,
  "nbformat_minor": 0,
  "metadata": {
    "colab": {
      "provenance": [],
      "authorship_tag": "ABX9TyNpOBT9opbV5nUxl77Ctykv",
      "include_colab_link": true
    },
    "kernelspec": {
      "name": "python3",
      "display_name": "Python 3"
    },
    "language_info": {
      "name": "python"
    }
  },
  "cells": [
    {
      "cell_type": "markdown",
      "metadata": {
        "id": "view-in-github",
        "colab_type": "text"
      },
      "source": [
        "<a href=\"https://colab.research.google.com/github/joelandradesp/cursopythondino/blob/master/expressoes.ipynb\" target=\"_parent\"><img src=\"https://colab.research.google.com/assets/colab-badge.svg\" alt=\"Open In Colab\"/></a>"
      ]
    },
    {
      "cell_type": "code",
      "execution_count": null,
      "metadata": {
        "id": "Q7dIdmH-WLvN"
      },
      "outputs": [],
      "source": [
        "i = 5\n",
        "j = 2"
      ]
    },
    {
      "cell_type": "code",
      "source": [
        "resultado = i + j\n",
        "print(\"A Soma de {0} + {1} = {2}\".format(i,j,i+j))\n",
        "print(\"A Soma de {0} + {1} = {2}\".format(i,j,resultado))"
      ],
      "metadata": {
        "colab": {
          "base_uri": "https://localhost:8080/"
        },
        "id": "1ntPWpOFWUaR",
        "outputId": "f6224ad3-9db2-4e8d-bf03-9eec8eb2125a"
      },
      "execution_count": null,
      "outputs": [
        {
          "output_type": "stream",
          "name": "stdout",
          "text": [
            "A Soma de 5 + 2 = 7\n",
            "A Soma de 5 + 2 = 7\n"
          ]
        }
      ]
    },
    {
      "cell_type": "code",
      "source": [],
      "metadata": {
        "id": "T73J3bYDWbyC"
      },
      "execution_count": null,
      "outputs": []
    }
  ]
}