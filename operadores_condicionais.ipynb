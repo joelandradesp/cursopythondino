{
  "nbformat": 4,
  "nbformat_minor": 0,
  "metadata": {
    "colab": {
      "provenance": [],
      "authorship_tag": "ABX9TyMkSgFcNn4YwojAgvrMBk1b",
      "include_colab_link": true
    },
    "kernelspec": {
      "name": "python3",
      "display_name": "Python 3"
    },
    "language_info": {
      "name": "python"
    }
  },
  "cells": [
    {
      "cell_type": "markdown",
      "metadata": {
        "id": "view-in-github",
        "colab_type": "text"
      },
      "source": [
        "<a href=\"https://colab.research.google.com/github/joelandradesp/cursopythondino/blob/master/operadores_condicionais.ipynb\" target=\"_parent\"><img src=\"https://colab.research.google.com/assets/colab-badge.svg\" alt=\"Open In Colab\"/></a>"
      ]
    },
    {
      "cell_type": "code",
      "execution_count": 3,
      "metadata": {
        "colab": {
          "base_uri": "https://localhost:8080/"
        },
        "id": "XoCMJMHQAt54",
        "outputId": "7ef044e1-1f7e-49bf-ca32-6e24ba503919"
      },
      "outputs": [
        {
          "output_type": "stream",
          "name": "stdout",
          "text": [
            "10 == 15 = False\n"
          ]
        }
      ],
      "source": [
        "print(\"10 == 15 = {0}\".format(10  == 15))"
      ]
    },
    {
      "cell_type": "code",
      "source": [
        "print(\"10 != 15 = {0}\".format(10 != 15))"
      ],
      "metadata": {
        "colab": {
          "base_uri": "https://localhost:8080/"
        },
        "id": "ZDbpSqG8EE3h",
        "outputId": "0592124a-3c13-4ff0-ed8a-2625c0b32c0e"
      },
      "execution_count": 4,
      "outputs": [
        {
          "output_type": "stream",
          "name": "stdout",
          "text": [
            "10 != 15 = True\n"
          ]
        }
      ]
    },
    {
      "cell_type": "code",
      "source": [
        "print(\"a == a = {0}\".format(\"a\"  == \"a\"))"
      ],
      "metadata": {
        "colab": {
          "base_uri": "https://localhost:8080/"
        },
        "id": "BLc4uJ7EEL7L",
        "outputId": "74252828-691c-43c5-b495-1cf3d726e218"
      },
      "execution_count": 5,
      "outputs": [
        {
          "output_type": "stream",
          "name": "stdout",
          "text": [
            "a == a = True\n"
          ]
        }
      ]
    },
    {
      "cell_type": "code",
      "source": [
        "print(\"a != b = {0}\".format(\"a\"  != \"b\"))"
      ],
      "metadata": {
        "colab": {
          "base_uri": "https://localhost:8080/"
        },
        "id": "o8EgBhbrEWPs",
        "outputId": "6f496dcd-c9e5-4ebc-8d95-9d895f21ca7a"
      },
      "execution_count": 6,
      "outputs": [
        {
          "output_type": "stream",
          "name": "stdout",
          "text": [
            "a != b = True\n"
          ]
        }
      ]
    },
    {
      "cell_type": "code",
      "source": [
        "i = 5\n",
        "j = 4\n",
        "print(\"i > j = {0}\".format(i > j))"
      ],
      "metadata": {
        "colab": {
          "base_uri": "https://localhost:8080/"
        },
        "id": "TMEaoDi-EqB4",
        "outputId": "a036fac1-3e5b-4853-fa95-e70c1f52d640"
      },
      "execution_count": 9,
      "outputs": [
        {
          "output_type": "stream",
          "name": "stdout",
          "text": [
            "i > j = True\n"
          ]
        }
      ]
    },
    {
      "cell_type": "code",
      "source": [
        "i = 5\n",
        "j = 5\n",
        "print(\"i >= j = {0}\".format(i >= j))"
      ],
      "metadata": {
        "colab": {
          "base_uri": "https://localhost:8080/"
        },
        "id": "w1PIHW5ZFKJW",
        "outputId": "49a96df2-cb25-4d52-b054-0d0a02e04ad5"
      },
      "execution_count": 11,
      "outputs": [
        {
          "output_type": "stream",
          "name": "stdout",
          "text": [
            "i >= j = True\n"
          ]
        }
      ]
    },
    {
      "cell_type": "code",
      "source": [
        "i = 2\n",
        "j = 5\n",
        "print(\"i < j = {0}\".format(i < j))"
      ],
      "metadata": {
        "colab": {
          "base_uri": "https://localhost:8080/"
        },
        "id": "qCU_o5Y7FXo1",
        "outputId": "2a9ad094-0148-42de-da77-7886bf4960ac"
      },
      "execution_count": 12,
      "outputs": [
        {
          "output_type": "stream",
          "name": "stdout",
          "text": [
            "i < j = True\n"
          ]
        }
      ]
    },
    {
      "cell_type": "code",
      "source": [
        "i = 10\n",
        "j = 10\n",
        "print(\"i <= j = {0}\".format(i <= j))"
      ],
      "metadata": {
        "colab": {
          "base_uri": "https://localhost:8080/"
        },
        "id": "yO2TuwgSFh39",
        "outputId": "54fa5d00-d205-443e-87da-386985790927"
      },
      "execution_count": 13,
      "outputs": [
        {
          "output_type": "stream",
          "name": "stdout",
          "text": [
            "i <= j = True\n"
          ]
        }
      ]
    },
    {
      "cell_type": "code",
      "source": [
        "i = 15\n",
        "j = 15\n",
        "print(\"i == j = {0}\".format(i == j))"
      ],
      "metadata": {
        "colab": {
          "base_uri": "https://localhost:8080/"
        },
        "id": "_umYWFoEFrGA",
        "outputId": "413b669a-566f-4069-a2d9-29382b10f23a"
      },
      "execution_count": 14,
      "outputs": [
        {
          "output_type": "stream",
          "name": "stdout",
          "text": [
            "i == j = True\n"
          ]
        }
      ]
    },
    {
      "cell_type": "code",
      "source": [
        "i = 15\n",
        "j = 9\n",
        "print(\"i != j = {0}\".format(i != j))"
      ],
      "metadata": {
        "colab": {
          "base_uri": "https://localhost:8080/"
        },
        "id": "zCmfXequFyQu",
        "outputId": "0e320ee3-8be4-4468-8d81-ba13abecee77"
      },
      "execution_count": 15,
      "outputs": [
        {
          "output_type": "stream",
          "name": "stdout",
          "text": [
            "i != j = True\n"
          ]
        }
      ]
    }
  ]
}