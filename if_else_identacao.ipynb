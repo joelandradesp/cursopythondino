{
  "nbformat": 4,
  "nbformat_minor": 0,
  "metadata": {
    "colab": {
      "provenance": [],
      "authorship_tag": "ABX9TyMBfqOGalan/WlzBGOwa9HR",
      "include_colab_link": true
    },
    "kernelspec": {
      "name": "python3",
      "display_name": "Python 3"
    },
    "language_info": {
      "name": "python"
    }
  },
  "cells": [
    {
      "cell_type": "markdown",
      "metadata": {
        "id": "view-in-github",
        "colab_type": "text"
      },
      "source": [
        "<a href=\"https://colab.research.google.com/github/joelandradesp/cursopythondino/blob/master/if_else_identacao.ipynb\" target=\"_parent\"><img src=\"https://colab.research.google.com/assets/colab-badge.svg\" alt=\"Open In Colab\"/></a>"
      ]
    },
    {
      "cell_type": "code",
      "execution_count": null,
      "metadata": {
        "id": "4IS29qmFEoNy"
      },
      "outputs": [],
      "source": [
        "idade = 18"
      ]
    },
    {
      "cell_type": "code",
      "source": [
        "if idade < 10:\n",
        "    print(\"Criança\")\n",
        "else:\n",
        "    if idade < 18:\n",
        "        print(\"Adolescente\")\n",
        "    else:\n",
        "        print(\"Adulto\")"
      ],
      "metadata": {
        "colab": {
          "base_uri": "https://localhost:8080/"
        },
        "id": "F1lp-yd9Erqn",
        "outputId": "7c9ce188-2f59-49da-9175-3aec0483f161"
      },
      "execution_count": null,
      "outputs": [
        {
          "output_type": "stream",
          "name": "stdout",
          "text": [
            "Adulto\n"
          ]
        }
      ]
    }
  ]
}