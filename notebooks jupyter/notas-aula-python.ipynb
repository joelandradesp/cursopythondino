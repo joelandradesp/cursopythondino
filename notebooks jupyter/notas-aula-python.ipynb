{
 "cells": [
  {
   "cell_type": "markdown",
   "id": "535813a1",
   "metadata": {},
   "source": [
    "# Intro Python"
   ]
  },
  {
   "cell_type": "code",
   "execution_count": 4,
   "id": "333eb542",
   "metadata": {},
   "outputs": [
    {
     "name": "stdout",
     "output_type": "stream",
     "text": [
      "Olá mundo\n"
     ]
    }
   ],
   "source": [
    "print('Olá mundo')"
   ]
  },
  {
   "cell_type": "code",
   "execution_count": 5,
   "id": "935b5f53",
   "metadata": {
    "scrolled": true
   },
   "outputs": [
    {
     "name": "stdout",
     "output_type": "stream",
     "text": [
      "Ola \n",
      "Mundo\n",
      "4\n"
     ]
    }
   ],
   "source": [
    "print('Ola ')\n",
    "print('Mundo')\n",
    "print(2+2)\n"
   ]
  },
  {
   "cell_type": "markdown",
   "id": "6b6bcb95",
   "metadata": {},
   "source": [
    "## Strings"
   ]
  },
  {
   "cell_type": "code",
   "execution_count": 6,
   "id": "30c4d6f0",
   "metadata": {},
   "outputs": [],
   "source": [
    "nome = 'Joel'\n",
    "sobrenome = 'Andrade'"
   ]
  },
  {
   "cell_type": "code",
   "execution_count": 7,
   "id": "b23f4f0d",
   "metadata": {},
   "outputs": [
    {
     "name": "stdout",
     "output_type": "stream",
     "text": [
      "Joel Andrade\n"
     ]
    }
   ],
   "source": [
    "print(nome,sobrenome)"
   ]
  },
  {
   "cell_type": "code",
   "execution_count": 8,
   "id": "4e869ddb",
   "metadata": {},
   "outputs": [
    {
     "name": "stdout",
     "output_type": "stream",
     "text": [
      "Joel\n",
      "\n",
      "Andrade\n"
     ]
    }
   ],
   "source": [
    "print(nome)\n",
    "print()\n",
    "print(sobrenome)"
   ]
  },
  {
   "cell_type": "code",
   "execution_count": 9,
   "id": "c3bfeb74",
   "metadata": {},
   "outputs": [
    {
     "name": "stdout",
     "output_type": "stream",
     "text": [
      "Dino ' Magri\n"
     ]
    }
   ],
   "source": [
    "print(\"Dino ' Magri\")"
   ]
  },
  {
   "cell_type": "code",
   "execution_count": 10,
   "id": "2591cc3d",
   "metadata": {},
   "outputs": [
    {
     "ename": "SyntaxError",
     "evalue": "invalid syntax (1256916114.py, line 1)",
     "output_type": "error",
     "traceback": [
      "\u001b[1;36m  File \u001b[1;32m\"C:\\Users\\joelg\\AppData\\Local\\Temp\\ipykernel_20016\\1256916114.py\"\u001b[1;36m, line \u001b[1;32m1\u001b[0m\n\u001b[1;33m    print('Dino ' Magri')\u001b[0m\n\u001b[1;37m                  ^\u001b[0m\n\u001b[1;31mSyntaxError\u001b[0m\u001b[1;31m:\u001b[0m invalid syntax\n"
     ]
    }
   ],
   "source": [
    "print('Dino ' Magri')"
   ]
  },
  {
   "cell_type": "code",
   "execution_count": 12,
   "id": "b7ff71a7",
   "metadata": {},
   "outputs": [
    {
     "name": "stdout",
     "output_type": "stream",
     "text": [
      "Joel ' Andrade\n"
     ]
    }
   ],
   "source": [
    "print(\"Joel ' Andrade\")"
   ]
  },
  {
   "cell_type": "code",
   "execution_count": 13,
   "id": "0ab20019",
   "metadata": {},
   "outputs": [
    {
     "name": "stdout",
     "output_type": "stream",
     "text": [
      "Dino ' Magri\n"
     ]
    }
   ],
   "source": [
    "print('Dino \\' Magri')"
   ]
  },
  {
   "cell_type": "code",
   "execution_count": 18,
   "id": "40f4640a",
   "metadata": {},
   "outputs": [],
   "source": [
    "nome = 'Joel Andrade'"
   ]
  },
  {
   "cell_type": "code",
   "execution_count": 19,
   "id": "5bb343e2",
   "metadata": {},
   "outputs": [
    {
     "name": "stdout",
     "output_type": "stream",
     "text": [
      "Joel Andrade\n"
     ]
    }
   ],
   "source": [
    "print(nome)"
   ]
  },
  {
   "cell_type": "code",
   "execution_count": 23,
   "id": "09e31783",
   "metadata": {},
   "outputs": [
    {
     "name": "stdout",
     "output_type": "stream",
     "text": [
      "joel andrade\n"
     ]
    }
   ],
   "source": [
    "print(nome.lower())"
   ]
  },
  {
   "cell_type": "code",
   "execution_count": 24,
   "id": "6f6aea62",
   "metadata": {},
   "outputs": [
    {
     "data": {
      "text/plain": [
       "4"
      ]
     },
     "execution_count": 24,
     "metadata": {},
     "output_type": "execute_result"
    }
   ],
   "source": [
    "2 + 2"
   ]
  },
  {
   "cell_type": "code",
   "execution_count": 25,
   "id": "f6c55e13",
   "metadata": {},
   "outputs": [
    {
     "name": "stdout",
     "output_type": "stream",
     "text": [
      "Eu \n",
      " sou uma string\n"
     ]
    }
   ],
   "source": [
    "print(\"Eu \\n sou uma string\")"
   ]
  },
  {
   "cell_type": "code",
   "execution_count": 26,
   "id": "ae4c6abf",
   "metadata": {},
   "outputs": [
    {
     "name": "stdout",
     "output_type": "stream",
     "text": [
      "Eu n sou uma \tstring\n"
     ]
    }
   ],
   "source": [
    "print(\"Eu n sou uma \\tstring\")"
   ]
  },
  {
   "cell_type": "code",
   "execution_count": 27,
   "id": "5e407341",
   "metadata": {},
   "outputs": [
    {
     "name": "stdout",
     "output_type": "stream",
     "text": [
      "Eu \\n sou uma \\t string\n"
     ]
    }
   ],
   "source": [
    "print(\"Eu \\\\n sou uma \\\\t string\")"
   ]
  },
  {
   "cell_type": "code",
   "execution_count": 28,
   "id": "b64f67e6",
   "metadata": {},
   "outputs": [
    {
     "name": "stdout",
     "output_type": "stream",
     "text": [
      "Eu \\\\n sou uma \\\\t string\n"
     ]
    }
   ],
   "source": [
    "print(r\"Eu \\\\n sou uma \\\\t string\")"
   ]
  },
  {
   "cell_type": "code",
   "execution_count": 31,
   "id": "3023c3d9",
   "metadata": {},
   "outputs": [],
   "source": [
    "nome = \"FIA\"\n",
    "idade = 35"
   ]
  },
  {
   "cell_type": "code",
   "execution_count": 32,
   "id": "a6c56abc",
   "metadata": {},
   "outputs": [
    {
     "name": "stdout",
     "output_type": "stream",
     "text": [
      "A FIA tem 35 anos\n"
     ]
    }
   ],
   "source": [
    "print(\"A {} tem {} anos\".format(nome,idade))"
   ]
  },
  {
   "cell_type": "code",
   "execution_count": 33,
   "id": "88a6ccf3",
   "metadata": {},
   "outputs": [
    {
     "name": "stdout",
     "output_type": "stream",
     "text": [
      "A  FIA tem 35 anos\n"
     ]
    }
   ],
   "source": [
    "print(\"A \", nome, \"tem\", idade, \"anos\")"
   ]
  },
  {
   "cell_type": "code",
   "execution_count": 34,
   "id": "a6317b57",
   "metadata": {},
   "outputs": [
    {
     "name": "stdout",
     "output_type": "stream",
     "text": [
      "A FIA tem 35 anos\n"
     ]
    }
   ],
   "source": [
    "print(f\"A {nome} tem {idade} anos\")"
   ]
  },
  {
   "cell_type": "code",
   "execution_count": 35,
   "id": "cdb573a7",
   "metadata": {},
   "outputs": [
    {
     "data": {
      "text/plain": [
       "'EU SOU UMA STRING'"
      ]
     },
     "execution_count": 35,
     "metadata": {},
     "output_type": "execute_result"
    }
   ],
   "source": [
    "\"eu sou uma string\".upper()"
   ]
  },
  {
   "cell_type": "code",
   "execution_count": 37,
   "id": "09503d76",
   "metadata": {},
   "outputs": [
    {
     "name": "stdout",
     "output_type": "stream",
     "text": [
      "EU SOU UMA STRING\n"
     ]
    }
   ],
   "source": [
    "aux = \"eu sou uma string\".upper()\n",
    "print(aux)"
   ]
  },
  {
   "cell_type": "code",
   "execution_count": 39,
   "id": "d1424988",
   "metadata": {},
   "outputs": [
    {
     "name": "stdout",
     "output_type": "stream",
     "text": [
      "Eu Sou Uma String\n"
     ]
    }
   ],
   "source": [
    "aux = \"eu sou uma string\".title()\n",
    "print(aux)"
   ]
  },
  {
   "cell_type": "code",
   "execution_count": 40,
   "id": "5837183d",
   "metadata": {},
   "outputs": [
    {
     "data": {
      "text/plain": [
       "'FIA'"
      ]
     },
     "execution_count": 40,
     "metadata": {},
     "output_type": "execute_result"
    }
   ],
   "source": [
    "nome"
   ]
  },
  {
   "cell_type": "code",
   "execution_count": 41,
   "id": "f67559e5",
   "metadata": {},
   "outputs": [],
   "source": [
    "nome = \"Joel\"\n",
    "sobrenome = \"Andrade\""
   ]
  },
  {
   "cell_type": "code",
   "execution_count": 42,
   "id": "58806bf9",
   "metadata": {},
   "outputs": [
    {
     "data": {
      "text/plain": [
       "'JoelAndrade'"
      ]
     },
     "execution_count": 42,
     "metadata": {},
     "output_type": "execute_result"
    }
   ],
   "source": [
    "nome + sobrenome"
   ]
  },
  {
   "cell_type": "code",
   "execution_count": 43,
   "id": "e00b2033",
   "metadata": {},
   "outputs": [],
   "source": [
    "nome = \"Joel \"\n",
    "sobrenome = \"Andrade\""
   ]
  },
  {
   "cell_type": "code",
   "execution_count": 44,
   "id": "d2116dc6",
   "metadata": {},
   "outputs": [
    {
     "data": {
      "text/plain": [
       "'Joel Andrade'"
      ]
     },
     "execution_count": 44,
     "metadata": {},
     "output_type": "execute_result"
    }
   ],
   "source": [
    "nome + sobrenome"
   ]
  },
  {
   "cell_type": "code",
   "execution_count": 45,
   "id": "91ecfa44",
   "metadata": {},
   "outputs": [
    {
     "data": {
      "text/plain": [
       "'----------'"
      ]
     },
     "execution_count": 45,
     "metadata": {},
     "output_type": "execute_result"
    }
   ],
   "source": [
    "'-' * 10"
   ]
  },
  {
   "cell_type": "code",
   "execution_count": 46,
   "id": "02451ab5",
   "metadata": {},
   "outputs": [
    {
     "data": {
      "text/plain": [
       "'----------------------------------------------------------------------------------------------------------------------------------------------------------------------------------------------------------------------------------------------------------------------------------------------------------------------------------------------------------------------------------------------------------------------------------------------------------------------------------------------------------------------------------------------------------------------------------------------------------------------------------------------------------------------------------------------------------------------------------------------------------------------------------------------------------------------------------------------------------------------------------------------------------------------------------------------------------------------------------------------------------------------------------------'"
      ]
     },
     "execution_count": 46,
     "metadata": {},
     "output_type": "execute_result"
    }
   ],
   "source": [
    "'-' * 1000"
   ]
  },
  {
   "cell_type": "code",
   "execution_count": 47,
   "id": "8c09d8f7",
   "metadata": {},
   "outputs": [
    {
     "data": {
      "text/plain": [
       "'----------'"
      ]
     },
     "execution_count": 47,
     "metadata": {},
     "output_type": "execute_result"
    }
   ],
   "source": [
    "'-' + '-'+ '-'+ '-'+ '-'+ '-'+ '-'+ '-'+ '-'+ '-'"
   ]
  },
  {
   "cell_type": "code",
   "execution_count": 48,
   "id": "40e35070",
   "metadata": {},
   "outputs": [
    {
     "data": {
      "text/plain": [
       "14"
      ]
     },
     "execution_count": 48,
     "metadata": {},
     "output_type": "execute_result"
    }
   ],
   "source": [
    "mensagem = \"Big Data + FIA\"\n",
    "len(mensagem)"
   ]
  },
  {
   "cell_type": "code",
   "execution_count": 49,
   "id": "34fe3f83",
   "metadata": {},
   "outputs": [],
   "source": [
    "s = \"Python\""
   ]
  },
  {
   "cell_type": "code",
   "execution_count": 50,
   "id": "5b899a66",
   "metadata": {},
   "outputs": [
    {
     "name": "stdout",
     "output_type": "stream",
     "text": [
      "Python\n"
     ]
    }
   ],
   "source": [
    "print(s)"
   ]
  },
  {
   "cell_type": "code",
   "execution_count": 51,
   "id": "925ed576",
   "metadata": {},
   "outputs": [
    {
     "data": {
      "text/plain": [
       "'P'"
      ]
     },
     "execution_count": 51,
     "metadata": {},
     "output_type": "execute_result"
    }
   ],
   "source": [
    "s[0]"
   ]
  },
  {
   "cell_type": "code",
   "execution_count": 52,
   "id": "dc078c7d",
   "metadata": {},
   "outputs": [
    {
     "name": "stdout",
     "output_type": "stream",
     "text": [
      "P\n"
     ]
    }
   ],
   "source": [
    "print(s[0])"
   ]
  },
  {
   "cell_type": "code",
   "execution_count": 53,
   "id": "04049b08",
   "metadata": {},
   "outputs": [
    {
     "name": "stdout",
     "output_type": "stream",
     "text": [
      "h\n"
     ]
    }
   ],
   "source": [
    "print(s[3])"
   ]
  },
  {
   "cell_type": "code",
   "execution_count": 54,
   "id": "38895736",
   "metadata": {},
   "outputs": [
    {
     "name": "stdout",
     "output_type": "stream",
     "text": [
      "Py\n"
     ]
    }
   ],
   "source": [
    "print(s[0:2])"
   ]
  },
  {
   "cell_type": "code",
   "execution_count": 55,
   "id": "cff07d5a",
   "metadata": {},
   "outputs": [
    {
     "name": "stdout",
     "output_type": "stream",
     "text": [
      "thon\n"
     ]
    }
   ],
   "source": [
    "print(s[2:])"
   ]
  },
  {
   "cell_type": "code",
   "execution_count": 56,
   "id": "ecbfa797",
   "metadata": {},
   "outputs": [
    {
     "name": "stdout",
     "output_type": "stream",
     "text": [
      "tho\n"
     ]
    }
   ],
   "source": [
    "print(s[2:5])"
   ]
  },
  {
   "cell_type": "code",
   "execution_count": 57,
   "id": "73ea4973",
   "metadata": {},
   "outputs": [
    {
     "name": "stdout",
     "output_type": "stream",
     "text": [
      "n\n"
     ]
    }
   ],
   "source": [
    "print(s[-1])"
   ]
  },
  {
   "cell_type": "code",
   "execution_count": 58,
   "id": "bc47c18d",
   "metadata": {},
   "outputs": [
    {
     "name": "stdout",
     "output_type": "stream",
     "text": [
      "on\n"
     ]
    }
   ],
   "source": [
    "print(s[-2:])"
   ]
  },
  {
   "cell_type": "code",
   "execution_count": 60,
   "id": "79fba73a",
   "metadata": {},
   "outputs": [
    {
     "data": {
      "text/plain": [
       "'Joel '"
      ]
     },
     "execution_count": 60,
     "metadata": {},
     "output_type": "execute_result"
    }
   ],
   "source": [
    "nome"
   ]
  },
  {
   "cell_type": "code",
   "execution_count": 61,
   "id": "e94295ef",
   "metadata": {},
   "outputs": [
    {
     "ename": "TypeError",
     "evalue": "'str' object does not support item assignment",
     "output_type": "error",
     "traceback": [
      "\u001b[1;31m---------------------------------------------------------------------------\u001b[0m",
      "\u001b[1;31mTypeError\u001b[0m                                 Traceback (most recent call last)",
      "\u001b[1;32m~\\AppData\\Local\\Temp\\ipykernel_20016\\290638248.py\u001b[0m in \u001b[0;36m<module>\u001b[1;34m\u001b[0m\n\u001b[1;32m----> 1\u001b[1;33m \u001b[0mnome\u001b[0m\u001b[1;33m[\u001b[0m\u001b[1;36m2\u001b[0m\u001b[1;33m]\u001b[0m \u001b[1;33m=\u001b[0m \u001b[1;34m\"E\"\u001b[0m\u001b[1;33m\u001b[0m\u001b[1;33m\u001b[0m\u001b[0m\n\u001b[0m",
      "\u001b[1;31mTypeError\u001b[0m: 'str' object does not support item assignment"
     ]
    }
   ],
   "source": [
    "nome[2] = \"E\""
   ]
  },
  {
   "cell_type": "code",
   "execution_count": 65,
   "id": "3dd889d5",
   "metadata": {},
   "outputs": [],
   "source": [
    "nome = nome[:2] + \"E\" + nome[3:]"
   ]
  },
  {
   "cell_type": "code",
   "execution_count": 66,
   "id": "fbc45986",
   "metadata": {},
   "outputs": [
    {
     "data": {
      "text/plain": [
       "'JoEl '"
      ]
     },
     "execution_count": 66,
     "metadata": {},
     "output_type": "execute_result"
    }
   ],
   "source": [
    "nome"
   ]
  },
  {
   "cell_type": "code",
   "execution_count": 67,
   "id": "292c053a",
   "metadata": {},
   "outputs": [],
   "source": [
    "a = \"Eu sou uma string\""
   ]
  },
  {
   "cell_type": "code",
   "execution_count": 68,
   "id": "1f6f86b0",
   "metadata": {},
   "outputs": [
    {
     "name": "stdout",
     "output_type": "stream",
     "text": [
      "E\n"
     ]
    }
   ],
   "source": [
    "print(a[0])"
   ]
  },
  {
   "cell_type": "code",
   "execution_count": 69,
   "id": "7a1003d9",
   "metadata": {},
   "outputs": [
    {
     "name": "stdout",
     "output_type": "stream",
     "text": [
      "Eu sou\n"
     ]
    }
   ],
   "source": [
    "print(a[:6])"
   ]
  },
  {
   "cell_type": "code",
   "execution_count": 70,
   "id": "4424ade1",
   "metadata": {},
   "outputs": [
    {
     "name": "stdout",
     "output_type": "stream",
     "text": [
      "string\n"
     ]
    }
   ],
   "source": [
    "print(a[-6:])"
   ]
  },
  {
   "cell_type": "code",
   "execution_count": 71,
   "id": "11d4f7e5",
   "metadata": {},
   "outputs": [
    {
     "name": "stdout",
     "output_type": "stream",
     "text": [
      "u so\n"
     ]
    }
   ],
   "source": [
    "print(a[1:5])"
   ]
  },
  {
   "cell_type": "code",
   "execution_count": 72,
   "id": "d38c7221",
   "metadata": {},
   "outputs": [
    {
     "name": "stdout",
     "output_type": "stream",
     "text": [
      "Eu sou uma strin\n"
     ]
    }
   ],
   "source": [
    "print(a[:-1])"
   ]
  },
  {
   "cell_type": "code",
   "execution_count": 81,
   "id": "67335a0f",
   "metadata": {},
   "outputs": [],
   "source": [
    "titulo = \"titulo com primeiro caractere em maísculo\""
   ]
  },
  {
   "cell_type": "code",
   "execution_count": 74,
   "id": "ee7825ac",
   "metadata": {},
   "outputs": [
    {
     "data": {
      "text/plain": [
       "'Titulo com primeiro caractere em maísculo'"
      ]
     },
     "execution_count": 74,
     "metadata": {},
     "output_type": "execute_result"
    }
   ],
   "source": [
    "titulo.capitalize()"
   ]
  },
  {
   "cell_type": "code",
   "execution_count": 77,
   "id": "7e2b6689",
   "metadata": {},
   "outputs": [
    {
     "data": {
      "text/plain": [
       "5"
      ]
     },
     "execution_count": 77,
     "metadata": {},
     "output_type": "execute_result"
    }
   ],
   "source": [
    "titulo.find('o')"
   ]
  },
  {
   "cell_type": "code",
   "execution_count": 78,
   "id": "11e547b4",
   "metadata": {},
   "outputs": [
    {
     "data": {
      "text/plain": [
       "0"
      ]
     },
     "execution_count": 78,
     "metadata": {},
     "output_type": "execute_result"
    }
   ],
   "source": [
    "titulo.count('o)')"
   ]
  },
  {
   "cell_type": "code",
   "execution_count": 79,
   "id": "20d68690",
   "metadata": {},
   "outputs": [
    {
     "data": {
      "text/plain": [
       "4"
      ]
     },
     "execution_count": 79,
     "metadata": {},
     "output_type": "execute_result"
    }
   ],
   "source": [
    "titulo.count('o')"
   ]
  },
  {
   "cell_type": "code",
   "execution_count": 82,
   "id": "ad85afe2",
   "metadata": {},
   "outputs": [
    {
     "data": {
      "text/plain": [
       "2"
      ]
     },
     "execution_count": 82,
     "metadata": {},
     "output_type": "execute_result"
    }
   ],
   "source": [
    "titulo.count('titulo')"
   ]
  },
  {
   "cell_type": "code",
   "execution_count": 83,
   "id": "b1e68914",
   "metadata": {},
   "outputs": [],
   "source": [
    "mensagem = \"A data de Hoje é superior a data de ontem.\""
   ]
  },
  {
   "cell_type": "code",
   "execution_count": 84,
   "id": "1d4e0b72",
   "metadata": {},
   "outputs": [
    {
     "data": {
      "text/plain": [
       "2"
      ]
     },
     "execution_count": 84,
     "metadata": {},
     "output_type": "execute_result"
    }
   ],
   "source": [
    "mensagem.count('data')"
   ]
  },
  {
   "cell_type": "code",
   "execution_count": 85,
   "id": "1d1a7ee9",
   "metadata": {},
   "outputs": [
    {
     "data": {
      "text/plain": [
       "0"
      ]
     },
     "execution_count": 85,
     "metadata": {},
     "output_type": "execute_result"
    }
   ],
   "source": [
    "mensagem.count('datax')"
   ]
  },
  {
   "cell_type": "code",
   "execution_count": 86,
   "id": "5e1cfff7",
   "metadata": {},
   "outputs": [
    {
     "data": {
      "text/plain": [
       "True"
      ]
     },
     "execution_count": 86,
     "metadata": {},
     "output_type": "execute_result"
    }
   ],
   "source": [
    "mensagem.startswith('A data')"
   ]
  },
  {
   "cell_type": "code",
   "execution_count": 87,
   "id": "2904502c",
   "metadata": {},
   "outputs": [
    {
     "data": {
      "text/plain": [
       "False"
      ]
     },
     "execution_count": 87,
     "metadata": {},
     "output_type": "execute_result"
    }
   ],
   "source": [
    "mensagem.startswith(\"a data\")"
   ]
  },
  {
   "cell_type": "markdown",
   "id": "8f1b4ed5",
   "metadata": {},
   "source": [
    "## Listas"
   ]
  },
  {
   "cell_type": "code",
   "execution_count": 100,
   "id": "30ebac5b",
   "metadata": {},
   "outputs": [],
   "source": [
    "numeros = [1, 2, 3, 4, 5, 6]"
   ]
  },
  {
   "cell_type": "code",
   "execution_count": 101,
   "id": "7cdee317",
   "metadata": {},
   "outputs": [
    {
     "name": "stdout",
     "output_type": "stream",
     "text": [
      "[1, 2, 3, 4, 5, 6]\n"
     ]
    }
   ],
   "source": [
    "print(numeros)"
   ]
  },
  {
   "cell_type": "code",
   "execution_count": 102,
   "id": "6a4a4371",
   "metadata": {},
   "outputs": [
    {
     "name": "stdout",
     "output_type": "stream",
     "text": [
      "<class 'list'>\n"
     ]
    }
   ],
   "source": [
    "print(type(numeros))"
   ]
  },
  {
   "cell_type": "code",
   "execution_count": 103,
   "id": "deba9829",
   "metadata": {},
   "outputs": [],
   "source": [
    "letras = list('abcd')"
   ]
  },
  {
   "cell_type": "code",
   "execution_count": 104,
   "id": "152602cb",
   "metadata": {},
   "outputs": [
    {
     "name": "stdout",
     "output_type": "stream",
     "text": [
      "['a', 'b', 'c', 'd']\n"
     ]
    }
   ],
   "source": [
    "print(letras)"
   ]
  },
  {
   "cell_type": "code",
   "execution_count": 105,
   "id": "dd8ebf85",
   "metadata": {},
   "outputs": [
    {
     "data": {
      "text/plain": [
       "[1, 2, 3, 4, 5, 6, 7, 8, 9, 10]"
      ]
     },
     "execution_count": 105,
     "metadata": {},
     "output_type": "execute_result"
    }
   ],
   "source": [
    "numeros + [7, 8, 9, 10]"
   ]
  },
  {
   "cell_type": "code",
   "execution_count": 106,
   "id": "8e88a5c9",
   "metadata": {},
   "outputs": [],
   "source": [
    "n = numeros + [7, 8, 9, 10]"
   ]
  },
  {
   "cell_type": "code",
   "execution_count": 107,
   "id": "dc3a0da9",
   "metadata": {},
   "outputs": [
    {
     "name": "stdout",
     "output_type": "stream",
     "text": [
      "[1, 2, 3, 4, 5, 6, 7, 8, 9, 10]\n"
     ]
    }
   ],
   "source": [
    "print(n)"
   ]
  },
  {
   "cell_type": "code",
   "execution_count": 108,
   "id": "bbd4c588",
   "metadata": {},
   "outputs": [
    {
     "name": "stdout",
     "output_type": "stream",
     "text": [
      "[1, 2, 3, 4, 5, 6, 7, 8, 9, 10]\n"
     ]
    }
   ],
   "source": [
    "numeros = numeros + [7, 8, 9, 10]\n",
    "print(numeros)"
   ]
  },
  {
   "cell_type": "code",
   "execution_count": 109,
   "id": "97d77ad5",
   "metadata": {},
   "outputs": [
    {
     "data": {
      "text/plain": [
       "1"
      ]
     },
     "execution_count": 109,
     "metadata": {},
     "output_type": "execute_result"
    }
   ],
   "source": [
    "numeros[0]"
   ]
  },
  {
   "cell_type": "code",
   "execution_count": 110,
   "id": "f12e00c2",
   "metadata": {},
   "outputs": [
    {
     "data": {
      "text/plain": [
       "10"
      ]
     },
     "execution_count": 110,
     "metadata": {},
     "output_type": "execute_result"
    }
   ],
   "source": [
    "numeros[-1]"
   ]
  },
  {
   "cell_type": "code",
   "execution_count": 111,
   "id": "8e717070",
   "metadata": {},
   "outputs": [
    {
     "data": {
      "text/plain": [
       "[5, 6, 7, 8]"
      ]
     },
     "execution_count": 111,
     "metadata": {},
     "output_type": "execute_result"
    }
   ],
   "source": [
    "numeros[4:8]"
   ]
  },
  {
   "cell_type": "code",
   "execution_count": 168,
   "id": "4199cb15",
   "metadata": {},
   "outputs": [
    {
     "name": "stdout",
     "output_type": "stream",
     "text": [
      "[1, 2.5, True, None, [1, 2], 'abcd']\n"
     ]
    }
   ],
   "source": [
    "teste = [1, 2.5, True, None, [1,2], 'abcd']\n",
    "print(teste)"
   ]
  },
  {
   "cell_type": "code",
   "execution_count": 169,
   "id": "f05d670e",
   "metadata": {},
   "outputs": [],
   "source": [
    "import math"
   ]
  },
  {
   "cell_type": "code",
   "execution_count": 170,
   "id": "9f2d058d",
   "metadata": {},
   "outputs": [
    {
     "name": "stdout",
     "output_type": "stream",
     "text": [
      "[1, 2.5, True, None, [1, 2], 'abcd', <module 'math' (built-in)>]\n"
     ]
    }
   ],
   "source": [
    "teste = [1, 2.5, True, None, [1,2], 'abcd', math]\n",
    "print(teste)"
   ]
  },
  {
   "cell_type": "code",
   "execution_count": 171,
   "id": "247dbb35",
   "metadata": {},
   "outputs": [],
   "source": [
    "num = [1, 2, 3]\n",
    "prod = ['ipad', 'note', 'pc', 's20']"
   ]
  },
  {
   "cell_type": "code",
   "execution_count": 173,
   "id": "823233af",
   "metadata": {},
   "outputs": [
    {
     "name": "stdout",
     "output_type": "stream",
     "text": [
      "[[1, 2, 3], ['ipad', 'note', 'pc', 's20']]\n"
     ]
    }
   ],
   "source": [
    "lst = [num, prod]\n",
    "print(lst)"
   ]
  },
  {
   "cell_type": "code",
   "execution_count": 174,
   "id": "1f2e3ee0",
   "metadata": {},
   "outputs": [
    {
     "name": "stdout",
     "output_type": "stream",
     "text": [
      "2\n"
     ]
    }
   ],
   "source": [
    "print(len(lst))"
   ]
  },
  {
   "cell_type": "code",
   "execution_count": 175,
   "id": "6680d148",
   "metadata": {},
   "outputs": [
    {
     "name": "stdout",
     "output_type": "stream",
     "text": [
      "[1, 2, 3]\n"
     ]
    }
   ],
   "source": [
    "print(lst[0])"
   ]
  },
  {
   "cell_type": "code",
   "execution_count": 176,
   "id": "d6081d69",
   "metadata": {},
   "outputs": [
    {
     "data": {
      "text/plain": [
       "3"
      ]
     },
     "execution_count": 176,
     "metadata": {},
     "output_type": "execute_result"
    }
   ],
   "source": [
    "len(lst[0])"
   ]
  },
  {
   "cell_type": "code",
   "execution_count": 177,
   "id": "6c7da5ce",
   "metadata": {},
   "outputs": [
    {
     "data": {
      "text/plain": [
       "4"
      ]
     },
     "execution_count": 177,
     "metadata": {},
     "output_type": "execute_result"
    }
   ],
   "source": [
    "len(lst[1])"
   ]
  },
  {
   "cell_type": "code",
   "execution_count": 179,
   "id": "5adec9a8",
   "metadata": {},
   "outputs": [
    {
     "data": {
      "text/plain": [
       "['ipad', 'note', 'pc', 's20']"
      ]
     },
     "execution_count": 179,
     "metadata": {},
     "output_type": "execute_result"
    }
   ],
   "source": [
    "aux = lst[1]\n",
    "aux"
   ]
  },
  {
   "cell_type": "code",
   "execution_count": 180,
   "id": "ae2f94b3",
   "metadata": {},
   "outputs": [
    {
     "data": {
      "text/plain": [
       "'note'"
      ]
     },
     "execution_count": 180,
     "metadata": {},
     "output_type": "execute_result"
    }
   ],
   "source": [
    "aux[1]"
   ]
  },
  {
   "cell_type": "code",
   "execution_count": 181,
   "id": "7a10039f",
   "metadata": {},
   "outputs": [
    {
     "data": {
      "text/plain": [
       "'note'"
      ]
     },
     "execution_count": 181,
     "metadata": {},
     "output_type": "execute_result"
    }
   ],
   "source": [
    "palavra = aux[1]\n",
    "palavra"
   ]
  },
  {
   "cell_type": "code",
   "execution_count": 167,
   "id": "0db6f685",
   "metadata": {},
   "outputs": [
    {
     "data": {
      "text/plain": [
       "'e'"
      ]
     },
     "execution_count": 167,
     "metadata": {},
     "output_type": "execute_result"
    }
   ],
   "source": [
    "letra = palavra[-1]\n",
    "letra"
   ]
  },
  {
   "cell_type": "raw",
   "id": "dfdf659c",
   "metadata": {},
   "source": [
    "letra = lst[1][1][-1]\n"
   ]
  },
  {
   "cell_type": "code",
   "execution_count": 189,
   "id": "4c83b08d",
   "metadata": {},
   "outputs": [
    {
     "data": {
      "text/plain": [
       "'e'"
      ]
     },
     "execution_count": 189,
     "metadata": {},
     "output_type": "execute_result"
    }
   ],
   "source": [
    "letra"
   ]
  },
  {
   "cell_type": "code",
   "execution_count": 184,
   "id": "ff3aa559",
   "metadata": {},
   "outputs": [
    {
     "data": {
      "text/plain": [
       "['ipad', 'note', 'pc', 's20']"
      ]
     },
     "execution_count": 184,
     "metadata": {},
     "output_type": "execute_result"
    }
   ],
   "source": [
    "lst[1]"
   ]
  },
  {
   "cell_type": "code",
   "execution_count": 185,
   "id": "a2bbfe88",
   "metadata": {},
   "outputs": [
    {
     "data": {
      "text/plain": [
       "'note'"
      ]
     },
     "execution_count": 185,
     "metadata": {},
     "output_type": "execute_result"
    }
   ],
   "source": [
    "lst[1][1].lower()"
   ]
  },
  {
   "cell_type": "code",
   "execution_count": 186,
   "id": "be31eb81",
   "metadata": {},
   "outputs": [
    {
     "data": {
      "text/plain": [
       "'NOTE'"
      ]
     },
     "execution_count": 186,
     "metadata": {},
     "output_type": "execute_result"
    }
   ],
   "source": [
    "lst[1][1].upper()"
   ]
  },
  {
   "cell_type": "code",
   "execution_count": 187,
   "id": "f3dfb269",
   "metadata": {},
   "outputs": [
    {
     "data": {
      "text/plain": [
       "'Note'"
      ]
     },
     "execution_count": 187,
     "metadata": {},
     "output_type": "execute_result"
    }
   ],
   "source": [
    "lst[1][1].title()"
   ]
  },
  {
   "cell_type": "code",
   "execution_count": 188,
   "id": "cb2e51be",
   "metadata": {},
   "outputs": [
    {
     "data": {
      "text/plain": [
       "'e'"
      ]
     },
     "execution_count": 188,
     "metadata": {},
     "output_type": "execute_result"
    }
   ],
   "source": [
    "lst[1][1][-1]"
   ]
  },
  {
   "cell_type": "code",
   "execution_count": 202,
   "id": "8b80a209",
   "metadata": {},
   "outputs": [],
   "source": [
    "n = ['c', 'a', 'b']"
   ]
  },
  {
   "cell_type": "code",
   "execution_count": 203,
   "id": "9d07571c",
   "metadata": {},
   "outputs": [
    {
     "ename": "TypeError",
     "evalue": "'<' not supported between instances of 'int' and 'str'",
     "output_type": "error",
     "traceback": [
      "\u001b[1;31m---------------------------------------------------------------------------\u001b[0m",
      "\u001b[1;31mTypeError\u001b[0m                                 Traceback (most recent call last)",
      "\u001b[1;32m~\\AppData\\Local\\Temp\\ipykernel_20016\\3340300590.py\u001b[0m in \u001b[0;36m<module>\u001b[1;34m\u001b[0m\n\u001b[1;32m----> 1\u001b[1;33m \u001b[0mn\u001b[0m\u001b[1;33m.\u001b[0m\u001b[0msort\u001b[0m\u001b[1;33m(\u001b[0m\u001b[1;33m)\u001b[0m\u001b[1;33m\u001b[0m\u001b[1;33m\u001b[0m\u001b[0m\n\u001b[0m",
      "\u001b[1;31mTypeError\u001b[0m: '<' not supported between instances of 'int' and 'str'"
     ]
    }
   ],
   "source": [
    "n.sort()"
   ]
  },
  {
   "cell_type": "code",
   "execution_count": 201,
   "id": "e6d60e50",
   "metadata": {},
   "outputs": [
    {
     "name": "stdout",
     "output_type": "stream",
     "text": [
      "['c', 'b', 'a']\n"
     ]
    }
   ],
   "source": [
    "print(n)"
   ]
  },
  {
   "cell_type": "code",
   "execution_count": 200,
   "id": "069a47fd",
   "metadata": {},
   "outputs": [
    {
     "data": {
      "text/plain": [
       "['c', 'b', 'a']"
      ]
     },
     "execution_count": 200,
     "metadata": {},
     "output_type": "execute_result"
    }
   ],
   "source": [
    "n.sort(reverse = True)\n",
    "n"
   ]
  },
  {
   "cell_type": "code",
   "execution_count": 206,
   "id": "ec50e8ff",
   "metadata": {},
   "outputs": [],
   "source": [
    "n = ['c', 'a' , 'b', '1', '<', 'ab']"
   ]
  },
  {
   "cell_type": "code",
   "execution_count": 208,
   "id": "5ec70d0a",
   "metadata": {},
   "outputs": [],
   "source": [
    "n.sort()"
   ]
  },
  {
   "cell_type": "code",
   "execution_count": 209,
   "id": "304500a3",
   "metadata": {},
   "outputs": [
    {
     "name": "stdout",
     "output_type": "stream",
     "text": [
      "['1', '<', 'a', 'ab', 'b', 'c']\n"
     ]
    }
   ],
   "source": [
    "print(n)"
   ]
  },
  {
   "cell_type": "code",
   "execution_count": 210,
   "id": "703a2728",
   "metadata": {},
   "outputs": [],
   "source": [
    "n = [9, 1, 8, 7, 6, 10]"
   ]
  },
  {
   "cell_type": "code",
   "execution_count": 211,
   "id": "463917c3",
   "metadata": {},
   "outputs": [],
   "source": [
    "n.sort(reverse=True)"
   ]
  },
  {
   "cell_type": "code",
   "execution_count": 212,
   "id": "57b9157f",
   "metadata": {},
   "outputs": [
    {
     "name": "stdout",
     "output_type": "stream",
     "text": [
      "[10, 9, 8, 7, 6, 1]\n"
     ]
    }
   ],
   "source": [
    "print(n)"
   ]
  },
  {
   "cell_type": "code",
   "execution_count": 216,
   "id": "daacc98a",
   "metadata": {},
   "outputs": [],
   "source": [
    "n = ['c', 'a', 'b']"
   ]
  },
  {
   "cell_type": "code",
   "execution_count": 217,
   "id": "9e8141c3",
   "metadata": {},
   "outputs": [],
   "source": [
    "n.append('d')"
   ]
  },
  {
   "cell_type": "code",
   "execution_count": 218,
   "id": "cffb11c6",
   "metadata": {},
   "outputs": [
    {
     "name": "stdout",
     "output_type": "stream",
     "text": [
      "['c', 'a', 'b', 'd']\n"
     ]
    }
   ],
   "source": [
    "print(n)"
   ]
  },
  {
   "cell_type": "code",
   "execution_count": 220,
   "id": "aadb1065",
   "metadata": {},
   "outputs": [
    {
     "ename": "TypeError",
     "evalue": "list.append() takes exactly one argument (2 given)",
     "output_type": "error",
     "traceback": [
      "\u001b[1;31m---------------------------------------------------------------------------\u001b[0m",
      "\u001b[1;31mTypeError\u001b[0m                                 Traceback (most recent call last)",
      "\u001b[1;32m~\\AppData\\Local\\Temp\\ipykernel_20016\\3036379030.py\u001b[0m in \u001b[0;36m<module>\u001b[1;34m\u001b[0m\n\u001b[1;32m----> 1\u001b[1;33m \u001b[0mn\u001b[0m\u001b[1;33m.\u001b[0m\u001b[0mappend\u001b[0m\u001b[1;33m(\u001b[0m\u001b[1;34m'g'\u001b[0m\u001b[1;33m,\u001b[0m \u001b[1;34m'i'\u001b[0m\u001b[1;33m)\u001b[0m\u001b[1;33m\u001b[0m\u001b[1;33m\u001b[0m\u001b[0m\n\u001b[0m",
      "\u001b[1;31mTypeError\u001b[0m: list.append() takes exactly one argument (2 given)"
     ]
    }
   ],
   "source": [
    "n.append('g', 'i')"
   ]
  },
  {
   "cell_type": "code",
   "execution_count": 221,
   "id": "5515a6fc",
   "metadata": {},
   "outputs": [],
   "source": [
    "n.append(['g','i'])"
   ]
  },
  {
   "cell_type": "code",
   "execution_count": 222,
   "id": "0a8d3620",
   "metadata": {},
   "outputs": [
    {
     "name": "stdout",
     "output_type": "stream",
     "text": [
      "['c', 'a', 'b', 'd', ['g', 'i']]\n"
     ]
    }
   ],
   "source": [
    "print(n)"
   ]
  },
  {
   "cell_type": "code",
   "execution_count": 223,
   "id": "a0e389bb",
   "metadata": {},
   "outputs": [
    {
     "data": {
      "text/plain": [
       "5"
      ]
     },
     "execution_count": 223,
     "metadata": {},
     "output_type": "execute_result"
    }
   ],
   "source": [
    "len(n)"
   ]
  },
  {
   "cell_type": "code",
   "execution_count": 226,
   "id": "4686413a",
   "metadata": {},
   "outputs": [],
   "source": [
    "n.extend(['g','i','a'])"
   ]
  },
  {
   "cell_type": "code",
   "execution_count": 227,
   "id": "02175c96",
   "metadata": {},
   "outputs": [
    {
     "name": "stdout",
     "output_type": "stream",
     "text": [
      "['c', 'a', 'b', 'd', ['g', 'i'], 'g', 'i', 'g', 'i', 'a']\n"
     ]
    }
   ],
   "source": [
    "print(n)"
   ]
  },
  {
   "cell_type": "code",
   "execution_count": 228,
   "id": "ad0712bb",
   "metadata": {},
   "outputs": [],
   "source": [
    "n.remove('a')"
   ]
  },
  {
   "cell_type": "code",
   "execution_count": 229,
   "id": "e433b510",
   "metadata": {},
   "outputs": [
    {
     "name": "stdout",
     "output_type": "stream",
     "text": [
      "['c', 'b', 'd', ['g', 'i'], 'g', 'i', 'g', 'i', 'a']\n"
     ]
    }
   ],
   "source": [
    "print(n)"
   ]
  },
  {
   "cell_type": "code",
   "execution_count": 230,
   "id": "6e4fc740",
   "metadata": {},
   "outputs": [
    {
     "data": {
      "text/plain": [
       "'a'"
      ]
     },
     "execution_count": 230,
     "metadata": {},
     "output_type": "execute_result"
    }
   ],
   "source": [
    "n.pop(-1)"
   ]
  },
  {
   "cell_type": "code",
   "execution_count": 231,
   "id": "a6948faa",
   "metadata": {},
   "outputs": [
    {
     "name": "stdout",
     "output_type": "stream",
     "text": [
      "['c', 'b', 'd', ['g', 'i'], 'g', 'i', 'g', 'i']\n"
     ]
    }
   ],
   "source": [
    "print(n)"
   ]
  },
  {
   "cell_type": "code",
   "execution_count": 232,
   "id": "a3dfa00c",
   "metadata": {},
   "outputs": [],
   "source": [
    "aux = n.pop(4)"
   ]
  },
  {
   "cell_type": "code",
   "execution_count": 233,
   "id": "4a05c1b7",
   "metadata": {},
   "outputs": [
    {
     "name": "stdout",
     "output_type": "stream",
     "text": [
      "g\n"
     ]
    }
   ],
   "source": [
    "print(aux)"
   ]
  },
  {
   "cell_type": "code",
   "execution_count": 234,
   "id": "1468af1f",
   "metadata": {},
   "outputs": [
    {
     "data": {
      "text/plain": [
       "['c', 'b', 'd', ['g', 'i'], 'i', 'g', 'i']"
      ]
     },
     "execution_count": 234,
     "metadata": {},
     "output_type": "execute_result"
    }
   ],
   "source": [
    "n"
   ]
  },
  {
   "cell_type": "code",
   "execution_count": 235,
   "id": "3ae8fcfb",
   "metadata": {},
   "outputs": [
    {
     "data": {
      "text/plain": [
       "2"
      ]
     },
     "execution_count": 235,
     "metadata": {},
     "output_type": "execute_result"
    }
   ],
   "source": [
    "n.index('d')"
   ]
  },
  {
   "cell_type": "code",
   "execution_count": 236,
   "id": "946e9e30",
   "metadata": {},
   "outputs": [
    {
     "data": {
      "text/plain": [
       "'d'"
      ]
     },
     "execution_count": 236,
     "metadata": {},
     "output_type": "execute_result"
    }
   ],
   "source": [
    "n.pop(n.index('d'))"
   ]
  },
  {
   "cell_type": "code",
   "execution_count": 237,
   "id": "9490e979",
   "metadata": {},
   "outputs": [
    {
     "data": {
      "text/plain": [
       "['c', 'b', ['g', 'i'], 'i', 'g', 'i']"
      ]
     },
     "execution_count": 237,
     "metadata": {},
     "output_type": "execute_result"
    }
   ],
   "source": [
    "n"
   ]
  },
  {
   "cell_type": "code",
   "execution_count": 238,
   "id": "8bd254a3",
   "metadata": {},
   "outputs": [
    {
     "ename": "AttributeError",
     "evalue": "'list' object has no attribute 'find'",
     "output_type": "error",
     "traceback": [
      "\u001b[1;31m---------------------------------------------------------------------------\u001b[0m",
      "\u001b[1;31mAttributeError\u001b[0m                            Traceback (most recent call last)",
      "\u001b[1;32m~\\AppData\\Local\\Temp\\ipykernel_20016\\788534671.py\u001b[0m in \u001b[0;36m<module>\u001b[1;34m\u001b[0m\n\u001b[1;32m----> 1\u001b[1;33m \u001b[0mn\u001b[0m\u001b[1;33m.\u001b[0m\u001b[0mfind\u001b[0m\u001b[1;33m(\u001b[0m\u001b[1;34m'd'\u001b[0m\u001b[1;33m)\u001b[0m\u001b[1;33m\u001b[0m\u001b[1;33m\u001b[0m\u001b[0m\n\u001b[0m",
      "\u001b[1;31mAttributeError\u001b[0m: 'list' object has no attribute 'find'"
     ]
    }
   ],
   "source": [
    "n.find('d')"
   ]
  },
  {
   "cell_type": "code",
   "execution_count": 240,
   "id": "347b97e0",
   "metadata": {},
   "outputs": [
    {
     "ename": "ValueError",
     "evalue": "'d' is not in list",
     "output_type": "error",
     "traceback": [
      "\u001b[1;31m---------------------------------------------------------------------------\u001b[0m",
      "\u001b[1;31mValueError\u001b[0m                                Traceback (most recent call last)",
      "\u001b[1;32m~\\AppData\\Local\\Temp\\ipykernel_20016\\3377064796.py\u001b[0m in \u001b[0;36m<module>\u001b[1;34m\u001b[0m\n\u001b[1;32m----> 1\u001b[1;33m \u001b[0mn\u001b[0m\u001b[1;33m.\u001b[0m\u001b[0mindex\u001b[0m\u001b[1;33m(\u001b[0m\u001b[1;34m'd'\u001b[0m\u001b[1;33m)\u001b[0m\u001b[1;33m\u001b[0m\u001b[1;33m\u001b[0m\u001b[0m\n\u001b[0m",
      "\u001b[1;31mValueError\u001b[0m: 'd' is not in list"
     ]
    }
   ],
   "source": [
    "n.index('d')"
   ]
  },
  {
   "cell_type": "code",
   "execution_count": 241,
   "id": "1ffc52fc",
   "metadata": {},
   "outputs": [
    {
     "data": {
      "text/plain": [
       "2"
      ]
     },
     "execution_count": 241,
     "metadata": {},
     "output_type": "execute_result"
    }
   ],
   "source": [
    "n.index(['g','i'])"
   ]
  },
  {
   "cell_type": "code",
   "execution_count": 242,
   "id": "7b27f696",
   "metadata": {},
   "outputs": [],
   "source": [
    "# Para remover a lista interna\n",
    "# n.remove(['g','i'])\n",
    "# n.pop(n.index(['g','i']))"
   ]
  },
  {
   "cell_type": "code",
   "execution_count": 243,
   "id": "a60137df",
   "metadata": {},
   "outputs": [],
   "source": [
    "n.remove(['g','i'])"
   ]
  },
  {
   "cell_type": "code",
   "execution_count": 244,
   "id": "d71d5ef4",
   "metadata": {},
   "outputs": [
    {
     "name": "stdout",
     "output_type": "stream",
     "text": [
      "['c', 'b', 'i', 'g', 'i']\n"
     ]
    }
   ],
   "source": [
    "print(n)"
   ]
  },
  {
   "cell_type": "code",
   "execution_count": 245,
   "id": "2cad1ffe",
   "metadata": {},
   "outputs": [
    {
     "data": {
      "text/plain": [
       "-1"
      ]
     },
     "execution_count": 245,
     "metadata": {},
     "output_type": "execute_result"
    }
   ],
   "source": [
    "nome.find('D')"
   ]
  },
  {
   "cell_type": "code",
   "execution_count": 246,
   "id": "5e1971ab",
   "metadata": {},
   "outputs": [
    {
     "data": {
      "text/plain": [
       "0"
      ]
     },
     "execution_count": 246,
     "metadata": {},
     "output_type": "execute_result"
    }
   ],
   "source": [
    "nome.find('J')"
   ]
  },
  {
   "cell_type": "code",
   "execution_count": 247,
   "id": "e13747ae",
   "metadata": {},
   "outputs": [
    {
     "data": {
      "text/plain": [
       "0"
      ]
     },
     "execution_count": 247,
     "metadata": {},
     "output_type": "execute_result"
    }
   ],
   "source": [
    "nome.index('J')"
   ]
  },
  {
   "cell_type": "code",
   "execution_count": 248,
   "id": "96549690",
   "metadata": {},
   "outputs": [
    {
     "ename": "ValueError",
     "evalue": "substring not found",
     "output_type": "error",
     "traceback": [
      "\u001b[1;31m---------------------------------------------------------------------------\u001b[0m",
      "\u001b[1;31mValueError\u001b[0m                                Traceback (most recent call last)",
      "\u001b[1;32m~\\AppData\\Local\\Temp\\ipykernel_20016\\1841102925.py\u001b[0m in \u001b[0;36m<module>\u001b[1;34m\u001b[0m\n\u001b[1;32m----> 1\u001b[1;33m \u001b[0mnome\u001b[0m\u001b[1;33m.\u001b[0m\u001b[0mindex\u001b[0m\u001b[1;33m(\u001b[0m\u001b[1;34m'D'\u001b[0m\u001b[1;33m)\u001b[0m\u001b[1;33m\u001b[0m\u001b[1;33m\u001b[0m\u001b[0m\n\u001b[0m",
      "\u001b[1;31mValueError\u001b[0m: substring not found"
     ]
    }
   ],
   "source": [
    "nome.index('D')"
   ]
  },
  {
   "cell_type": "code",
   "execution_count": 250,
   "id": "c062ccde",
   "metadata": {},
   "outputs": [
    {
     "data": {
      "text/plain": [
       "0"
      ]
     },
     "execution_count": 250,
     "metadata": {},
     "output_type": "execute_result"
    }
   ],
   "source": [
    "n.count(1)"
   ]
  },
  {
   "cell_type": "code",
   "execution_count": 251,
   "id": "a0d2d6ff",
   "metadata": {},
   "outputs": [
    {
     "data": {
      "text/plain": [
       "0"
      ]
     },
     "execution_count": 251,
     "metadata": {},
     "output_type": "execute_result"
    }
   ],
   "source": [
    "n.count([1,2])"
   ]
  },
  {
   "cell_type": "code",
   "execution_count": 252,
   "id": "c571b893",
   "metadata": {},
   "outputs": [
    {
     "data": {
      "text/plain": [
       "2"
      ]
     },
     "execution_count": 252,
     "metadata": {},
     "output_type": "execute_result"
    }
   ],
   "source": [
    "n.count('i')"
   ]
  },
  {
   "cell_type": "code",
   "execution_count": 262,
   "id": "7b54d262",
   "metadata": {},
   "outputs": [],
   "source": [
    "n.clear()"
   ]
  },
  {
   "cell_type": "code",
   "execution_count": 263,
   "id": "2c873e83",
   "metadata": {},
   "outputs": [
    {
     "name": "stdout",
     "output_type": "stream",
     "text": [
      "[]\n"
     ]
    }
   ],
   "source": [
    "print(n)"
   ]
  },
  {
   "cell_type": "code",
   "execution_count": 264,
   "id": "1249bfb3",
   "metadata": {},
   "outputs": [],
   "source": [
    "n.insert(0,'a')"
   ]
  },
  {
   "cell_type": "code",
   "execution_count": 265,
   "id": "6354017b",
   "metadata": {},
   "outputs": [],
   "source": [
    "n.insert(0,1)"
   ]
  },
  {
   "cell_type": "code",
   "execution_count": 266,
   "id": "41dde71e",
   "metadata": {},
   "outputs": [],
   "source": [
    "n.insert(0,[1.2, True])"
   ]
  },
  {
   "cell_type": "code",
   "execution_count": 267,
   "id": "949107d4",
   "metadata": {},
   "outputs": [
    {
     "name": "stdout",
     "output_type": "stream",
     "text": [
      "[[1.2, True], 1, 'a']\n"
     ]
    }
   ],
   "source": [
    "print(n)"
   ]
  },
  {
   "cell_type": "code",
   "execution_count": 268,
   "id": "daade2e5",
   "metadata": {},
   "outputs": [],
   "source": [
    "n.insert(0,10)"
   ]
  },
  {
   "cell_type": "code",
   "execution_count": 269,
   "id": "6789ff3c",
   "metadata": {},
   "outputs": [
    {
     "name": "stdout",
     "output_type": "stream",
     "text": [
      "[10, [1.2, True], 1, 'a']\n"
     ]
    }
   ],
   "source": [
    "print(n)"
   ]
  },
  {
   "cell_type": "code",
   "execution_count": 270,
   "id": "f9f08987",
   "metadata": {},
   "outputs": [
    {
     "data": {
      "text/plain": [
       "[1.2, True]"
      ]
     },
     "execution_count": 270,
     "metadata": {},
     "output_type": "execute_result"
    }
   ],
   "source": [
    "n[1]"
   ]
  },
  {
   "cell_type": "code",
   "execution_count": 271,
   "id": "6655a501",
   "metadata": {},
   "outputs": [],
   "source": [
    "n[1].insert(1,'b')"
   ]
  },
  {
   "cell_type": "code",
   "execution_count": 272,
   "id": "6787999b",
   "metadata": {},
   "outputs": [
    {
     "data": {
      "text/plain": [
       "[10, [1.2, 'b', True], 1, 'a']"
      ]
     },
     "execution_count": 272,
     "metadata": {},
     "output_type": "execute_result"
    }
   ],
   "source": [
    "n"
   ]
  },
  {
   "cell_type": "code",
   "execution_count": 273,
   "id": "3ee4ffcc",
   "metadata": {},
   "outputs": [],
   "source": [
    "n.reverse()"
   ]
  },
  {
   "cell_type": "code",
   "execution_count": 274,
   "id": "57f1efc5",
   "metadata": {},
   "outputs": [
    {
     "data": {
      "text/plain": [
       "['a', 1, [1.2, 'b', True], 10]"
      ]
     },
     "execution_count": 274,
     "metadata": {},
     "output_type": "execute_result"
    }
   ],
   "source": [
    "n"
   ]
  },
  {
   "cell_type": "code",
   "execution_count": 275,
   "id": "bd85f161",
   "metadata": {},
   "outputs": [],
   "source": [
    "a = [1,2]\n",
    "b = a"
   ]
  },
  {
   "cell_type": "code",
   "execution_count": 276,
   "id": "4d31c66f",
   "metadata": {},
   "outputs": [
    {
     "name": "stdout",
     "output_type": "stream",
     "text": [
      "[1, 2]\n",
      "[1, 2]\n"
     ]
    }
   ],
   "source": [
    "print(a)\n",
    "print(b)"
   ]
  },
  {
   "cell_type": "code",
   "execution_count": 277,
   "id": "fa7cf798",
   "metadata": {},
   "outputs": [
    {
     "data": {
      "text/plain": [
       "2419059181632"
      ]
     },
     "execution_count": 277,
     "metadata": {},
     "output_type": "execute_result"
    }
   ],
   "source": [
    "id(a)"
   ]
  },
  {
   "cell_type": "code",
   "execution_count": 278,
   "id": "bf78b5eb",
   "metadata": {},
   "outputs": [
    {
     "data": {
      "text/plain": [
       "2419059181632"
      ]
     },
     "execution_count": 278,
     "metadata": {},
     "output_type": "execute_result"
    }
   ],
   "source": [
    "id(b)"
   ]
  },
  {
   "cell_type": "code",
   "execution_count": 279,
   "id": "fb77f781",
   "metadata": {},
   "outputs": [],
   "source": [
    "b[0] = 10"
   ]
  },
  {
   "cell_type": "code",
   "execution_count": 281,
   "id": "99998ecd",
   "metadata": {},
   "outputs": [
    {
     "name": "stdout",
     "output_type": "stream",
     "text": [
      "[10, 2]\n",
      "[10, 2]\n"
     ]
    }
   ],
   "source": [
    "print(a)\n",
    "print(b)"
   ]
  },
  {
   "cell_type": "code",
   "execution_count": 283,
   "id": "11200b6f",
   "metadata": {},
   "outputs": [],
   "source": [
    "a = [1, 2]\n",
    "b = a.copy()"
   ]
  },
  {
   "cell_type": "code",
   "execution_count": 284,
   "id": "e60132a9",
   "metadata": {},
   "outputs": [
    {
     "data": {
      "text/plain": [
       "2419054226560"
      ]
     },
     "execution_count": 284,
     "metadata": {},
     "output_type": "execute_result"
    }
   ],
   "source": [
    "id(a)"
   ]
  },
  {
   "cell_type": "code",
   "execution_count": 285,
   "id": "bf1cc2ea",
   "metadata": {},
   "outputs": [
    {
     "data": {
      "text/plain": [
       "2419060474304"
      ]
     },
     "execution_count": 285,
     "metadata": {},
     "output_type": "execute_result"
    }
   ],
   "source": [
    "id(b)"
   ]
  },
  {
   "cell_type": "code",
   "execution_count": 286,
   "id": "4b2ab6e4",
   "metadata": {},
   "outputs": [],
   "source": [
    "b[0] = 10"
   ]
  },
  {
   "cell_type": "code",
   "execution_count": 287,
   "id": "96080bb5",
   "metadata": {},
   "outputs": [
    {
     "name": "stdout",
     "output_type": "stream",
     "text": [
      "[1, 2]\n",
      "[10, 2]\n"
     ]
    }
   ],
   "source": [
    "print(a)\n",
    "print(b)"
   ]
  },
  {
   "cell_type": "markdown",
   "id": "c2850339",
   "metadata": {},
   "source": [
    "## Tuplas"
   ]
  },
  {
   "cell_type": "code",
   "execution_count": 288,
   "id": "c2cd558d",
   "metadata": {},
   "outputs": [
    {
     "name": "stdout",
     "output_type": "stream",
     "text": [
      "<class 'tuple'>\n"
     ]
    }
   ],
   "source": [
    "t1 = ()\n",
    "print(type(t1))"
   ]
  },
  {
   "cell_type": "code",
   "execution_count": 289,
   "id": "3c9f4559",
   "metadata": {},
   "outputs": [
    {
     "name": "stdout",
     "output_type": "stream",
     "text": [
      "<class 'int'>\n"
     ]
    }
   ],
   "source": [
    "t2 = (1)\n",
    "print(type(t2))"
   ]
  },
  {
   "cell_type": "code",
   "execution_count": 290,
   "id": "3da84439",
   "metadata": {},
   "outputs": [
    {
     "name": "stdout",
     "output_type": "stream",
     "text": [
      "<class 'tuple'>\n"
     ]
    }
   ],
   "source": [
    "t2 = (1,)\n",
    "print(type(t2))"
   ]
  },
  {
   "cell_type": "code",
   "execution_count": 291,
   "id": "a9f944d5",
   "metadata": {},
   "outputs": [
    {
     "name": "stdout",
     "output_type": "stream",
     "text": [
      "<class 'tuple'>\n"
     ]
    }
   ],
   "source": [
    "t3 = (1, 2, 3, 'a', 'b')\n",
    "print(type(t3))"
   ]
  },
  {
   "cell_type": "code",
   "execution_count": 292,
   "id": "dbcfe0ad",
   "metadata": {},
   "outputs": [
    {
     "name": "stdout",
     "output_type": "stream",
     "text": [
      "(1, 2, 3, 'a', 'b')\n"
     ]
    }
   ],
   "source": [
    "print(t3)"
   ]
  },
  {
   "cell_type": "code",
   "execution_count": 293,
   "id": "a250fe6d",
   "metadata": {},
   "outputs": [
    {
     "data": {
      "text/plain": [
       "(1, 2, 3, 'a', 'b', True, False, 1.5)"
      ]
     },
     "execution_count": 293,
     "metadata": {},
     "output_type": "execute_result"
    }
   ],
   "source": [
    "t3 + (True, False, 1.5)"
   ]
  },
  {
   "cell_type": "code",
   "execution_count": 311,
   "id": "a85d781b",
   "metadata": {},
   "outputs": [
    {
     "name": "stdout",
     "output_type": "stream",
     "text": [
      "(1, 2, 3, 'a', 'b')\n"
     ]
    }
   ],
   "source": [
    "print(t3)"
   ]
  },
  {
   "cell_type": "code",
   "execution_count": 294,
   "id": "c8be3458",
   "metadata": {},
   "outputs": [],
   "source": [
    "t4 = t3 + (True, False, 1.5)"
   ]
  },
  {
   "cell_type": "code",
   "execution_count": 295,
   "id": "de69310f",
   "metadata": {},
   "outputs": [
    {
     "name": "stdout",
     "output_type": "stream",
     "text": [
      "(1, 2, 3, 'a', 'b', True, False, 1.5)\n"
     ]
    }
   ],
   "source": [
    "print(t4)"
   ]
  },
  {
   "cell_type": "code",
   "execution_count": 296,
   "id": "c4eee7da",
   "metadata": {},
   "outputs": [
    {
     "data": {
      "text/plain": [
       "1"
      ]
     },
     "execution_count": 296,
     "metadata": {},
     "output_type": "execute_result"
    }
   ],
   "source": [
    "t4[0]"
   ]
  },
  {
   "cell_type": "code",
   "execution_count": 297,
   "id": "e382622c",
   "metadata": {},
   "outputs": [
    {
     "data": {
      "text/plain": [
       "1.5"
      ]
     },
     "execution_count": 297,
     "metadata": {},
     "output_type": "execute_result"
    }
   ],
   "source": [
    "t4[-1]"
   ]
  },
  {
   "cell_type": "code",
   "execution_count": 298,
   "id": "7ef895d1",
   "metadata": {},
   "outputs": [
    {
     "data": {
      "text/plain": [
       "(3, 'a', 'b', True, False, 1.5)"
      ]
     },
     "execution_count": 298,
     "metadata": {},
     "output_type": "execute_result"
    }
   ],
   "source": [
    "t4[2:]"
   ]
  },
  {
   "cell_type": "code",
   "execution_count": 299,
   "id": "2780ea4b",
   "metadata": {},
   "outputs": [],
   "source": [
    "t5 = (t2, t4)"
   ]
  },
  {
   "cell_type": "code",
   "execution_count": 300,
   "id": "44b9a384",
   "metadata": {},
   "outputs": [
    {
     "name": "stdout",
     "output_type": "stream",
     "text": [
      "((1,), (1, 2, 3, 'a', 'b', True, False, 1.5))\n"
     ]
    }
   ],
   "source": [
    "print(t5)"
   ]
  },
  {
   "cell_type": "code",
   "execution_count": 301,
   "id": "222fd814",
   "metadata": {},
   "outputs": [
    {
     "data": {
      "text/plain": [
       "'B'"
      ]
     },
     "execution_count": 301,
     "metadata": {},
     "output_type": "execute_result"
    }
   ],
   "source": [
    "t5[1][4].upper()"
   ]
  },
  {
   "cell_type": "code",
   "execution_count": 302,
   "id": "6f8122d5",
   "metadata": {},
   "outputs": [
    {
     "ename": "TypeError",
     "evalue": "'tuple' object does not support item assignment",
     "output_type": "error",
     "traceback": [
      "\u001b[1;31m---------------------------------------------------------------------------\u001b[0m",
      "\u001b[1;31mTypeError\u001b[0m                                 Traceback (most recent call last)",
      "\u001b[1;32m~\\AppData\\Local\\Temp\\ipykernel_20016\\3970990982.py\u001b[0m in \u001b[0;36m<module>\u001b[1;34m\u001b[0m\n\u001b[1;32m----> 1\u001b[1;33m \u001b[0mt5\u001b[0m\u001b[1;33m[\u001b[0m\u001b[1;36m1\u001b[0m\u001b[1;33m]\u001b[0m \u001b[1;33m=\u001b[0m \u001b[1;36m100\u001b[0m\u001b[1;33m\u001b[0m\u001b[1;33m\u001b[0m\u001b[0m\n\u001b[0m",
      "\u001b[1;31mTypeError\u001b[0m: 'tuple' object does not support item assignment"
     ]
    }
   ],
   "source": [
    "t5[1] = 100"
   ]
  },
  {
   "cell_type": "code",
   "execution_count": 303,
   "id": "4ca94d89",
   "metadata": {},
   "outputs": [
    {
     "data": {
      "text/plain": [
       "0"
      ]
     },
     "execution_count": 303,
     "metadata": {},
     "output_type": "execute_result"
    }
   ],
   "source": [
    "t5.count('a')"
   ]
  },
  {
   "cell_type": "code",
   "execution_count": 304,
   "id": "b5b8abe4",
   "metadata": {},
   "outputs": [
    {
     "data": {
      "text/plain": [
       "((1,), (1, 2, 3, 'a', 'b', True, False, 1.5))"
      ]
     },
     "execution_count": 304,
     "metadata": {},
     "output_type": "execute_result"
    }
   ],
   "source": [
    "t5"
   ]
  },
  {
   "cell_type": "code",
   "execution_count": 306,
   "id": "4d9a6b5b",
   "metadata": {},
   "outputs": [
    {
     "data": {
      "text/plain": [
       "1"
      ]
     },
     "execution_count": 306,
     "metadata": {},
     "output_type": "execute_result"
    }
   ],
   "source": [
    "t5.count((1, 2, 3, 'a', 'b', True, False, 1.5))"
   ]
  },
  {
   "cell_type": "code",
   "execution_count": 307,
   "id": "8f7b79e7",
   "metadata": {},
   "outputs": [
    {
     "data": {
      "text/plain": [
       "1"
      ]
     },
     "execution_count": 307,
     "metadata": {},
     "output_type": "execute_result"
    }
   ],
   "source": [
    "t4.count('a')"
   ]
  },
  {
   "cell_type": "code",
   "execution_count": 308,
   "id": "844323cc",
   "metadata": {},
   "outputs": [
    {
     "data": {
      "text/plain": [
       "2"
      ]
     },
     "execution_count": 308,
     "metadata": {},
     "output_type": "execute_result"
    }
   ],
   "source": [
    "t4.count(1)"
   ]
  },
  {
   "cell_type": "code",
   "execution_count": 309,
   "id": "c981b318",
   "metadata": {},
   "outputs": [
    {
     "data": {
      "text/plain": [
       "3"
      ]
     },
     "execution_count": 309,
     "metadata": {},
     "output_type": "execute_result"
    }
   ],
   "source": [
    "t4.index('a')"
   ]
  },
  {
   "cell_type": "code",
   "execution_count": 310,
   "id": "d2052ea5",
   "metadata": {},
   "outputs": [
    {
     "data": {
      "text/plain": [
       "'a'"
      ]
     },
     "execution_count": 310,
     "metadata": {},
     "output_type": "execute_result"
    }
   ],
   "source": [
    "t4[t4.index('a')]"
   ]
  },
  {
   "cell_type": "code",
   "execution_count": 312,
   "id": "432806af",
   "metadata": {},
   "outputs": [],
   "source": [
    "t6 = (1, 'abcd')"
   ]
  },
  {
   "cell_type": "code",
   "execution_count": 313,
   "id": "28bc8ea7",
   "metadata": {},
   "outputs": [
    {
     "ename": "TypeError",
     "evalue": "'str' object does not support item assignment",
     "output_type": "error",
     "traceback": [
      "\u001b[1;31m---------------------------------------------------------------------------\u001b[0m",
      "\u001b[1;31mTypeError\u001b[0m                                 Traceback (most recent call last)",
      "\u001b[1;32m~\\AppData\\Local\\Temp\\ipykernel_20016\\2918510027.py\u001b[0m in \u001b[0;36m<module>\u001b[1;34m\u001b[0m\n\u001b[1;32m----> 1\u001b[1;33m \u001b[0mt6\u001b[0m\u001b[1;33m[\u001b[0m\u001b[1;36m1\u001b[0m\u001b[1;33m]\u001b[0m\u001b[1;33m[\u001b[0m\u001b[1;36m0\u001b[0m\u001b[1;33m]\u001b[0m \u001b[1;33m=\u001b[0m \u001b[1;34m'A'\u001b[0m\u001b[1;33m\u001b[0m\u001b[1;33m\u001b[0m\u001b[0m\n\u001b[0m",
      "\u001b[1;31mTypeError\u001b[0m: 'str' object does not support item assignment"
     ]
    }
   ],
   "source": [
    "t6[1][0] = 'A'"
   ]
  },
  {
   "cell_type": "code",
   "execution_count": 315,
   "id": "5ca4e937",
   "metadata": {},
   "outputs": [],
   "source": [
    "t7 = (1, 'abcd', ['ab', 10])"
   ]
  },
  {
   "cell_type": "code",
   "execution_count": 316,
   "id": "9c0cebfb",
   "metadata": {},
   "outputs": [
    {
     "ename": "TypeError",
     "evalue": "'tuple' object does not support item assignment",
     "output_type": "error",
     "traceback": [
      "\u001b[1;31m---------------------------------------------------------------------------\u001b[0m",
      "\u001b[1;31mTypeError\u001b[0m                                 Traceback (most recent call last)",
      "\u001b[1;32m~\\AppData\\Local\\Temp\\ipykernel_20016\\3007365245.py\u001b[0m in \u001b[0;36m<module>\u001b[1;34m\u001b[0m\n\u001b[1;32m----> 1\u001b[1;33m \u001b[0mt7\u001b[0m\u001b[1;33m[\u001b[0m\u001b[1;36m0\u001b[0m\u001b[1;33m]\u001b[0m \u001b[1;33m=\u001b[0m \u001b[1;36m1\u001b[0m\u001b[1;33m\u001b[0m\u001b[1;33m\u001b[0m\u001b[0m\n\u001b[0m",
      "\u001b[1;31mTypeError\u001b[0m: 'tuple' object does not support item assignment"
     ]
    }
   ],
   "source": [
    "t7[0] = 1"
   ]
  },
  {
   "cell_type": "code",
   "execution_count": 318,
   "id": "c9be6d63",
   "metadata": {},
   "outputs": [
    {
     "data": {
      "text/plain": [
       "(1, 'abcd', ['ab', 10])"
      ]
     },
     "execution_count": 318,
     "metadata": {},
     "output_type": "execute_result"
    }
   ],
   "source": [
    "t7"
   ]
  },
  {
   "cell_type": "code",
   "execution_count": 319,
   "id": "91039aea",
   "metadata": {},
   "outputs": [
    {
     "data": {
      "text/plain": [
       "['ab', 10]"
      ]
     },
     "execution_count": 319,
     "metadata": {},
     "output_type": "execute_result"
    }
   ],
   "source": [
    "t7[-1]"
   ]
  },
  {
   "cell_type": "code",
   "execution_count": 320,
   "id": "01a688bd",
   "metadata": {},
   "outputs": [
    {
     "data": {
      "text/plain": [
       "10"
      ]
     },
     "execution_count": 320,
     "metadata": {},
     "output_type": "execute_result"
    }
   ],
   "source": [
    "t7[-1][1]"
   ]
  },
  {
   "cell_type": "code",
   "execution_count": 322,
   "id": "734e4e5b",
   "metadata": {},
   "outputs": [],
   "source": [
    "t7[-1][-1] = 100"
   ]
  },
  {
   "cell_type": "code",
   "execution_count": 323,
   "id": "35157be6",
   "metadata": {},
   "outputs": [
    {
     "data": {
      "text/plain": [
       "(1, 'abcd', ['ab', 100])"
      ]
     },
     "execution_count": 323,
     "metadata": {},
     "output_type": "execute_result"
    }
   ],
   "source": [
    "t7"
   ]
  },
  {
   "cell_type": "code",
   "execution_count": 333,
   "id": "986bcea7",
   "metadata": {},
   "outputs": [],
   "source": [
    "t6 = list(t6)"
   ]
  },
  {
   "cell_type": "code",
   "execution_count": 334,
   "id": "0178daac",
   "metadata": {},
   "outputs": [
    {
     "data": {
      "text/plain": [
       "[1000, 'abcd']"
      ]
     },
     "execution_count": 334,
     "metadata": {},
     "output_type": "execute_result"
    }
   ],
   "source": [
    "t6"
   ]
  },
  {
   "cell_type": "code",
   "execution_count": 335,
   "id": "11cc439e",
   "metadata": {},
   "outputs": [
    {
     "data": {
      "text/plain": [
       "2419060609920"
      ]
     },
     "execution_count": 335,
     "metadata": {},
     "output_type": "execute_result"
    }
   ],
   "source": [
    "id(t6)"
   ]
  },
  {
   "cell_type": "code",
   "execution_count": 336,
   "id": "4a493ce3",
   "metadata": {},
   "outputs": [],
   "source": [
    "t6[0] = 1000"
   ]
  },
  {
   "cell_type": "code",
   "execution_count": 337,
   "id": "6457c05d",
   "metadata": {},
   "outputs": [],
   "source": [
    "t6 = tuple(t6)"
   ]
  },
  {
   "cell_type": "code",
   "execution_count": 338,
   "id": "1bd6f315",
   "metadata": {},
   "outputs": [
    {
     "name": "stdout",
     "output_type": "stream",
     "text": [
      "(1000, 'abcd')\n"
     ]
    }
   ],
   "source": [
    "print(t6)"
   ]
  },
  {
   "cell_type": "code",
   "execution_count": 339,
   "id": "74fdeac3",
   "metadata": {},
   "outputs": [
    {
     "data": {
      "text/plain": [
       "2419061495936"
      ]
     },
     "execution_count": 339,
     "metadata": {},
     "output_type": "execute_result"
    }
   ],
   "source": [
    "id(t6)"
   ]
  },
  {
   "cell_type": "code",
   "execution_count": 340,
   "id": "38bf6aad",
   "metadata": {},
   "outputs": [
    {
     "data": {
      "text/plain": [
       "(10, 20)"
      ]
     },
     "execution_count": 340,
     "metadata": {},
     "output_type": "execute_result"
    }
   ],
   "source": [
    "# O Python por default considera uma tupla\n",
    "10,20"
   ]
  },
  {
   "cell_type": "code",
   "execution_count": 342,
   "id": "3de653c9",
   "metadata": {},
   "outputs": [],
   "source": [
    "a, b = 10,20"
   ]
  },
  {
   "cell_type": "code",
   "execution_count": 343,
   "id": "c4e35b34",
   "metadata": {},
   "outputs": [
    {
     "name": "stdout",
     "output_type": "stream",
     "text": [
      "10\n"
     ]
    }
   ],
   "source": [
    "print(a)"
   ]
  },
  {
   "cell_type": "code",
   "execution_count": 344,
   "id": "06239f0c",
   "metadata": {},
   "outputs": [
    {
     "name": "stdout",
     "output_type": "stream",
     "text": [
      "20\n"
     ]
    }
   ],
   "source": [
    "print(b)"
   ]
  },
  {
   "cell_type": "code",
   "execution_count": 345,
   "id": "30311df7",
   "metadata": {},
   "outputs": [],
   "source": [
    "a, b = (10,20)"
   ]
  },
  {
   "cell_type": "code",
   "execution_count": 346,
   "id": "9cb84964",
   "metadata": {},
   "outputs": [
    {
     "name": "stdout",
     "output_type": "stream",
     "text": [
      "10\n"
     ]
    }
   ],
   "source": [
    "print(a)"
   ]
  },
  {
   "cell_type": "code",
   "execution_count": 347,
   "id": "70e40ed0",
   "metadata": {},
   "outputs": [
    {
     "name": "stdout",
     "output_type": "stream",
     "text": [
      "20\n"
     ]
    }
   ],
   "source": [
    "print(b)"
   ]
  },
  {
   "cell_type": "code",
   "execution_count": 348,
   "id": "c2145c02",
   "metadata": {},
   "outputs": [
    {
     "ename": "ValueError",
     "evalue": "not enough values to unpack (expected 3, got 2)",
     "output_type": "error",
     "traceback": [
      "\u001b[1;31m---------------------------------------------------------------------------\u001b[0m",
      "\u001b[1;31mValueError\u001b[0m                                Traceback (most recent call last)",
      "\u001b[1;32m~\\AppData\\Local\\Temp\\ipykernel_20016\\2406479390.py\u001b[0m in \u001b[0;36m<module>\u001b[1;34m\u001b[0m\n\u001b[1;32m----> 1\u001b[1;33m \u001b[0ma\u001b[0m\u001b[1;33m,\u001b[0m \u001b[0mb\u001b[0m\u001b[1;33m,\u001b[0m \u001b[0mc\u001b[0m \u001b[1;33m=\u001b[0m \u001b[1;33m(\u001b[0m\u001b[1;36m10\u001b[0m\u001b[1;33m,\u001b[0m\u001b[1;36m20\u001b[0m\u001b[1;33m)\u001b[0m\u001b[1;33m\u001b[0m\u001b[1;33m\u001b[0m\u001b[0m\n\u001b[0m",
      "\u001b[1;31mValueError\u001b[0m: not enough values to unpack (expected 3, got 2)"
     ]
    }
   ],
   "source": [
    "a, b, c = (10,20)"
   ]
  },
  {
   "cell_type": "code",
   "execution_count": 349,
   "id": "96092d42",
   "metadata": {},
   "outputs": [
    {
     "ename": "ValueError",
     "evalue": "too many values to unpack (expected 2)",
     "output_type": "error",
     "traceback": [
      "\u001b[1;31m---------------------------------------------------------------------------\u001b[0m",
      "\u001b[1;31mValueError\u001b[0m                                Traceback (most recent call last)",
      "\u001b[1;32m~\\AppData\\Local\\Temp\\ipykernel_20016\\1594181555.py\u001b[0m in \u001b[0;36m<module>\u001b[1;34m\u001b[0m\n\u001b[1;32m----> 1\u001b[1;33m \u001b[0ma\u001b[0m\u001b[1;33m,\u001b[0m \u001b[0mb\u001b[0m \u001b[1;33m=\u001b[0m \u001b[1;33m(\u001b[0m\u001b[1;36m10\u001b[0m\u001b[1;33m,\u001b[0m \u001b[1;36m20\u001b[0m\u001b[1;33m,\u001b[0m \u001b[1;36m30\u001b[0m\u001b[1;33m)\u001b[0m\u001b[1;33m\u001b[0m\u001b[1;33m\u001b[0m\u001b[0m\n\u001b[0m",
      "\u001b[1;31mValueError\u001b[0m: too many values to unpack (expected 2)"
     ]
    }
   ],
   "source": [
    "a, b = (10, 20, 30)"
   ]
  },
  {
   "cell_type": "code",
   "execution_count": 350,
   "id": "94e1e603",
   "metadata": {},
   "outputs": [],
   "source": [
    "a, b, d, c = (1, 'asd', True, [1, 2])"
   ]
  },
  {
   "cell_type": "code",
   "execution_count": 351,
   "id": "54c1ce2e",
   "metadata": {},
   "outputs": [],
   "source": [
    "a ,b, d, c = [1, 'asd', True, [1, 2]]"
   ]
  },
  {
   "cell_type": "code",
   "execution_count": 352,
   "id": "b2c4f0e3",
   "metadata": {},
   "outputs": [
    {
     "name": "stdout",
     "output_type": "stream",
     "text": [
      "asd [1, 2]\n"
     ]
    }
   ],
   "source": [
    "print(b, c)"
   ]
  },
  {
   "cell_type": "code",
   "execution_count": 353,
   "id": "a2f6c750",
   "metadata": {},
   "outputs": [
    {
     "name": "stdout",
     "output_type": "stream",
     "text": [
      "1 [1, 2]\n"
     ]
    }
   ],
   "source": [
    "print(a, c)"
   ]
  },
  {
   "cell_type": "markdown",
   "id": "9a6382c7",
   "metadata": {},
   "source": [
    "## Dicionários"
   ]
  },
  {
   "cell_type": "code",
   "execution_count": 89,
   "id": "c9b14946",
   "metadata": {},
   "outputs": [
    {
     "name": "stdout",
     "output_type": "stream",
     "text": [
      "{'jose': 35, 'bilbo': 28}\n"
     ]
    }
   ],
   "source": [
    "alunos = {\n",
    "    'jose' : 35,\n",
    "    'bilbo': 28\n",
    "}\n",
    "print(alunos)"
   ]
  },
  {
   "cell_type": "code",
   "execution_count": 355,
   "id": "38411532",
   "metadata": {},
   "outputs": [
    {
     "name": "stdout",
     "output_type": "stream",
     "text": [
      "35\n"
     ]
    }
   ],
   "source": [
    "print(alunos['jose'])"
   ]
  },
  {
   "cell_type": "code",
   "execution_count": 356,
   "id": "ccc50b46",
   "metadata": {},
   "outputs": [
    {
     "name": "stdout",
     "output_type": "stream",
     "text": [
      "28\n"
     ]
    }
   ],
   "source": [
    "print(alunos['bilbo'])"
   ]
  },
  {
   "cell_type": "code",
   "execution_count": 358,
   "id": "a0c59907",
   "metadata": {},
   "outputs": [],
   "source": [
    "alunos ['bilbo'] = 30"
   ]
  },
  {
   "cell_type": "code",
   "execution_count": 359,
   "id": "a645edbf",
   "metadata": {},
   "outputs": [
    {
     "name": "stdout",
     "output_type": "stream",
     "text": [
      "{'jose': 35, 'bilbo': 30}\n"
     ]
    }
   ],
   "source": [
    "print(alunos)"
   ]
  },
  {
   "cell_type": "code",
   "execution_count": 361,
   "id": "a0f8edaa",
   "metadata": {},
   "outputs": [
    {
     "ename": "KeyError",
     "evalue": "'joão'",
     "output_type": "error",
     "traceback": [
      "\u001b[1;31m---------------------------------------------------------------------------\u001b[0m",
      "\u001b[1;31mKeyError\u001b[0m                                  Traceback (most recent call last)",
      "\u001b[1;32m~\\AppData\\Local\\Temp\\ipykernel_20016\\2955261020.py\u001b[0m in \u001b[0;36m<module>\u001b[1;34m\u001b[0m\n\u001b[1;32m----> 1\u001b[1;33m \u001b[0malunos\u001b[0m\u001b[1;33m[\u001b[0m\u001b[1;34m'joão'\u001b[0m\u001b[1;33m]\u001b[0m\u001b[1;33m\u001b[0m\u001b[1;33m\u001b[0m\u001b[0m\n\u001b[0m",
      "\u001b[1;31mKeyError\u001b[0m: 'joão'"
     ]
    }
   ],
   "source": [
    "alunos['joão']"
   ]
  },
  {
   "cell_type": "code",
   "execution_count": 362,
   "id": "867b1246",
   "metadata": {},
   "outputs": [],
   "source": [
    "alunos['joao'] = 100"
   ]
  },
  {
   "cell_type": "code",
   "execution_count": 363,
   "id": "730563f6",
   "metadata": {},
   "outputs": [
    {
     "name": "stdout",
     "output_type": "stream",
     "text": [
      "{'jose': 35, 'bilbo': 30, 'joao': 100}\n"
     ]
    }
   ],
   "source": [
    "print(alunos)"
   ]
  },
  {
   "cell_type": "code",
   "execution_count": 365,
   "id": "117b94af",
   "metadata": {},
   "outputs": [],
   "source": [
    "del alunos['bilbo']"
   ]
  },
  {
   "cell_type": "code",
   "execution_count": 366,
   "id": "d857317b",
   "metadata": {},
   "outputs": [
    {
     "name": "stdout",
     "output_type": "stream",
     "text": [
      "{'jose': 35, 'joao': 100}\n"
     ]
    }
   ],
   "source": [
    "print(alunos)"
   ]
  },
  {
   "cell_type": "code",
   "execution_count": 367,
   "id": "2b28fad8",
   "metadata": {},
   "outputs": [
    {
     "data": {
      "text/plain": [
       "dict_values([35, 100])"
      ]
     },
     "execution_count": 367,
     "metadata": {},
     "output_type": "execute_result"
    }
   ],
   "source": [
    "alunos.values()"
   ]
  },
  {
   "cell_type": "code",
   "execution_count": 368,
   "id": "b1acf596",
   "metadata": {},
   "outputs": [
    {
     "data": {
      "text/plain": [
       "dict_keys(['jose', 'joao'])"
      ]
     },
     "execution_count": 368,
     "metadata": {},
     "output_type": "execute_result"
    }
   ],
   "source": [
    "alunos.keys()"
   ]
  },
  {
   "cell_type": "code",
   "execution_count": 369,
   "id": "8de9dc60",
   "metadata": {},
   "outputs": [
    {
     "data": {
      "text/plain": [
       "dict_items([('jose', 35), ('joao', 100)])"
      ]
     },
     "execution_count": 369,
     "metadata": {},
     "output_type": "execute_result"
    }
   ],
   "source": [
    "alunos.items()"
   ]
  },
  {
   "cell_type": "code",
   "execution_count": 371,
   "id": "3d375efc",
   "metadata": {},
   "outputs": [
    {
     "data": {
      "text/plain": [
       "[('jose', 35), ('joao', 100)]"
      ]
     },
     "execution_count": 371,
     "metadata": {},
     "output_type": "execute_result"
    }
   ],
   "source": [
    "aux = list(alunos.items())\n",
    "aux"
   ]
  },
  {
   "cell_type": "code",
   "execution_count": 372,
   "id": "4b87c933",
   "metadata": {},
   "outputs": [
    {
     "name": "stdout",
     "output_type": "stream",
     "text": [
      "jose\n"
     ]
    },
    {
     "data": {
      "text/plain": [
       "35"
      ]
     },
     "execution_count": 372,
     "metadata": {},
     "output_type": "execute_result"
    }
   ],
   "source": [
    "print(aux[0][0])\n",
    "aux[0][1]"
   ]
  },
  {
   "cell_type": "code",
   "execution_count": 373,
   "id": "edcea7b4",
   "metadata": {},
   "outputs": [
    {
     "data": {
      "text/plain": [
       "'jose'"
      ]
     },
     "execution_count": 373,
     "metadata": {},
     "output_type": "execute_result"
    }
   ],
   "source": [
    "aux[0][0]"
   ]
  },
  {
   "cell_type": "code",
   "execution_count": 374,
   "id": "756e50d4",
   "metadata": {},
   "outputs": [
    {
     "data": {
      "text/plain": [
       "35"
      ]
     },
     "execution_count": 374,
     "metadata": {},
     "output_type": "execute_result"
    }
   ],
   "source": [
    "aux[0][1]"
   ]
  },
  {
   "cell_type": "code",
   "execution_count": 375,
   "id": "74d41181",
   "metadata": {},
   "outputs": [
    {
     "name": "stdout",
     "output_type": "stream",
     "text": [
      "jose\n",
      "35\n"
     ]
    }
   ],
   "source": [
    "print(aux[0][0])\n",
    "print(aux[0][1])"
   ]
  },
  {
   "cell_type": "code",
   "execution_count": 90,
   "id": "42feda89",
   "metadata": {},
   "outputs": [
    {
     "name": "stdout",
     "output_type": "stream",
     "text": [
      "{'maria': 35, 'catarina': 20, 'jose': 150}\n"
     ]
    }
   ],
   "source": [
    "n_alunos = {\n",
    "    'maria' : 35,\n",
    "    'catarina' : 20,\n",
    "    'jose' : 150\n",
    "}\n",
    "print(n_alunos)"
   ]
  },
  {
   "cell_type": "code",
   "execution_count": 91,
   "id": "0e33053e",
   "metadata": {},
   "outputs": [],
   "source": [
    "alunos.update(n_alunos)"
   ]
  },
  {
   "cell_type": "code",
   "execution_count": 378,
   "id": "ca996bd6",
   "metadata": {},
   "outputs": [
    {
     "data": {
      "text/plain": [
       "{'jose': 150, 'joao': 100, 'maria': 35, 'catarina': 20}"
      ]
     },
     "execution_count": 378,
     "metadata": {},
     "output_type": "execute_result"
    }
   ],
   "source": [
    "alunos"
   ]
  },
  {
   "cell_type": "code",
   "execution_count": 380,
   "id": "00786459",
   "metadata": {},
   "outputs": [
    {
     "data": {
      "text/plain": [
       "150"
      ]
     },
     "execution_count": 380,
     "metadata": {},
     "output_type": "execute_result"
    }
   ],
   "source": [
    "alunos.pop('jose')"
   ]
  },
  {
   "cell_type": "code",
   "execution_count": 383,
   "id": "85983a89",
   "metadata": {},
   "outputs": [
    {
     "data": {
      "text/plain": [
       "{'joao': 100, 'maria': 35, 'catarina': 20}"
      ]
     },
     "execution_count": 383,
     "metadata": {},
     "output_type": "execute_result"
    }
   ],
   "source": [
    "alunos"
   ]
  },
  {
   "cell_type": "code",
   "execution_count": 385,
   "id": "6d9ee06f",
   "metadata": {},
   "outputs": [
    {
     "data": {
      "text/plain": [
       "20"
      ]
     },
     "execution_count": 385,
     "metadata": {},
     "output_type": "execute_result"
    }
   ],
   "source": [
    "alunos.get('catarina')"
   ]
  },
  {
   "cell_type": "code",
   "execution_count": 386,
   "id": "f7c2f434",
   "metadata": {},
   "outputs": [
    {
     "name": "stdout",
     "output_type": "stream",
     "text": [
      "None\n"
     ]
    }
   ],
   "source": [
    "print(alunos.get('asdf'))"
   ]
  },
  {
   "cell_type": "code",
   "execution_count": 387,
   "id": "9409ca41",
   "metadata": {},
   "outputs": [
    {
     "data": {
      "text/plain": [
       "True"
      ]
     },
     "execution_count": 387,
     "metadata": {},
     "output_type": "execute_result"
    }
   ],
   "source": [
    "'catarina' in alunos"
   ]
  },
  {
   "cell_type": "code",
   "execution_count": 391,
   "id": "6d3e55d5",
   "metadata": {},
   "outputs": [
    {
     "data": {
      "text/plain": [
       "False"
      ]
     },
     "execution_count": 391,
     "metadata": {},
     "output_type": "execute_result"
    }
   ],
   "source": [
    "'catarina' in alunos.values()"
   ]
  },
  {
   "cell_type": "code",
   "execution_count": 392,
   "id": "1eeb0fc2",
   "metadata": {},
   "outputs": [
    {
     "data": {
      "text/plain": [
       "True"
      ]
     },
     "execution_count": 392,
     "metadata": {},
     "output_type": "execute_result"
    }
   ],
   "source": [
    "'catarina' in alunos # mesmo resultado que o comando abaixo\n",
    "'catarina' in alunos.keys()"
   ]
  },
  {
   "cell_type": "code",
   "execution_count": 393,
   "id": "1eeec680",
   "metadata": {},
   "outputs": [
    {
     "data": {
      "text/plain": [
       "False"
      ]
     },
     "execution_count": 393,
     "metadata": {},
     "output_type": "execute_result"
    }
   ],
   "source": [
    "'c' in [1,2]"
   ]
  },
  {
   "cell_type": "code",
   "execution_count": 394,
   "id": "60835f4d",
   "metadata": {},
   "outputs": [
    {
     "data": {
      "text/plain": [
       "False"
      ]
     },
     "execution_count": 394,
     "metadata": {},
     "output_type": "execute_result"
    }
   ],
   "source": [
    "'c' in 'asdf'"
   ]
  },
  {
   "cell_type": "code",
   "execution_count": 395,
   "id": "8846ad99",
   "metadata": {},
   "outputs": [
    {
     "data": {
      "text/plain": [
       "False"
      ]
     },
     "execution_count": 395,
     "metadata": {},
     "output_type": "execute_result"
    }
   ],
   "source": [
    "10 in (1, 2, 3)"
   ]
  },
  {
   "cell_type": "markdown",
   "id": "32c9dbac",
   "metadata": {},
   "source": [
    "## Estruturas de Controle if, elif e else"
   ]
  },
  {
   "cell_type": "code",
   "execution_count": 396,
   "id": "c1b66296",
   "metadata": {},
   "outputs": [
    {
     "name": "stdout",
     "output_type": "stream",
     "text": [
      "Digite um número: 10\n"
     ]
    }
   ],
   "source": [
    "n = int(input(\"Digite um número: \"))"
   ]
  },
  {
   "cell_type": "code",
   "execution_count": 397,
   "id": "39cb580c",
   "metadata": {},
   "outputs": [
    {
     "name": "stdout",
     "output_type": "stream",
     "text": [
      "Par\n"
     ]
    }
   ],
   "source": [
    "if n % 2 ==0:\n",
    "    print('Par')\n",
    "else:\n",
    "    print('Impar')"
   ]
  },
  {
   "cell_type": "code",
   "execution_count": 398,
   "id": "2ac7b9da",
   "metadata": {},
   "outputs": [],
   "source": [
    "nome = 'fia2'"
   ]
  },
  {
   "cell_type": "code",
   "execution_count": 399,
   "id": "b3b18957",
   "metadata": {},
   "outputs": [
    {
     "name": "stdout",
     "output_type": "stream",
     "text": [
      "Não corresponde a nenhum nome\n"
     ]
    }
   ],
   "source": [
    "if nome == 'fia':\n",
    "    idade = 35\n",
    "    print(idade)\n",
    "elif nome == 'usp':\n",
    "    idade = 82\n",
    "    print(idade)\n",
    "else:\n",
    "    print(\"Não corresponde a nenhum nome\")"
   ]
  },
  {
   "cell_type": "code",
   "execution_count": 401,
   "id": "4b5174c4",
   "metadata": {},
   "outputs": [],
   "source": [
    "nome = 'fia'"
   ]
  },
  {
   "cell_type": "code",
   "execution_count": 402,
   "id": "7bc1639b",
   "metadata": {},
   "outputs": [
    {
     "name": "stdout",
     "output_type": "stream",
     "text": [
      "35\n"
     ]
    }
   ],
   "source": [
    "if nome == 'fia':\n",
    "    idade = 35\n",
    "    print(idade)\n",
    "elif nome == 'usp':\n",
    "    idade = 82\n",
    "    print(idade)\n",
    "else:\n",
    "    print(\"Não corresponde a nenhum nome\")"
   ]
  },
  {
   "cell_type": "code",
   "execution_count": 403,
   "id": "a0ce9079",
   "metadata": {},
   "outputs": [],
   "source": [
    "nome = 'usp'"
   ]
  },
  {
   "cell_type": "code",
   "execution_count": 404,
   "id": "3c1ca64b",
   "metadata": {},
   "outputs": [
    {
     "name": "stdout",
     "output_type": "stream",
     "text": [
      "82\n"
     ]
    }
   ],
   "source": [
    "if nome == 'fia':\n",
    "    idade = 35\n",
    "    print(idade)\n",
    "elif nome == 'usp':\n",
    "    idade = 82\n",
    "    print(idade)\n",
    "else:\n",
    "    print(\"Não corresponde a nenhum nome\")"
   ]
  },
  {
   "cell_type": "code",
   "execution_count": 405,
   "id": "31215cac",
   "metadata": {},
   "outputs": [
    {
     "name": "stdout",
     "output_type": "stream",
     "text": [
      "Digite um número: 1000 é mais\n"
     ]
    }
   ],
   "source": [
    "n = input('Digite um número: ')"
   ]
  },
  {
   "cell_type": "code",
   "execution_count": 407,
   "id": "b18ed0fa",
   "metadata": {},
   "outputs": [
    {
     "name": "stdout",
     "output_type": "stream",
     "text": [
      "<class 'str'>\n"
     ]
    }
   ],
   "source": [
    "print(type(n))"
   ]
  },
  {
   "cell_type": "code",
   "execution_count": 408,
   "id": "db0e3b0c",
   "metadata": {},
   "outputs": [
    {
     "ename": "ValueError",
     "evalue": "invalid literal for int() with base 10: '1000 é mais'",
     "output_type": "error",
     "traceback": [
      "\u001b[1;31m---------------------------------------------------------------------------\u001b[0m",
      "\u001b[1;31mValueError\u001b[0m                                Traceback (most recent call last)",
      "\u001b[1;32m~\\AppData\\Local\\Temp\\ipykernel_20016\\1809262523.py\u001b[0m in \u001b[0;36m<module>\u001b[1;34m\u001b[0m\n\u001b[1;32m----> 1\u001b[1;33m \u001b[0mint\u001b[0m\u001b[1;33m(\u001b[0m\u001b[0mn\u001b[0m\u001b[1;33m)\u001b[0m\u001b[1;33m\u001b[0m\u001b[1;33m\u001b[0m\u001b[0m\n\u001b[0m",
      "\u001b[1;31mValueError\u001b[0m: invalid literal for int() with base 10: '1000 é mais'"
     ]
    }
   ],
   "source": [
    "int(n)"
   ]
  },
  {
   "cell_type": "code",
   "execution_count": 430,
   "id": "95642377",
   "metadata": {},
   "outputs": [
    {
     "name": "stdout",
     "output_type": "stream",
     "text": [
      "Digite um número: 10\n"
     ]
    }
   ],
   "source": [
    "n = int(input('Digite um número: '))"
   ]
  },
  {
   "cell_type": "code",
   "execution_count": 421,
   "id": "568a396e",
   "metadata": {},
   "outputs": [
    {
     "name": "stdout",
     "output_type": "stream",
     "text": [
      "<class 'int'>\n"
     ]
    }
   ],
   "source": [
    "print(type(n))"
   ]
  },
  {
   "cell_type": "code",
   "execution_count": 422,
   "id": "8bced287",
   "metadata": {},
   "outputs": [
    {
     "data": {
      "text/plain": [
       "10"
      ]
     },
     "execution_count": 422,
     "metadata": {},
     "output_type": "execute_result"
    }
   ],
   "source": [
    "int(n)"
   ]
  },
  {
   "cell_type": "code",
   "execution_count": 431,
   "id": "1299f78c",
   "metadata": {},
   "outputs": [
    {
     "name": "stdout",
     "output_type": "stream",
     "text": [
      "Par\n",
      "-----\n",
      "O número é: 10\n"
     ]
    }
   ],
   "source": [
    "if n% 2 == 0:\n",
    "    print('Par')\n",
    "    print('-----')\n",
    "else:\n",
    "    print('Impar')\n",
    "    print('xxxxx')\n",
    "\n",
    "print(f'O número é: {n}')\n",
    "   "
   ]
  },
  {
   "cell_type": "code",
   "execution_count": 434,
   "id": "ed37e3c9",
   "metadata": {},
   "outputs": [
    {
     "name": "stdout",
     "output_type": "stream",
     "text": [
      "Digite um número: 11\n"
     ]
    }
   ],
   "source": [
    "n = int(input('Digite um número: '))"
   ]
  },
  {
   "cell_type": "code",
   "execution_count": 435,
   "id": "394c8e6e",
   "metadata": {},
   "outputs": [
    {
     "name": "stdout",
     "output_type": "stream",
     "text": [
      "O número 11 é impar\n"
     ]
    }
   ],
   "source": [
    "if n % 2 == 0:\n",
    "    aux = 'par'\n",
    "else:\n",
    "    aux = 'impar'\n",
    "    \n",
    "print(f'O número {n} é {aux}')"
   ]
  },
  {
   "cell_type": "code",
   "execution_count": 443,
   "id": "344a3ede",
   "metadata": {},
   "outputs": [
    {
     "name": "stdout",
     "output_type": "stream",
     "text": [
      "Digite a idade: 60\n"
     ]
    }
   ],
   "source": [
    "idade = int(input(\"Digite a idade: \"))"
   ]
  },
  {
   "cell_type": "code",
   "execution_count": 444,
   "id": "d377de47",
   "metadata": {},
   "outputs": [
    {
     "name": "stdout",
     "output_type": "stream",
     "text": [
      "Idoso\n"
     ]
    }
   ],
   "source": [
    "if idade < 10:\n",
    "    print(\"Criança\")\n",
    "else:\n",
    "    if idade < 18:\n",
    "        print(\"Adolescente\")\n",
    "    else:\n",
    "        if idade < 60:\n",
    "            print(\"Adulto\")\n",
    "        else:\n",
    "            print(\"Idoso\")"
   ]
  },
  {
   "cell_type": "code",
   "execution_count": 445,
   "id": "25599cd2",
   "metadata": {},
   "outputs": [
    {
     "name": "stdout",
     "output_type": "stream",
     "text": [
      "60\n"
     ]
    }
   ],
   "source": [
    "print(idade)"
   ]
  },
  {
   "cell_type": "code",
   "execution_count": 5,
   "id": "7d61664d",
   "metadata": {},
   "outputs": [
    {
     "name": "stdout",
     "output_type": "stream",
     "text": [
      "x é menor\n"
     ]
    }
   ],
   "source": [
    "x = 10\n",
    "y = 20\n",
    "z = 30\n",
    "\n",
    "if x < y and x < z:\n",
    "    print('x é menor')\n",
    "elif y < z:\n",
    "    print('y é menor')\n",
    "else:\n",
    "    print('z é menor')"
   ]
  },
  {
   "cell_type": "code",
   "execution_count": 6,
   "id": "64015751",
   "metadata": {},
   "outputs": [
    {
     "name": "stdout",
     "output_type": "stream",
     "text": [
      "x é menor\n"
     ]
    }
   ],
   "source": [
    "if x < y and x < z:\n",
    "    print('x é menor')"
   ]
  },
  {
   "cell_type": "code",
   "execution_count": 7,
   "id": "42de25ef",
   "metadata": {},
   "outputs": [
    {
     "name": "stdout",
     "output_type": "stream",
     "text": [
      "x é menor\n"
     ]
    }
   ],
   "source": [
    "if x < y and x < z:\n",
    "    print('x é menor')\n",
    "elif y < z:\n",
    "    print('y é menor')"
   ]
  },
  {
   "cell_type": "code",
   "execution_count": 8,
   "id": "52bc132a",
   "metadata": {},
   "outputs": [
    {
     "name": "stdout",
     "output_type": "stream",
     "text": [
      "x é menor\n"
     ]
    }
   ],
   "source": [
    "if x < y and x < z:\n",
    "    print('x é menor')\n",
    "else:\n",
    "    print('z é menor')"
   ]
  },
  {
   "cell_type": "code",
   "execution_count": 9,
   "id": "ed725ab4",
   "metadata": {},
   "outputs": [
    {
     "ename": "SyntaxError",
     "evalue": "invalid syntax (3097434717.py, line 1)",
     "output_type": "error",
     "traceback": [
      "\u001b[1;36m  File \u001b[1;32m\"C:\\Users\\joelg\\AppData\\Local\\Temp\\ipykernel_28648\\3097434717.py\"\u001b[1;36m, line \u001b[1;32m1\u001b[0m\n\u001b[1;33m    elif y < z:\u001b[0m\n\u001b[1;37m    ^\u001b[0m\n\u001b[1;31mSyntaxError\u001b[0m\u001b[1;31m:\u001b[0m invalid syntax\n"
     ]
    }
   ],
   "source": [
    "elif y < z:\n",
    "    print('y é menor')\n",
    "else:\n",
    "    print('z é menor')"
   ]
  },
  {
   "cell_type": "code",
   "execution_count": 10,
   "id": "d95f21f3",
   "metadata": {},
   "outputs": [
    {
     "ename": "SyntaxError",
     "evalue": "invalid syntax (1025847987.py, line 1)",
     "output_type": "error",
     "traceback": [
      "\u001b[1;36m  File \u001b[1;32m\"C:\\Users\\joelg\\AppData\\Local\\Temp\\ipykernel_28648\\1025847987.py\"\u001b[1;36m, line \u001b[1;32m1\u001b[0m\n\u001b[1;33m    else:\u001b[0m\n\u001b[1;37m    ^\u001b[0m\n\u001b[1;31mSyntaxError\u001b[0m\u001b[1;31m:\u001b[0m invalid syntax\n"
     ]
    }
   ],
   "source": [
    "else:\n",
    "    print('z é menor')"
   ]
  },
  {
   "cell_type": "code",
   "execution_count": 13,
   "id": "dadeb467",
   "metadata": {},
   "outputs": [
    {
     "name": "stdout",
     "output_type": "stream",
     "text": [
      "nome não encontrado\n"
     ]
    }
   ],
   "source": [
    "nome = 'fia2'\n",
    "\n",
    "if nome == 'fia':\n",
    "    idade = 35\n",
    "elif nome == 'usp':\n",
    "    idade = 85\n",
    "elif nome == 'unicamp':\n",
    "    idade = 60\n",
    "else:\n",
    "    idade = 'nome não encontrado'\n",
    "    \n",
    "print(idade)"
   ]
  },
  {
   "cell_type": "code",
   "execution_count": 14,
   "id": "44a4fd42",
   "metadata": {},
   "outputs": [
    {
     "name": "stdout",
     "output_type": "stream",
     "text": [
      "35\n"
     ]
    }
   ],
   "source": [
    "nome = 'fia'\n",
    "\n",
    "if nome == 'fia':\n",
    "    idade = 35\n",
    "elif nome == 'usp':\n",
    "    idade = 85\n",
    "elif nome == 'unicamp':\n",
    "    idade = 60\n",
    "else:\n",
    "    idade = 'nome não encontrado'\n",
    "    \n",
    "print(idade)"
   ]
  },
  {
   "cell_type": "markdown",
   "id": "c01c8293",
   "metadata": {},
   "source": [
    "## Estruturas de Repetição\n",
    "\n",
    "## While"
   ]
  },
  {
   "cell_type": "code",
   "execution_count": 25,
   "id": "cffbec83",
   "metadata": {},
   "outputs": [],
   "source": [
    "lista = [1, 2, 3]"
   ]
  },
  {
   "cell_type": "code",
   "execution_count": 26,
   "id": "7c2b641a",
   "metadata": {},
   "outputs": [
    {
     "name": "stdout",
     "output_type": "stream",
     "text": [
      "3\n",
      "2\n",
      "1\n"
     ]
    }
   ],
   "source": [
    "print(lista[2])\n",
    "print(lista[1])\n",
    "print(lista[0])"
   ]
  },
  {
   "cell_type": "code",
   "execution_count": 27,
   "id": "2db2f09e",
   "metadata": {},
   "outputs": [
    {
     "data": {
      "text/plain": [
       "2"
      ]
     },
     "execution_count": 27,
     "metadata": {},
     "output_type": "execute_result"
    }
   ],
   "source": [
    "n = len(lista) - 1\n",
    "n"
   ]
  },
  {
   "cell_type": "code",
   "execution_count": 28,
   "id": "f0d582e4",
   "metadata": {},
   "outputs": [
    {
     "name": "stdout",
     "output_type": "stream",
     "text": [
      "3\n",
      "2\n",
      "1\n"
     ]
    }
   ],
   "source": [
    "print(lista[n])\n",
    "print(lista[n - 1])\n",
    "print(lista[n - 2])"
   ]
  },
  {
   "cell_type": "code",
   "execution_count": 29,
   "id": "ead7785a",
   "metadata": {},
   "outputs": [
    {
     "name": "stdout",
     "output_type": "stream",
     "text": [
      "n:  2\n",
      "3\n",
      "n:  1\n",
      "2\n",
      "n:  0\n",
      "1\n"
     ]
    }
   ],
   "source": [
    "n = len(lista) - 1\n",
    "print('n: ',n)\n",
    "print(lista[n])\n",
    "n = n - 1\n",
    "print('n: ',n)\n",
    "print(lista[n])\n",
    "n = n - 1\n",
    "print('n: ',n)\n",
    "print(lista[n])"
   ]
  },
  {
   "cell_type": "code",
   "execution_count": 32,
   "id": "d98857a7",
   "metadata": {},
   "outputs": [
    {
     "name": "stdout",
     "output_type": "stream",
     "text": [
      "3\n",
      "2\n",
      "1\n"
     ]
    }
   ],
   "source": [
    "n = len(lista) - 1\n",
    "while n != -1:\n",
    "    print(lista[n])\n",
    "    n = n - 1    "
   ]
  },
  {
   "cell_type": "code",
   "execution_count": 33,
   "id": "6fad7109",
   "metadata": {},
   "outputs": [
    {
     "name": "stdout",
     "output_type": "stream",
     "text": [
      "3\n",
      "2\n",
      "1\n"
     ]
    }
   ],
   "source": [
    "n = len(lista) - 1\n",
    "while True:\n",
    "    print(lista[n])\n",
    "    n -= 1\n",
    "    if n < 0:\n",
    "        break\n",
    "    "
   ]
  },
  {
   "cell_type": "code",
   "execution_count": 34,
   "id": "7f92050a",
   "metadata": {},
   "outputs": [],
   "source": [
    "# while True:\n",
    "#    print('123123')\n",
    "\n",
    "# Looping infinito"
   ]
  },
  {
   "cell_type": "markdown",
   "id": "fdb74a5f",
   "metadata": {},
   "source": [
    "## FOR"
   ]
  },
  {
   "cell_type": "code",
   "execution_count": 35,
   "id": "a5066ad7",
   "metadata": {},
   "outputs": [],
   "source": [
    "produtos = ['ipad', 'celular', 'notebook', 'tv']"
   ]
  },
  {
   "cell_type": "code",
   "execution_count": 36,
   "id": "aac92b92",
   "metadata": {},
   "outputs": [
    {
     "name": "stdout",
     "output_type": "stream",
     "text": [
      "ipad\n",
      "celular\n",
      "notebook\n",
      "tv\n"
     ]
    }
   ],
   "source": [
    "# Para cada elemento da lista produtos (dentro de produtos), imprima o item\n",
    "for item in produtos:\n",
    "    print(item)"
   ]
  },
  {
   "cell_type": "code",
   "execution_count": 39,
   "id": "c3b15314",
   "metadata": {},
   "outputs": [],
   "source": [
    "produtos = ['ipad', 'note', 'pc', 's20']"
   ]
  },
  {
   "cell_type": "code",
   "execution_count": 41,
   "id": "688bb9e9",
   "metadata": {},
   "outputs": [
    {
     "name": "stdout",
     "output_type": "stream",
     "text": [
      "ipad\n",
      "note\n",
      "pc\n",
      "s20\n"
     ]
    }
   ],
   "source": [
    "for elemento in produtos:\n",
    "    print(elemento)"
   ]
  },
  {
   "cell_type": "code",
   "execution_count": 42,
   "id": "e700370d",
   "metadata": {},
   "outputs": [
    {
     "name": "stdout",
     "output_type": "stream",
     "text": [
      "ipad\n",
      "note\n",
      "pc\n",
      "s20\n"
     ]
    }
   ],
   "source": [
    "for banana in produtos:\n",
    "    print(banana)"
   ]
  },
  {
   "cell_type": "code",
   "execution_count": 44,
   "id": "8c59c5a6",
   "metadata": {},
   "outputs": [
    {
     "name": "stdout",
     "output_type": "stream",
     "text": [
      "1 ipad\n",
      "2 note\n",
      "3 pc\n",
      "4 s20\n"
     ]
    }
   ],
   "source": [
    "# É percorrido pelo valor que esta armazenado dentro da lista e não pelo indíce. Esse count é só para exemplificar.\n",
    "count = 1\n",
    "for item in produtos:\n",
    "    print(count, item)\n",
    "    count += 1"
   ]
  },
  {
   "cell_type": "code",
   "execution_count": 45,
   "id": "0d532fc5",
   "metadata": {},
   "outputs": [
    {
     "name": "stdout",
     "output_type": "stream",
     "text": [
      "M\n",
      "e\n",
      "u\n",
      " \n",
      "n\n",
      "o\n",
      "m\n",
      "e\n",
      " \n",
      "é\n",
      " \n",
      "J\n",
      "o\n",
      "e\n",
      "l\n"
     ]
    }
   ],
   "source": [
    "for c in 'Meu nome é Joel':\n",
    "    print(c)"
   ]
  },
  {
   "cell_type": "code",
   "execution_count": 46,
   "id": "a0292c03",
   "metadata": {},
   "outputs": [
    {
     "name": "stdout",
     "output_type": "stream",
     "text": [
      "(0, 'ipad')\n",
      "(1, 'note')\n",
      "(2, 'pc')\n",
      "(3, 's20')\n"
     ]
    }
   ],
   "source": [
    "# O Python gera uma Tupla com um valor sequencial, mais o item. Semelhante ao count, item que usamos acima.\n",
    "for item in enumerate(produtos):\n",
    "    print(item)"
   ]
  },
  {
   "cell_type": "code",
   "execution_count": 47,
   "id": "35e1c845",
   "metadata": {},
   "outputs": [
    {
     "name": "stdout",
     "output_type": "stream",
     "text": [
      "(1, 'ipad')\n",
      "(2, 'note')\n",
      "(3, 'pc')\n",
      "(4, 's20')\n"
     ]
    }
   ],
   "source": [
    "for item in enumerate(produtos, start = 1):\n",
    "    print(item)"
   ]
  },
  {
   "cell_type": "code",
   "execution_count": 48,
   "id": "6a4e3357",
   "metadata": {},
   "outputs": [
    {
     "name": "stdout",
     "output_type": "stream",
     "text": [
      "(2, 'ipad')\n",
      "(3, 'note')\n",
      "(4, 'pc')\n",
      "(5, 's20')\n"
     ]
    }
   ],
   "source": [
    "for item in enumerate(produtos, start = 2):\n",
    "    print(item)"
   ]
  },
  {
   "cell_type": "code",
   "execution_count": 49,
   "id": "4f2cdece",
   "metadata": {},
   "outputs": [
    {
     "name": "stdout",
     "output_type": "stream",
     "text": [
      "1 ipad\n",
      "2 note\n",
      "3 pc\n",
      "4 s20\n"
     ]
    }
   ],
   "source": [
    "for item in enumerate(produtos, start = 1):\n",
    "    print(item[0], item[1])"
   ]
  },
  {
   "cell_type": "code",
   "execution_count": 50,
   "id": "24de234d",
   "metadata": {},
   "outputs": [
    {
     "name": "stdout",
     "output_type": "stream",
     "text": [
      "(1, 'ipad')\n"
     ]
    }
   ],
   "source": [
    "for item in enumerate(produtos, start = 1):\n",
    "    print(item)\n",
    "    break"
   ]
  },
  {
   "cell_type": "code",
   "execution_count": 52,
   "id": "29d4bb50",
   "metadata": {},
   "outputs": [
    {
     "name": "stdout",
     "output_type": "stream",
     "text": [
      "1 ipad\n"
     ]
    }
   ],
   "source": [
    "for item in enumerate(produtos, start = 1):\n",
    "    print(item[0], item[1])\n",
    "    break"
   ]
  },
  {
   "cell_type": "code",
   "execution_count": 53,
   "id": "9c17e62a",
   "metadata": {},
   "outputs": [
    {
     "name": "stdout",
     "output_type": "stream",
     "text": [
      "1 ipad\n"
     ]
    }
   ],
   "source": [
    "idx, valor = (1, 'ipad')\n",
    "print(idx, valor)"
   ]
  },
  {
   "cell_type": "code",
   "execution_count": 54,
   "id": "c6338b80",
   "metadata": {},
   "outputs": [
    {
     "name": "stdout",
     "output_type": "stream",
     "text": [
      "1 ipad\n",
      "2 note\n",
      "3 pc\n",
      "4 s20\n"
     ]
    }
   ],
   "source": [
    "# Usamos o count acima e essa maneira é mais elegante\n",
    "for idx, valor in enumerate(produtos, start = 1):\n",
    "    print(idx, valor)"
   ]
  },
  {
   "cell_type": "code",
   "execution_count": 55,
   "id": "f905fd87",
   "metadata": {},
   "outputs": [],
   "source": [
    "# Laço interativa via indice"
   ]
  },
  {
   "cell_type": "code",
   "execution_count": 58,
   "id": "76541020",
   "metadata": {},
   "outputs": [
    {
     "name": "stdout",
     "output_type": "stream",
     "text": [
      "ipad\n",
      "note\n",
      "pc\n",
      "s20\n"
     ]
    }
   ],
   "source": [
    "print(produtos[0])\n",
    "print(produtos[1])\n",
    "print(produtos[2])\n",
    "print(produtos[3])"
   ]
  },
  {
   "cell_type": "code",
   "execution_count": 61,
   "id": "02635c16",
   "metadata": {},
   "outputs": [],
   "source": [
    "produtos.append('carro')"
   ]
  },
  {
   "cell_type": "code",
   "execution_count": 62,
   "id": "af302561",
   "metadata": {},
   "outputs": [
    {
     "name": "stdout",
     "output_type": "stream",
     "text": [
      "ipad\n",
      "note\n",
      "pc\n",
      "s20\n",
      "carro\n"
     ]
    }
   ],
   "source": [
    "for i in [0, 1, 2, 3, 4]:\n",
    "    print(produtos[i])"
   ]
  },
  {
   "cell_type": "code",
   "execution_count": 63,
   "id": "78c81d3b",
   "metadata": {},
   "outputs": [
    {
     "data": {
      "text/plain": [
       "range(0, 4)"
      ]
     },
     "execution_count": 63,
     "metadata": {},
     "output_type": "execute_result"
    }
   ],
   "source": [
    "range(0, 4)"
   ]
  },
  {
   "cell_type": "code",
   "execution_count": 66,
   "id": "c40773b1",
   "metadata": {},
   "outputs": [
    {
     "name": "stdout",
     "output_type": "stream",
     "text": [
      "0\n",
      "1\n",
      "2\n",
      "3\n",
      "4\n"
     ]
    }
   ],
   "source": [
    "for i in range(0, 5):\n",
    "    print(i)"
   ]
  },
  {
   "cell_type": "code",
   "execution_count": 70,
   "id": "4bd4fe45",
   "metadata": {},
   "outputs": [],
   "source": [
    "produtos.append('aviao')"
   ]
  },
  {
   "cell_type": "code",
   "execution_count": 71,
   "id": "f7d6f95f",
   "metadata": {},
   "outputs": [],
   "source": [
    "produtos.append('aviao')\n",
    "produtos.append('aviao')\n",
    "produtos.append('aviao')\n",
    "produtos.append('aviao')\n",
    "produtos.append('aviao')\n",
    "produtos.append('aviao')\n",
    "produtos.append('aviao')\n",
    "produtos.append('aviao')\n",
    "produtos.append('aviao')\n",
    "produtos.append('aviao')\n",
    "produtos.append('aviao')\n",
    "produtos.append('aviao')\n",
    "produtos.append('aviao')\n",
    "produtos.append('aviao')\n",
    "produtos.append('aviao')\n",
    "produtos.append('aviao')\n",
    "produtos.append('aviao')\n",
    "produtos.append('aviao')\n",
    "produtos.append('aviao')\n",
    "produtos.append('aviao')"
   ]
  },
  {
   "cell_type": "code",
   "execution_count": 72,
   "id": "e7ee1987",
   "metadata": {},
   "outputs": [
    {
     "name": "stdout",
     "output_type": "stream",
     "text": [
      "ipad\n",
      "note\n",
      "pc\n",
      "s20\n",
      "carro\n",
      "aviao\n",
      "aviao\n",
      "aviao\n",
      "aviao\n",
      "aviao\n",
      "aviao\n",
      "aviao\n",
      "aviao\n",
      "aviao\n",
      "aviao\n",
      "aviao\n",
      "aviao\n",
      "aviao\n",
      "aviao\n",
      "aviao\n",
      "aviao\n",
      "aviao\n",
      "aviao\n",
      "aviao\n",
      "aviao\n",
      "aviao\n",
      "aviao\n",
      "aviao\n",
      "aviao\n",
      "aviao\n",
      "aviao\n"
     ]
    }
   ],
   "source": [
    "for i in range(0, len(produtos)):\n",
    "    print(produtos[i])"
   ]
  },
  {
   "cell_type": "code",
   "execution_count": 78,
   "id": "402fa7fa",
   "metadata": {},
   "outputs": [
    {
     "data": {
      "text/plain": [
       "range(0, 10)"
      ]
     },
     "execution_count": 78,
     "metadata": {},
     "output_type": "execute_result"
    }
   ],
   "source": [
    "range(10)"
   ]
  },
  {
   "cell_type": "code",
   "execution_count": 79,
   "id": "81179f92",
   "metadata": {},
   "outputs": [
    {
     "name": "stdout",
     "output_type": "stream",
     "text": [
      "0\n",
      "1\n",
      "2\n",
      "3\n",
      "4\n",
      "5\n",
      "6\n",
      "7\n",
      "8\n",
      "9\n"
     ]
    }
   ],
   "source": [
    "for i in range(0, 10):\n",
    "    print(i)"
   ]
  },
  {
   "cell_type": "code",
   "execution_count": 74,
   "id": "ef67fd36",
   "metadata": {},
   "outputs": [
    {
     "data": {
      "text/plain": [
       "range(1, 10)"
      ]
     },
     "execution_count": 74,
     "metadata": {},
     "output_type": "execute_result"
    }
   ],
   "source": [
    "range(1, 10)"
   ]
  },
  {
   "cell_type": "code",
   "execution_count": 80,
   "id": "9808e25b",
   "metadata": {},
   "outputs": [
    {
     "name": "stdout",
     "output_type": "stream",
     "text": [
      "1\n",
      "2\n",
      "3\n",
      "4\n",
      "5\n",
      "6\n",
      "7\n",
      "8\n",
      "9\n"
     ]
    }
   ],
   "source": [
    "for i in range(1, 10):\n",
    "    print(i)"
   ]
  },
  {
   "cell_type": "code",
   "execution_count": 81,
   "id": "7aae47e0",
   "metadata": {},
   "outputs": [
    {
     "data": {
      "text/plain": [
       "range(0, 10, 2)"
      ]
     },
     "execution_count": 81,
     "metadata": {},
     "output_type": "execute_result"
    }
   ],
   "source": [
    "range(0, 10, 2) # Salto, 0 até 10 em 2 em 2"
   ]
  },
  {
   "cell_type": "code",
   "execution_count": 76,
   "id": "bbd3b113",
   "metadata": {},
   "outputs": [
    {
     "name": "stdout",
     "output_type": "stream",
     "text": [
      "0\n",
      "2\n",
      "4\n",
      "6\n",
      "8\n"
     ]
    }
   ],
   "source": [
    "for i in range(0, 10, 2):\n",
    "    print(i)"
   ]
  },
  {
   "cell_type": "code",
   "execution_count": 77,
   "id": "7bc24930",
   "metadata": {},
   "outputs": [
    {
     "name": "stdout",
     "output_type": "stream",
     "text": [
      "0 2 4 6 8 "
     ]
    }
   ],
   "source": [
    "for i in range(0, 10, 2):\n",
    "    print(i, end = ' ') #quebra de linha"
   ]
  },
  {
   "cell_type": "code",
   "execution_count": 82,
   "id": "73dda6c2",
   "metadata": {},
   "outputs": [
    {
     "name": "stdout",
     "output_type": "stream",
     "text": [
      "9\n",
      "8\n",
      "7\n",
      "6\n",
      "5\n",
      "4\n",
      "3\n",
      "2\n",
      "1\n",
      "0\n"
     ]
    }
   ],
   "source": [
    "for i in reversed(range(0, 10)):\n",
    "    print(i)"
   ]
  },
  {
   "cell_type": "code",
   "execution_count": 83,
   "id": "643502dd",
   "metadata": {},
   "outputs": [
    {
     "name": "stdout",
     "output_type": "stream",
     "text": [
      "9 8 7 6 5 4 3 2 1 0 "
     ]
    }
   ],
   "source": [
    "for i in reversed(range(0, 10)):\n",
    "    print(i, end=' ')"
   ]
  },
  {
   "cell_type": "code",
   "execution_count": 92,
   "id": "0efc2071",
   "metadata": {},
   "outputs": [
    {
     "data": {
      "text/plain": [
       "{'jose': 150, 'bilbo': 28, 'maria': 35, 'catarina': 20}"
      ]
     },
     "execution_count": 92,
     "metadata": {},
     "output_type": "execute_result"
    }
   ],
   "source": [
    "alunos"
   ]
  },
  {
   "cell_type": "code",
   "execution_count": 94,
   "id": "2fef580d",
   "metadata": {},
   "outputs": [
    {
     "name": "stdout",
     "output_type": "stream",
     "text": [
      "('jose', 150)\n",
      "('bilbo', 28)\n",
      "('maria', 35)\n",
      "('catarina', 20)\n"
     ]
    }
   ],
   "source": [
    "for elem in alunos.items():\n",
    "    print(elem)"
   ]
  },
  {
   "cell_type": "code",
   "execution_count": 95,
   "id": "981ddcf4",
   "metadata": {},
   "outputs": [
    {
     "name": "stdout",
     "output_type": "stream",
     "text": [
      "('jose', 150)\n"
     ]
    }
   ],
   "source": [
    "for elem in alunos.items():\n",
    "    print(elem)\n",
    "    break"
   ]
  },
  {
   "cell_type": "code",
   "execution_count": 99,
   "id": "5b76960c",
   "metadata": {},
   "outputs": [
    {
     "name": "stdout",
     "output_type": "stream",
     "text": [
      "jose -> 300\n",
      "bilbo -> 56\n",
      "maria -> 70\n",
      "catarina -> 40\n"
     ]
    }
   ],
   "source": [
    "for chave, valor in alunos.items():\n",
    "    print(chave, '->', valor * 2)  # Utilizei -> para formatar o texto para ficar mais bonito a saída"
   ]
  },
  {
   "cell_type": "code",
   "execution_count": 100,
   "id": "817c5910",
   "metadata": {},
   "outputs": [],
   "source": [
    "numeros = [4, 5, 6, 7, 8, -3, 9, -4]"
   ]
  },
  {
   "cell_type": "code",
   "execution_count": 101,
   "id": "c1dc2f6a",
   "metadata": {},
   "outputs": [
    {
     "name": "stdout",
     "output_type": "stream",
     "text": [
      "negativo: -3\n"
     ]
    }
   ],
   "source": [
    "for num in numeros:\n",
    "    if (num < 0):\n",
    "        print(f\"negativo: {num}\")\n",
    "        break"
   ]
  },
  {
   "cell_type": "code",
   "execution_count": 102,
   "id": "4561f015",
   "metadata": {},
   "outputs": [
    {
     "name": "stdout",
     "output_type": "stream",
     "text": [
      "tem valor\n"
     ]
    }
   ],
   "source": [
    "a = 'xpto'\n",
    "if a:\n",
    "    print('tem valor')\n",
    "else:\n",
    "    print('não tem valor')"
   ]
  },
  {
   "cell_type": "code",
   "execution_count": 103,
   "id": "633e2219",
   "metadata": {},
   "outputs": [
    {
     "name": "stdout",
     "output_type": "stream",
     "text": [
      "não tem valor\n"
     ]
    }
   ],
   "source": [
    "a = ''\n",
    "if a:\n",
    "    print('tem valor')\n",
    "else:\n",
    "    print('não tem valor')"
   ]
  },
  {
   "cell_type": "code",
   "execution_count": 104,
   "id": "3d7d2b34",
   "metadata": {},
   "outputs": [
    {
     "name": "stdout",
     "output_type": "stream",
     "text": [
      "não tem valor\n"
     ]
    }
   ],
   "source": [
    "a = ''\n",
    "if a != '':\n",
    "    print('tem valor')\n",
    "else:\n",
    "    print('não tem valor')"
   ]
  },
  {
   "cell_type": "code",
   "execution_count": 105,
   "id": "caf8f2a1",
   "metadata": {},
   "outputs": [
    {
     "name": "stdout",
     "output_type": "stream",
     "text": [
      "tem valor\n"
     ]
    }
   ],
   "source": [
    "a = 'asd'\n",
    "if a != '':\n",
    "    print('tem valor')\n",
    "else:\n",
    "    print('não tem valor')"
   ]
  },
  {
   "cell_type": "code",
   "execution_count": 106,
   "id": "8a7c91a9",
   "metadata": {},
   "outputs": [
    {
     "name": "stdout",
     "output_type": "stream",
     "text": [
      "tem valor\n"
     ]
    }
   ],
   "source": [
    "a = []\n",
    "if a != '':\n",
    "    print('tem valor')\n",
    "else:\n",
    "    print('não tem valor')"
   ]
  },
  {
   "cell_type": "code",
   "execution_count": 107,
   "id": "665e89ba",
   "metadata": {},
   "outputs": [
    {
     "name": "stdout",
     "output_type": "stream",
     "text": [
      "não tem valor\n"
     ]
    }
   ],
   "source": [
    "a = []\n",
    "if a:\n",
    "    print('tem valor')\n",
    "else:\n",
    "    print('não tem valor')"
   ]
  },
  {
   "cell_type": "markdown",
   "id": "e1391ba4",
   "metadata": {},
   "source": [
    "## Resumo"
   ]
  },
  {
   "cell_type": "code",
   "execution_count": 108,
   "id": "e6c582f7",
   "metadata": {},
   "outputs": [
    {
     "name": "stdout",
     "output_type": "stream",
     "text": [
      "Bem vindo\n"
     ]
    }
   ],
   "source": [
    "import sys\n",
    "print('Bem vindo')"
   ]
  },
  {
   "cell_type": "code",
   "execution_count": 111,
   "id": "abc5ad7f",
   "metadata": {},
   "outputs": [
    {
     "name": "stdout",
     "output_type": "stream",
     "text": [
      "Escolha um número: 10\n"
     ]
    }
   ],
   "source": [
    "num = int(input('Escolha um número: '))"
   ]
  },
  {
   "cell_type": "code",
   "execution_count": 112,
   "id": "5a4ad985",
   "metadata": {},
   "outputs": [
    {
     "name": "stdout",
     "output_type": "stream",
     "text": [
      "Uhuu!!!\n",
      "Obrigado!\n"
     ]
    }
   ],
   "source": [
    "if num == 10:\n",
    "    print(\"Uhuu!!!\")\n",
    "else:\n",
    "    print('Errou: (')\n",
    "    \n",
    "print('Obrigado!')"
   ]
  },
  {
   "cell_type": "code",
   "execution_count": null,
   "id": "e52de739",
   "metadata": {},
   "outputs": [],
   "source": []
  }
 ],
 "metadata": {
  "kernelspec": {
   "display_name": "Python 3 (ipykernel)",
   "language": "python",
   "name": "python3"
  },
  "language_info": {
   "codemirror_mode": {
    "name": "ipython",
    "version": 3
   },
   "file_extension": ".py",
   "mimetype": "text/x-python",
   "name": "python",
   "nbconvert_exporter": "python",
   "pygments_lexer": "ipython3",
   "version": "3.9.13"
  }
 },
 "nbformat": 4,
 "nbformat_minor": 5
}
