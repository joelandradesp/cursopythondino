{
 "cells": [
  {
   "cell_type": "markdown",
   "id": "592f2cb7",
   "metadata": {},
   "source": [
    "# Intro Python"
   ]
  },
  {
   "cell_type": "code",
   "execution_count": 4,
   "id": "333eb542",
   "metadata": {},
   "outputs": [
    {
     "name": "stdout",
     "output_type": "stream",
     "text": [
      "Olá mundo\n"
     ]
    }
   ],
   "source": [
    "print('Olá mundo')"
   ]
  },
  {
   "cell_type": "code",
   "execution_count": 5,
   "id": "935b5f53",
   "metadata": {
    "scrolled": true
   },
   "outputs": [
    {
     "name": "stdout",
     "output_type": "stream",
     "text": [
      "Ola \n",
      "Mundo\n",
      "4\n"
     ]
    }
   ],
   "source": [
    "print('Ola ')\n",
    "print('Mundo')\n",
    "print(2+2)\n"
   ]
  },
  {
   "cell_type": "markdown",
   "id": "ca50bd1f",
   "metadata": {},
   "source": [
    "## Strings"
   ]
  },
  {
   "cell_type": "code",
   "execution_count": 6,
   "id": "47173651",
   "metadata": {},
   "outputs": [],
   "source": [
    "nome = 'Joel'\n",
    "sobrenome = 'Andrade'"
   ]
  },
  {
   "cell_type": "code",
   "execution_count": 7,
   "id": "a21cbdf6",
   "metadata": {},
   "outputs": [
    {
     "name": "stdout",
     "output_type": "stream",
     "text": [
      "Joel Andrade\n"
     ]
    }
   ],
   "source": [
    "print(nome,sobrenome)"
   ]
  },
  {
   "cell_type": "code",
   "execution_count": 8,
   "id": "383ebe6e",
   "metadata": {},
   "outputs": [
    {
     "name": "stdout",
     "output_type": "stream",
     "text": [
      "Joel\n",
      "\n",
      "Andrade\n"
     ]
    }
   ],
   "source": [
    "print(nome)\n",
    "print()\n",
    "print(sobrenome)"
   ]
  },
  {
   "cell_type": "code",
   "execution_count": 9,
   "id": "81cf45fd",
   "metadata": {},
   "outputs": [
    {
     "name": "stdout",
     "output_type": "stream",
     "text": [
      "Dino ' Magri\n"
     ]
    }
   ],
   "source": [
    "print(\"Dino ' Magri\")"
   ]
  },
  {
   "cell_type": "code",
   "execution_count": 10,
   "id": "fca669e3",
   "metadata": {},
   "outputs": [
    {
     "ename": "SyntaxError",
     "evalue": "invalid syntax (1256916114.py, line 1)",
     "output_type": "error",
     "traceback": [
      "\u001b[1;36m  File \u001b[1;32m\"C:\\Users\\joelg\\AppData\\Local\\Temp\\ipykernel_20016\\1256916114.py\"\u001b[1;36m, line \u001b[1;32m1\u001b[0m\n\u001b[1;33m    print('Dino ' Magri')\u001b[0m\n\u001b[1;37m                  ^\u001b[0m\n\u001b[1;31mSyntaxError\u001b[0m\u001b[1;31m:\u001b[0m invalid syntax\n"
     ]
    }
   ],
   "source": [
    "print('Dino ' Magri')"
   ]
  },
  {
   "cell_type": "code",
   "execution_count": 12,
   "id": "fd17c82e",
   "metadata": {},
   "outputs": [
    {
     "name": "stdout",
     "output_type": "stream",
     "text": [
      "Joel ' Andrade\n"
     ]
    }
   ],
   "source": [
    "print(\"Joel ' Andrade\")"
   ]
  },
  {
   "cell_type": "code",
   "execution_count": 13,
   "id": "010cbdba",
   "metadata": {},
   "outputs": [
    {
     "name": "stdout",
     "output_type": "stream",
     "text": [
      "Dino ' Magri\n"
     ]
    }
   ],
   "source": [
    "print('Dino \\' Magri')"
   ]
  },
  {
   "cell_type": "code",
   "execution_count": 18,
   "id": "609258c6",
   "metadata": {},
   "outputs": [],
   "source": [
    "nome = 'Joel Andrade'"
   ]
  },
  {
   "cell_type": "code",
   "execution_count": 19,
   "id": "9db50b24",
   "metadata": {},
   "outputs": [
    {
     "name": "stdout",
     "output_type": "stream",
     "text": [
      "Joel Andrade\n"
     ]
    }
   ],
   "source": [
    "print(nome)"
   ]
  },
  {
   "cell_type": "code",
   "execution_count": 23,
   "id": "546b4a65",
   "metadata": {},
   "outputs": [
    {
     "name": "stdout",
     "output_type": "stream",
     "text": [
      "joel andrade\n"
     ]
    }
   ],
   "source": [
    "print(nome.lower())"
   ]
  },
  {
   "cell_type": "code",
   "execution_count": 24,
   "id": "babb6c90",
   "metadata": {},
   "outputs": [
    {
     "data": {
      "text/plain": [
       "4"
      ]
     },
     "execution_count": 24,
     "metadata": {},
     "output_type": "execute_result"
    }
   ],
   "source": [
    "2 + 2"
   ]
  },
  {
   "cell_type": "code",
   "execution_count": 25,
   "id": "686fdfe7",
   "metadata": {},
   "outputs": [
    {
     "name": "stdout",
     "output_type": "stream",
     "text": [
      "Eu \n",
      " sou uma string\n"
     ]
    }
   ],
   "source": [
    "print(\"Eu \\n sou uma string\")"
   ]
  },
  {
   "cell_type": "code",
   "execution_count": 26,
   "id": "01f988db",
   "metadata": {},
   "outputs": [
    {
     "name": "stdout",
     "output_type": "stream",
     "text": [
      "Eu n sou uma \tstring\n"
     ]
    }
   ],
   "source": [
    "print(\"Eu n sou uma \\tstring\")"
   ]
  },
  {
   "cell_type": "code",
   "execution_count": 27,
   "id": "62ce05c0",
   "metadata": {},
   "outputs": [
    {
     "name": "stdout",
     "output_type": "stream",
     "text": [
      "Eu \\n sou uma \\t string\n"
     ]
    }
   ],
   "source": [
    "print(\"Eu \\\\n sou uma \\\\t string\")"
   ]
  },
  {
   "cell_type": "code",
   "execution_count": 28,
   "id": "2c8cf59b",
   "metadata": {},
   "outputs": [
    {
     "name": "stdout",
     "output_type": "stream",
     "text": [
      "Eu \\\\n sou uma \\\\t string\n"
     ]
    }
   ],
   "source": [
    "print(r\"Eu \\\\n sou uma \\\\t string\")"
   ]
  },
  {
   "cell_type": "code",
   "execution_count": 31,
   "id": "47312760",
   "metadata": {},
   "outputs": [],
   "source": [
    "nome = \"FIA\"\n",
    "idade = 35"
   ]
  },
  {
   "cell_type": "code",
   "execution_count": 32,
   "id": "3c5aa8dc",
   "metadata": {},
   "outputs": [
    {
     "name": "stdout",
     "output_type": "stream",
     "text": [
      "A FIA tem 35 anos\n"
     ]
    }
   ],
   "source": [
    "print(\"A {} tem {} anos\".format(nome,idade))"
   ]
  },
  {
   "cell_type": "code",
   "execution_count": 33,
   "id": "c8eadb3e",
   "metadata": {},
   "outputs": [
    {
     "name": "stdout",
     "output_type": "stream",
     "text": [
      "A  FIA tem 35 anos\n"
     ]
    }
   ],
   "source": [
    "print(\"A \", nome, \"tem\", idade, \"anos\")"
   ]
  },
  {
   "cell_type": "code",
   "execution_count": 34,
   "id": "94614d07",
   "metadata": {},
   "outputs": [
    {
     "name": "stdout",
     "output_type": "stream",
     "text": [
      "A FIA tem 35 anos\n"
     ]
    }
   ],
   "source": [
    "print(f\"A {nome} tem {idade} anos\")"
   ]
  },
  {
   "cell_type": "code",
   "execution_count": 35,
   "id": "6f9eefea",
   "metadata": {},
   "outputs": [
    {
     "data": {
      "text/plain": [
       "'EU SOU UMA STRING'"
      ]
     },
     "execution_count": 35,
     "metadata": {},
     "output_type": "execute_result"
    }
   ],
   "source": [
    "\"eu sou uma string\".upper()"
   ]
  },
  {
   "cell_type": "code",
   "execution_count": 37,
   "id": "9528139d",
   "metadata": {},
   "outputs": [
    {
     "name": "stdout",
     "output_type": "stream",
     "text": [
      "EU SOU UMA STRING\n"
     ]
    }
   ],
   "source": [
    "aux = \"eu sou uma string\".upper()\n",
    "print(aux)"
   ]
  },
  {
   "cell_type": "code",
   "execution_count": 39,
   "id": "7d3ba7c2",
   "metadata": {},
   "outputs": [
    {
     "name": "stdout",
     "output_type": "stream",
     "text": [
      "Eu Sou Uma String\n"
     ]
    }
   ],
   "source": [
    "aux = \"eu sou uma string\".title()\n",
    "print(aux)"
   ]
  },
  {
   "cell_type": "code",
   "execution_count": 40,
   "id": "2d7bced0",
   "metadata": {},
   "outputs": [
    {
     "data": {
      "text/plain": [
       "'FIA'"
      ]
     },
     "execution_count": 40,
     "metadata": {},
     "output_type": "execute_result"
    }
   ],
   "source": [
    "nome"
   ]
  },
  {
   "cell_type": "code",
   "execution_count": 41,
   "id": "cd59220d",
   "metadata": {},
   "outputs": [],
   "source": [
    "nome = \"Joel\"\n",
    "sobrenome = \"Andrade\""
   ]
  },
  {
   "cell_type": "code",
   "execution_count": 42,
   "id": "302891f0",
   "metadata": {},
   "outputs": [
    {
     "data": {
      "text/plain": [
       "'JoelAndrade'"
      ]
     },
     "execution_count": 42,
     "metadata": {},
     "output_type": "execute_result"
    }
   ],
   "source": [
    "nome + sobrenome"
   ]
  },
  {
   "cell_type": "code",
   "execution_count": 43,
   "id": "f4dfadde",
   "metadata": {},
   "outputs": [],
   "source": [
    "nome = \"Joel \"\n",
    "sobrenome = \"Andrade\""
   ]
  },
  {
   "cell_type": "code",
   "execution_count": 44,
   "id": "f67be673",
   "metadata": {},
   "outputs": [
    {
     "data": {
      "text/plain": [
       "'Joel Andrade'"
      ]
     },
     "execution_count": 44,
     "metadata": {},
     "output_type": "execute_result"
    }
   ],
   "source": [
    "nome + sobrenome"
   ]
  },
  {
   "cell_type": "code",
   "execution_count": 45,
   "id": "910d628b",
   "metadata": {},
   "outputs": [
    {
     "data": {
      "text/plain": [
       "'----------'"
      ]
     },
     "execution_count": 45,
     "metadata": {},
     "output_type": "execute_result"
    }
   ],
   "source": [
    "'-' * 10"
   ]
  },
  {
   "cell_type": "code",
   "execution_count": 46,
   "id": "3957a3fb",
   "metadata": {},
   "outputs": [
    {
     "data": {
      "text/plain": [
       "'----------------------------------------------------------------------------------------------------------------------------------------------------------------------------------------------------------------------------------------------------------------------------------------------------------------------------------------------------------------------------------------------------------------------------------------------------------------------------------------------------------------------------------------------------------------------------------------------------------------------------------------------------------------------------------------------------------------------------------------------------------------------------------------------------------------------------------------------------------------------------------------------------------------------------------------------------------------------------------------------------------------------------------------'"
      ]
     },
     "execution_count": 46,
     "metadata": {},
     "output_type": "execute_result"
    }
   ],
   "source": [
    "'-' * 1000"
   ]
  },
  {
   "cell_type": "code",
   "execution_count": 47,
   "id": "c3017594",
   "metadata": {},
   "outputs": [
    {
     "data": {
      "text/plain": [
       "'----------'"
      ]
     },
     "execution_count": 47,
     "metadata": {},
     "output_type": "execute_result"
    }
   ],
   "source": [
    "'-' + '-'+ '-'+ '-'+ '-'+ '-'+ '-'+ '-'+ '-'+ '-'"
   ]
  },
  {
   "cell_type": "code",
   "execution_count": 48,
   "id": "ad1ef61b",
   "metadata": {},
   "outputs": [
    {
     "data": {
      "text/plain": [
       "14"
      ]
     },
     "execution_count": 48,
     "metadata": {},
     "output_type": "execute_result"
    }
   ],
   "source": [
    "mensagem = \"Big Data + FIA\"\n",
    "len(mensagem)"
   ]
  },
  {
   "cell_type": "code",
   "execution_count": 49,
   "id": "91f5e605",
   "metadata": {},
   "outputs": [],
   "source": [
    "s = \"Python\""
   ]
  },
  {
   "cell_type": "code",
   "execution_count": 50,
   "id": "8d8a54f5",
   "metadata": {},
   "outputs": [
    {
     "name": "stdout",
     "output_type": "stream",
     "text": [
      "Python\n"
     ]
    }
   ],
   "source": [
    "print(s)"
   ]
  },
  {
   "cell_type": "code",
   "execution_count": 51,
   "id": "7fcc1f0a",
   "metadata": {},
   "outputs": [
    {
     "data": {
      "text/plain": [
       "'P'"
      ]
     },
     "execution_count": 51,
     "metadata": {},
     "output_type": "execute_result"
    }
   ],
   "source": [
    "s[0]"
   ]
  },
  {
   "cell_type": "code",
   "execution_count": 52,
   "id": "4c855702",
   "metadata": {},
   "outputs": [
    {
     "name": "stdout",
     "output_type": "stream",
     "text": [
      "P\n"
     ]
    }
   ],
   "source": [
    "print(s[0])"
   ]
  },
  {
   "cell_type": "code",
   "execution_count": 53,
   "id": "fd8a873b",
   "metadata": {},
   "outputs": [
    {
     "name": "stdout",
     "output_type": "stream",
     "text": [
      "h\n"
     ]
    }
   ],
   "source": [
    "print(s[3])"
   ]
  },
  {
   "cell_type": "code",
   "execution_count": 54,
   "id": "31e368a0",
   "metadata": {},
   "outputs": [
    {
     "name": "stdout",
     "output_type": "stream",
     "text": [
      "Py\n"
     ]
    }
   ],
   "source": [
    "print(s[0:2])"
   ]
  },
  {
   "cell_type": "code",
   "execution_count": 55,
   "id": "ae887888",
   "metadata": {},
   "outputs": [
    {
     "name": "stdout",
     "output_type": "stream",
     "text": [
      "thon\n"
     ]
    }
   ],
   "source": [
    "print(s[2:])"
   ]
  },
  {
   "cell_type": "code",
   "execution_count": 56,
   "id": "10747a07",
   "metadata": {},
   "outputs": [
    {
     "name": "stdout",
     "output_type": "stream",
     "text": [
      "tho\n"
     ]
    }
   ],
   "source": [
    "print(s[2:5])"
   ]
  },
  {
   "cell_type": "code",
   "execution_count": 57,
   "id": "bf71fce5",
   "metadata": {},
   "outputs": [
    {
     "name": "stdout",
     "output_type": "stream",
     "text": [
      "n\n"
     ]
    }
   ],
   "source": [
    "print(s[-1])"
   ]
  },
  {
   "cell_type": "code",
   "execution_count": 58,
   "id": "d627a24d",
   "metadata": {},
   "outputs": [
    {
     "name": "stdout",
     "output_type": "stream",
     "text": [
      "on\n"
     ]
    }
   ],
   "source": [
    "print(s[-2:])"
   ]
  },
  {
   "cell_type": "code",
   "execution_count": 60,
   "id": "625a79ef",
   "metadata": {},
   "outputs": [
    {
     "data": {
      "text/plain": [
       "'Joel '"
      ]
     },
     "execution_count": 60,
     "metadata": {},
     "output_type": "execute_result"
    }
   ],
   "source": [
    "nome"
   ]
  },
  {
   "cell_type": "code",
   "execution_count": 61,
   "id": "de6e5684",
   "metadata": {},
   "outputs": [
    {
     "ename": "TypeError",
     "evalue": "'str' object does not support item assignment",
     "output_type": "error",
     "traceback": [
      "\u001b[1;31m---------------------------------------------------------------------------\u001b[0m",
      "\u001b[1;31mTypeError\u001b[0m                                 Traceback (most recent call last)",
      "\u001b[1;32m~\\AppData\\Local\\Temp\\ipykernel_20016\\290638248.py\u001b[0m in \u001b[0;36m<module>\u001b[1;34m\u001b[0m\n\u001b[1;32m----> 1\u001b[1;33m \u001b[0mnome\u001b[0m\u001b[1;33m[\u001b[0m\u001b[1;36m2\u001b[0m\u001b[1;33m]\u001b[0m \u001b[1;33m=\u001b[0m \u001b[1;34m\"E\"\u001b[0m\u001b[1;33m\u001b[0m\u001b[1;33m\u001b[0m\u001b[0m\n\u001b[0m",
      "\u001b[1;31mTypeError\u001b[0m: 'str' object does not support item assignment"
     ]
    }
   ],
   "source": [
    "nome[2] = \"E\""
   ]
  },
  {
   "cell_type": "code",
   "execution_count": 65,
   "id": "6084867b",
   "metadata": {},
   "outputs": [],
   "source": [
    "nome = nome[:2] + \"E\" + nome[3:]"
   ]
  },
  {
   "cell_type": "code",
   "execution_count": 66,
   "id": "e4524080",
   "metadata": {},
   "outputs": [
    {
     "data": {
      "text/plain": [
       "'JoEl '"
      ]
     },
     "execution_count": 66,
     "metadata": {},
     "output_type": "execute_result"
    }
   ],
   "source": [
    "nome"
   ]
  },
  {
   "cell_type": "code",
   "execution_count": 67,
   "id": "cf58d039",
   "metadata": {},
   "outputs": [],
   "source": [
    "a = \"Eu sou uma string\""
   ]
  },
  {
   "cell_type": "code",
   "execution_count": 68,
   "id": "caae5d6c",
   "metadata": {},
   "outputs": [
    {
     "name": "stdout",
     "output_type": "stream",
     "text": [
      "E\n"
     ]
    }
   ],
   "source": [
    "print(a[0])"
   ]
  },
  {
   "cell_type": "code",
   "execution_count": 69,
   "id": "979200b1",
   "metadata": {},
   "outputs": [
    {
     "name": "stdout",
     "output_type": "stream",
     "text": [
      "Eu sou\n"
     ]
    }
   ],
   "source": [
    "print(a[:6])"
   ]
  },
  {
   "cell_type": "code",
   "execution_count": 70,
   "id": "83a57dab",
   "metadata": {},
   "outputs": [
    {
     "name": "stdout",
     "output_type": "stream",
     "text": [
      "string\n"
     ]
    }
   ],
   "source": [
    "print(a[-6:])"
   ]
  },
  {
   "cell_type": "code",
   "execution_count": 71,
   "id": "aa75abe0",
   "metadata": {},
   "outputs": [
    {
     "name": "stdout",
     "output_type": "stream",
     "text": [
      "u so\n"
     ]
    }
   ],
   "source": [
    "print(a[1:5])"
   ]
  },
  {
   "cell_type": "code",
   "execution_count": 72,
   "id": "7e319bf0",
   "metadata": {},
   "outputs": [
    {
     "name": "stdout",
     "output_type": "stream",
     "text": [
      "Eu sou uma strin\n"
     ]
    }
   ],
   "source": [
    "print(a[:-1])"
   ]
  },
  {
   "cell_type": "code",
   "execution_count": 81,
   "id": "8abc9d66",
   "metadata": {},
   "outputs": [],
   "source": [
    "titulo = \"titulo com primeiro caractere em maísculo\""
   ]
  },
  {
   "cell_type": "code",
   "execution_count": 74,
   "id": "e51f2fd7",
   "metadata": {},
   "outputs": [
    {
     "data": {
      "text/plain": [
       "'Titulo com primeiro caractere em maísculo'"
      ]
     },
     "execution_count": 74,
     "metadata": {},
     "output_type": "execute_result"
    }
   ],
   "source": [
    "titulo.capitalize()"
   ]
  },
  {
   "cell_type": "code",
   "execution_count": 77,
   "id": "0ca7b2bb",
   "metadata": {},
   "outputs": [
    {
     "data": {
      "text/plain": [
       "5"
      ]
     },
     "execution_count": 77,
     "metadata": {},
     "output_type": "execute_result"
    }
   ],
   "source": [
    "titulo.find('o')"
   ]
  },
  {
   "cell_type": "code",
   "execution_count": 78,
   "id": "1acfc664",
   "metadata": {},
   "outputs": [
    {
     "data": {
      "text/plain": [
       "0"
      ]
     },
     "execution_count": 78,
     "metadata": {},
     "output_type": "execute_result"
    }
   ],
   "source": [
    "titulo.count('o)')"
   ]
  },
  {
   "cell_type": "code",
   "execution_count": 79,
   "id": "eb48a67a",
   "metadata": {},
   "outputs": [
    {
     "data": {
      "text/plain": [
       "4"
      ]
     },
     "execution_count": 79,
     "metadata": {},
     "output_type": "execute_result"
    }
   ],
   "source": [
    "titulo.count('o')"
   ]
  },
  {
   "cell_type": "code",
   "execution_count": 82,
   "id": "62e03a98",
   "metadata": {},
   "outputs": [
    {
     "data": {
      "text/plain": [
       "2"
      ]
     },
     "execution_count": 82,
     "metadata": {},
     "output_type": "execute_result"
    }
   ],
   "source": [
    "titulo.count('titulo')"
   ]
  },
  {
   "cell_type": "code",
   "execution_count": 83,
   "id": "f89306af",
   "metadata": {},
   "outputs": [],
   "source": [
    "mensagem = \"A data de Hoje é superior a data de ontem.\""
   ]
  },
  {
   "cell_type": "code",
   "execution_count": 84,
   "id": "0b585f48",
   "metadata": {},
   "outputs": [
    {
     "data": {
      "text/plain": [
       "2"
      ]
     },
     "execution_count": 84,
     "metadata": {},
     "output_type": "execute_result"
    }
   ],
   "source": [
    "mensagem.count('data')"
   ]
  },
  {
   "cell_type": "code",
   "execution_count": 85,
   "id": "de83e818",
   "metadata": {},
   "outputs": [
    {
     "data": {
      "text/plain": [
       "0"
      ]
     },
     "execution_count": 85,
     "metadata": {},
     "output_type": "execute_result"
    }
   ],
   "source": [
    "mensagem.count('datax')"
   ]
  },
  {
   "cell_type": "code",
   "execution_count": 86,
   "id": "2dee04cd",
   "metadata": {},
   "outputs": [
    {
     "data": {
      "text/plain": [
       "True"
      ]
     },
     "execution_count": 86,
     "metadata": {},
     "output_type": "execute_result"
    }
   ],
   "source": [
    "mensagem.startswith('A data')"
   ]
  },
  {
   "cell_type": "code",
   "execution_count": 87,
   "id": "9614a411",
   "metadata": {},
   "outputs": [
    {
     "data": {
      "text/plain": [
       "False"
      ]
     },
     "execution_count": 87,
     "metadata": {},
     "output_type": "execute_result"
    }
   ],
   "source": [
    "mensagem.startswith(\"a data\")"
   ]
  },
  {
   "cell_type": "markdown",
   "id": "869e2992",
   "metadata": {},
   "source": [
    "## Listas"
   ]
  },
  {
   "cell_type": "code",
   "execution_count": 100,
   "id": "b0b6b0a8",
   "metadata": {},
   "outputs": [],
   "source": [
    "numeros = [1, 2, 3, 4, 5, 6]"
   ]
  },
  {
   "cell_type": "code",
   "execution_count": 101,
   "id": "931ea50b",
   "metadata": {},
   "outputs": [
    {
     "name": "stdout",
     "output_type": "stream",
     "text": [
      "[1, 2, 3, 4, 5, 6]\n"
     ]
    }
   ],
   "source": [
    "print(numeros)"
   ]
  },
  {
   "cell_type": "code",
   "execution_count": 102,
   "id": "0b689076",
   "metadata": {},
   "outputs": [
    {
     "name": "stdout",
     "output_type": "stream",
     "text": [
      "<class 'list'>\n"
     ]
    }
   ],
   "source": [
    "print(type(numeros))"
   ]
  },
  {
   "cell_type": "code",
   "execution_count": 103,
   "id": "519c41ef",
   "metadata": {},
   "outputs": [],
   "source": [
    "letras = list('abcd')"
   ]
  },
  {
   "cell_type": "code",
   "execution_count": 104,
   "id": "537d39e0",
   "metadata": {},
   "outputs": [
    {
     "name": "stdout",
     "output_type": "stream",
     "text": [
      "['a', 'b', 'c', 'd']\n"
     ]
    }
   ],
   "source": [
    "print(letras)"
   ]
  },
  {
   "cell_type": "code",
   "execution_count": 105,
   "id": "1c646d41",
   "metadata": {},
   "outputs": [
    {
     "data": {
      "text/plain": [
       "[1, 2, 3, 4, 5, 6, 7, 8, 9, 10]"
      ]
     },
     "execution_count": 105,
     "metadata": {},
     "output_type": "execute_result"
    }
   ],
   "source": [
    "numeros + [7, 8, 9, 10]"
   ]
  },
  {
   "cell_type": "code",
   "execution_count": 106,
   "id": "e9a09e95",
   "metadata": {},
   "outputs": [],
   "source": [
    "n = numeros + [7, 8, 9, 10]"
   ]
  },
  {
   "cell_type": "code",
   "execution_count": 107,
   "id": "25c8041e",
   "metadata": {},
   "outputs": [
    {
     "name": "stdout",
     "output_type": "stream",
     "text": [
      "[1, 2, 3, 4, 5, 6, 7, 8, 9, 10]\n"
     ]
    }
   ],
   "source": [
    "print(n)"
   ]
  },
  {
   "cell_type": "code",
   "execution_count": 108,
   "id": "6ff1160d",
   "metadata": {},
   "outputs": [
    {
     "name": "stdout",
     "output_type": "stream",
     "text": [
      "[1, 2, 3, 4, 5, 6, 7, 8, 9, 10]\n"
     ]
    }
   ],
   "source": [
    "numeros = numeros + [7, 8, 9, 10]\n",
    "print(numeros)"
   ]
  },
  {
   "cell_type": "code",
   "execution_count": 109,
   "id": "2616231f",
   "metadata": {},
   "outputs": [
    {
     "data": {
      "text/plain": [
       "1"
      ]
     },
     "execution_count": 109,
     "metadata": {},
     "output_type": "execute_result"
    }
   ],
   "source": [
    "numeros[0]"
   ]
  },
  {
   "cell_type": "code",
   "execution_count": 110,
   "id": "5c7d27b1",
   "metadata": {},
   "outputs": [
    {
     "data": {
      "text/plain": [
       "10"
      ]
     },
     "execution_count": 110,
     "metadata": {},
     "output_type": "execute_result"
    }
   ],
   "source": [
    "numeros[-1]"
   ]
  },
  {
   "cell_type": "code",
   "execution_count": 111,
   "id": "1c236d8f",
   "metadata": {},
   "outputs": [
    {
     "data": {
      "text/plain": [
       "[5, 6, 7, 8]"
      ]
     },
     "execution_count": 111,
     "metadata": {},
     "output_type": "execute_result"
    }
   ],
   "source": [
    "numeros[4:8]"
   ]
  },
  {
   "cell_type": "code",
   "execution_count": 168,
   "id": "1ae950c9",
   "metadata": {},
   "outputs": [
    {
     "name": "stdout",
     "output_type": "stream",
     "text": [
      "[1, 2.5, True, None, [1, 2], 'abcd']\n"
     ]
    }
   ],
   "source": [
    "teste = [1, 2.5, True, None, [1,2], 'abcd']\n",
    "print(teste)"
   ]
  },
  {
   "cell_type": "code",
   "execution_count": 169,
   "id": "152d9976",
   "metadata": {},
   "outputs": [],
   "source": [
    "import math"
   ]
  },
  {
   "cell_type": "code",
   "execution_count": 170,
   "id": "ecd85fd5",
   "metadata": {},
   "outputs": [
    {
     "name": "stdout",
     "output_type": "stream",
     "text": [
      "[1, 2.5, True, None, [1, 2], 'abcd', <module 'math' (built-in)>]\n"
     ]
    }
   ],
   "source": [
    "teste = [1, 2.5, True, None, [1,2], 'abcd', math]\n",
    "print(teste)"
   ]
  },
  {
   "cell_type": "code",
   "execution_count": 171,
   "id": "cf8de66f",
   "metadata": {},
   "outputs": [],
   "source": [
    "num = [1, 2, 3]\n",
    "prod = ['ipad', 'note', 'pc', 's20']"
   ]
  },
  {
   "cell_type": "code",
   "execution_count": 173,
   "id": "8bdbff0e",
   "metadata": {},
   "outputs": [
    {
     "name": "stdout",
     "output_type": "stream",
     "text": [
      "[[1, 2, 3], ['ipad', 'note', 'pc', 's20']]\n"
     ]
    }
   ],
   "source": [
    "lst = [num, prod]\n",
    "print(lst)"
   ]
  },
  {
   "cell_type": "code",
   "execution_count": 174,
   "id": "13b047db",
   "metadata": {},
   "outputs": [
    {
     "name": "stdout",
     "output_type": "stream",
     "text": [
      "2\n"
     ]
    }
   ],
   "source": [
    "print(len(lst))"
   ]
  },
  {
   "cell_type": "code",
   "execution_count": 175,
   "id": "02b7b98d",
   "metadata": {},
   "outputs": [
    {
     "name": "stdout",
     "output_type": "stream",
     "text": [
      "[1, 2, 3]\n"
     ]
    }
   ],
   "source": [
    "print(lst[0])"
   ]
  },
  {
   "cell_type": "code",
   "execution_count": 176,
   "id": "573fcefe",
   "metadata": {},
   "outputs": [
    {
     "data": {
      "text/plain": [
       "3"
      ]
     },
     "execution_count": 176,
     "metadata": {},
     "output_type": "execute_result"
    }
   ],
   "source": [
    "len(lst[0])"
   ]
  },
  {
   "cell_type": "code",
   "execution_count": 177,
   "id": "91f6a4a6",
   "metadata": {},
   "outputs": [
    {
     "data": {
      "text/plain": [
       "4"
      ]
     },
     "execution_count": 177,
     "metadata": {},
     "output_type": "execute_result"
    }
   ],
   "source": [
    "len(lst[1])"
   ]
  },
  {
   "cell_type": "code",
   "execution_count": 179,
   "id": "c29d111b",
   "metadata": {},
   "outputs": [
    {
     "data": {
      "text/plain": [
       "['ipad', 'note', 'pc', 's20']"
      ]
     },
     "execution_count": 179,
     "metadata": {},
     "output_type": "execute_result"
    }
   ],
   "source": [
    "aux = lst[1]\n",
    "aux"
   ]
  },
  {
   "cell_type": "code",
   "execution_count": 180,
   "id": "30e48d6d",
   "metadata": {},
   "outputs": [
    {
     "data": {
      "text/plain": [
       "'note'"
      ]
     },
     "execution_count": 180,
     "metadata": {},
     "output_type": "execute_result"
    }
   ],
   "source": [
    "aux[1]"
   ]
  },
  {
   "cell_type": "code",
   "execution_count": 181,
   "id": "0a18a3a9",
   "metadata": {},
   "outputs": [
    {
     "data": {
      "text/plain": [
       "'note'"
      ]
     },
     "execution_count": 181,
     "metadata": {},
     "output_type": "execute_result"
    }
   ],
   "source": [
    "palavra = aux[1]\n",
    "palavra"
   ]
  },
  {
   "cell_type": "code",
   "execution_count": 167,
   "id": "3e9aef7e",
   "metadata": {},
   "outputs": [
    {
     "data": {
      "text/plain": [
       "'e'"
      ]
     },
     "execution_count": 167,
     "metadata": {},
     "output_type": "execute_result"
    }
   ],
   "source": [
    "letra = palavra[-1]\n",
    "letra"
   ]
  },
  {
   "cell_type": "raw",
   "id": "794b3761",
   "metadata": {},
   "source": [
    "letra = lst[1][1][-1]\n"
   ]
  },
  {
   "cell_type": "code",
   "execution_count": 189,
   "id": "0be0f209",
   "metadata": {},
   "outputs": [
    {
     "data": {
      "text/plain": [
       "'e'"
      ]
     },
     "execution_count": 189,
     "metadata": {},
     "output_type": "execute_result"
    }
   ],
   "source": [
    "letra"
   ]
  },
  {
   "cell_type": "code",
   "execution_count": 184,
   "id": "b650c69a",
   "metadata": {},
   "outputs": [
    {
     "data": {
      "text/plain": [
       "['ipad', 'note', 'pc', 's20']"
      ]
     },
     "execution_count": 184,
     "metadata": {},
     "output_type": "execute_result"
    }
   ],
   "source": [
    "lst[1]"
   ]
  },
  {
   "cell_type": "code",
   "execution_count": 185,
   "id": "ee3531dd",
   "metadata": {},
   "outputs": [
    {
     "data": {
      "text/plain": [
       "'note'"
      ]
     },
     "execution_count": 185,
     "metadata": {},
     "output_type": "execute_result"
    }
   ],
   "source": [
    "lst[1][1].lower()"
   ]
  },
  {
   "cell_type": "code",
   "execution_count": 186,
   "id": "b402b0d4",
   "metadata": {},
   "outputs": [
    {
     "data": {
      "text/plain": [
       "'NOTE'"
      ]
     },
     "execution_count": 186,
     "metadata": {},
     "output_type": "execute_result"
    }
   ],
   "source": [
    "lst[1][1].upper()"
   ]
  },
  {
   "cell_type": "code",
   "execution_count": 187,
   "id": "43ca36fe",
   "metadata": {},
   "outputs": [
    {
     "data": {
      "text/plain": [
       "'Note'"
      ]
     },
     "execution_count": 187,
     "metadata": {},
     "output_type": "execute_result"
    }
   ],
   "source": [
    "lst[1][1].title()"
   ]
  },
  {
   "cell_type": "code",
   "execution_count": 188,
   "id": "6c734f17",
   "metadata": {},
   "outputs": [
    {
     "data": {
      "text/plain": [
       "'e'"
      ]
     },
     "execution_count": 188,
     "metadata": {},
     "output_type": "execute_result"
    }
   ],
   "source": [
    "lst[1][1][-1]"
   ]
  },
  {
   "cell_type": "code",
   "execution_count": 202,
   "id": "0423f73e",
   "metadata": {},
   "outputs": [],
   "source": [
    "n = ['c', 'a', 'b']"
   ]
  },
  {
   "cell_type": "code",
   "execution_count": 203,
   "id": "b85d063f",
   "metadata": {},
   "outputs": [
    {
     "ename": "TypeError",
     "evalue": "'<' not supported between instances of 'int' and 'str'",
     "output_type": "error",
     "traceback": [
      "\u001b[1;31m---------------------------------------------------------------------------\u001b[0m",
      "\u001b[1;31mTypeError\u001b[0m                                 Traceback (most recent call last)",
      "\u001b[1;32m~\\AppData\\Local\\Temp\\ipykernel_20016\\3340300590.py\u001b[0m in \u001b[0;36m<module>\u001b[1;34m\u001b[0m\n\u001b[1;32m----> 1\u001b[1;33m \u001b[0mn\u001b[0m\u001b[1;33m.\u001b[0m\u001b[0msort\u001b[0m\u001b[1;33m(\u001b[0m\u001b[1;33m)\u001b[0m\u001b[1;33m\u001b[0m\u001b[1;33m\u001b[0m\u001b[0m\n\u001b[0m",
      "\u001b[1;31mTypeError\u001b[0m: '<' not supported between instances of 'int' and 'str'"
     ]
    }
   ],
   "source": [
    "n.sort()"
   ]
  },
  {
   "cell_type": "code",
   "execution_count": 201,
   "id": "444579a1",
   "metadata": {},
   "outputs": [
    {
     "name": "stdout",
     "output_type": "stream",
     "text": [
      "['c', 'b', 'a']\n"
     ]
    }
   ],
   "source": [
    "print(n)"
   ]
  },
  {
   "cell_type": "code",
   "execution_count": 200,
   "id": "2b6ad409",
   "metadata": {},
   "outputs": [
    {
     "data": {
      "text/plain": [
       "['c', 'b', 'a']"
      ]
     },
     "execution_count": 200,
     "metadata": {},
     "output_type": "execute_result"
    }
   ],
   "source": [
    "n.sort(reverse = True)\n",
    "n"
   ]
  },
  {
   "cell_type": "code",
   "execution_count": 206,
   "id": "d0006ed3",
   "metadata": {},
   "outputs": [],
   "source": [
    "n = ['c', 'a' , 'b', '1', '<', 'ab']"
   ]
  },
  {
   "cell_type": "code",
   "execution_count": 208,
   "id": "68b4c7bc",
   "metadata": {},
   "outputs": [],
   "source": [
    "n.sort()"
   ]
  },
  {
   "cell_type": "code",
   "execution_count": 209,
   "id": "6fcc8c68",
   "metadata": {},
   "outputs": [
    {
     "name": "stdout",
     "output_type": "stream",
     "text": [
      "['1', '<', 'a', 'ab', 'b', 'c']\n"
     ]
    }
   ],
   "source": [
    "print(n)"
   ]
  },
  {
   "cell_type": "code",
   "execution_count": 210,
   "id": "d4cb9fee",
   "metadata": {},
   "outputs": [],
   "source": [
    "n = [9, 1, 8, 7, 6, 10]"
   ]
  },
  {
   "cell_type": "code",
   "execution_count": 211,
   "id": "1c8abf3a",
   "metadata": {},
   "outputs": [],
   "source": [
    "n.sort(reverse=True)"
   ]
  },
  {
   "cell_type": "code",
   "execution_count": 212,
   "id": "bdea3897",
   "metadata": {},
   "outputs": [
    {
     "name": "stdout",
     "output_type": "stream",
     "text": [
      "[10, 9, 8, 7, 6, 1]\n"
     ]
    }
   ],
   "source": [
    "print(n)"
   ]
  },
  {
   "cell_type": "code",
   "execution_count": 216,
   "id": "d13d89cf",
   "metadata": {},
   "outputs": [],
   "source": [
    "n = ['c', 'a', 'b']"
   ]
  },
  {
   "cell_type": "code",
   "execution_count": 217,
   "id": "740e3ed9",
   "metadata": {},
   "outputs": [],
   "source": [
    "n.append('d')"
   ]
  },
  {
   "cell_type": "code",
   "execution_count": 218,
   "id": "adcd7831",
   "metadata": {},
   "outputs": [
    {
     "name": "stdout",
     "output_type": "stream",
     "text": [
      "['c', 'a', 'b', 'd']\n"
     ]
    }
   ],
   "source": [
    "print(n)"
   ]
  },
  {
   "cell_type": "code",
   "execution_count": 220,
   "id": "ea031c71",
   "metadata": {},
   "outputs": [
    {
     "ename": "TypeError",
     "evalue": "list.append() takes exactly one argument (2 given)",
     "output_type": "error",
     "traceback": [
      "\u001b[1;31m---------------------------------------------------------------------------\u001b[0m",
      "\u001b[1;31mTypeError\u001b[0m                                 Traceback (most recent call last)",
      "\u001b[1;32m~\\AppData\\Local\\Temp\\ipykernel_20016\\3036379030.py\u001b[0m in \u001b[0;36m<module>\u001b[1;34m\u001b[0m\n\u001b[1;32m----> 1\u001b[1;33m \u001b[0mn\u001b[0m\u001b[1;33m.\u001b[0m\u001b[0mappend\u001b[0m\u001b[1;33m(\u001b[0m\u001b[1;34m'g'\u001b[0m\u001b[1;33m,\u001b[0m \u001b[1;34m'i'\u001b[0m\u001b[1;33m)\u001b[0m\u001b[1;33m\u001b[0m\u001b[1;33m\u001b[0m\u001b[0m\n\u001b[0m",
      "\u001b[1;31mTypeError\u001b[0m: list.append() takes exactly one argument (2 given)"
     ]
    }
   ],
   "source": [
    "n.append('g', 'i')"
   ]
  },
  {
   "cell_type": "code",
   "execution_count": 221,
   "id": "7397c2b4",
   "metadata": {},
   "outputs": [],
   "source": [
    "n.append(['g','i'])"
   ]
  },
  {
   "cell_type": "code",
   "execution_count": 222,
   "id": "bd323441",
   "metadata": {},
   "outputs": [
    {
     "name": "stdout",
     "output_type": "stream",
     "text": [
      "['c', 'a', 'b', 'd', ['g', 'i']]\n"
     ]
    }
   ],
   "source": [
    "print(n)"
   ]
  },
  {
   "cell_type": "code",
   "execution_count": 223,
   "id": "d0438824",
   "metadata": {},
   "outputs": [
    {
     "data": {
      "text/plain": [
       "5"
      ]
     },
     "execution_count": 223,
     "metadata": {},
     "output_type": "execute_result"
    }
   ],
   "source": [
    "len(n)"
   ]
  },
  {
   "cell_type": "code",
   "execution_count": 226,
   "id": "ad31b404",
   "metadata": {},
   "outputs": [],
   "source": [
    "n.extend(['g','i','a'])"
   ]
  },
  {
   "cell_type": "code",
   "execution_count": 227,
   "id": "1a0bf3fd",
   "metadata": {},
   "outputs": [
    {
     "name": "stdout",
     "output_type": "stream",
     "text": [
      "['c', 'a', 'b', 'd', ['g', 'i'], 'g', 'i', 'g', 'i', 'a']\n"
     ]
    }
   ],
   "source": [
    "print(n)"
   ]
  },
  {
   "cell_type": "code",
   "execution_count": 228,
   "id": "dd1ecd79",
   "metadata": {},
   "outputs": [],
   "source": [
    "n.remove('a')"
   ]
  },
  {
   "cell_type": "code",
   "execution_count": 229,
   "id": "c76cef2c",
   "metadata": {},
   "outputs": [
    {
     "name": "stdout",
     "output_type": "stream",
     "text": [
      "['c', 'b', 'd', ['g', 'i'], 'g', 'i', 'g', 'i', 'a']\n"
     ]
    }
   ],
   "source": [
    "print(n)"
   ]
  },
  {
   "cell_type": "code",
   "execution_count": 230,
   "id": "b8fa91cb",
   "metadata": {},
   "outputs": [
    {
     "data": {
      "text/plain": [
       "'a'"
      ]
     },
     "execution_count": 230,
     "metadata": {},
     "output_type": "execute_result"
    }
   ],
   "source": [
    "n.pop(-1)"
   ]
  },
  {
   "cell_type": "code",
   "execution_count": 231,
   "id": "91192c1f",
   "metadata": {},
   "outputs": [
    {
     "name": "stdout",
     "output_type": "stream",
     "text": [
      "['c', 'b', 'd', ['g', 'i'], 'g', 'i', 'g', 'i']\n"
     ]
    }
   ],
   "source": [
    "print(n)"
   ]
  },
  {
   "cell_type": "code",
   "execution_count": 232,
   "id": "3d08729e",
   "metadata": {},
   "outputs": [],
   "source": [
    "aux = n.pop(4)"
   ]
  },
  {
   "cell_type": "code",
   "execution_count": 233,
   "id": "62d59aa9",
   "metadata": {},
   "outputs": [
    {
     "name": "stdout",
     "output_type": "stream",
     "text": [
      "g\n"
     ]
    }
   ],
   "source": [
    "print(aux)"
   ]
  },
  {
   "cell_type": "code",
   "execution_count": 234,
   "id": "29edea6c",
   "metadata": {},
   "outputs": [
    {
     "data": {
      "text/plain": [
       "['c', 'b', 'd', ['g', 'i'], 'i', 'g', 'i']"
      ]
     },
     "execution_count": 234,
     "metadata": {},
     "output_type": "execute_result"
    }
   ],
   "source": [
    "n"
   ]
  },
  {
   "cell_type": "code",
   "execution_count": 235,
   "id": "d6e13fc6",
   "metadata": {},
   "outputs": [
    {
     "data": {
      "text/plain": [
       "2"
      ]
     },
     "execution_count": 235,
     "metadata": {},
     "output_type": "execute_result"
    }
   ],
   "source": [
    "n.index('d')"
   ]
  },
  {
   "cell_type": "code",
   "execution_count": 236,
   "id": "6c1d41ea",
   "metadata": {},
   "outputs": [
    {
     "data": {
      "text/plain": [
       "'d'"
      ]
     },
     "execution_count": 236,
     "metadata": {},
     "output_type": "execute_result"
    }
   ],
   "source": [
    "n.pop(n.index('d'))"
   ]
  },
  {
   "cell_type": "code",
   "execution_count": 237,
   "id": "d5b9ee0b",
   "metadata": {},
   "outputs": [
    {
     "data": {
      "text/plain": [
       "['c', 'b', ['g', 'i'], 'i', 'g', 'i']"
      ]
     },
     "execution_count": 237,
     "metadata": {},
     "output_type": "execute_result"
    }
   ],
   "source": [
    "n"
   ]
  },
  {
   "cell_type": "code",
   "execution_count": 238,
   "id": "5b1e05e7",
   "metadata": {},
   "outputs": [
    {
     "ename": "AttributeError",
     "evalue": "'list' object has no attribute 'find'",
     "output_type": "error",
     "traceback": [
      "\u001b[1;31m---------------------------------------------------------------------------\u001b[0m",
      "\u001b[1;31mAttributeError\u001b[0m                            Traceback (most recent call last)",
      "\u001b[1;32m~\\AppData\\Local\\Temp\\ipykernel_20016\\788534671.py\u001b[0m in \u001b[0;36m<module>\u001b[1;34m\u001b[0m\n\u001b[1;32m----> 1\u001b[1;33m \u001b[0mn\u001b[0m\u001b[1;33m.\u001b[0m\u001b[0mfind\u001b[0m\u001b[1;33m(\u001b[0m\u001b[1;34m'd'\u001b[0m\u001b[1;33m)\u001b[0m\u001b[1;33m\u001b[0m\u001b[1;33m\u001b[0m\u001b[0m\n\u001b[0m",
      "\u001b[1;31mAttributeError\u001b[0m: 'list' object has no attribute 'find'"
     ]
    }
   ],
   "source": [
    "n.find('d')"
   ]
  },
  {
   "cell_type": "code",
   "execution_count": 240,
   "id": "9360a22a",
   "metadata": {},
   "outputs": [
    {
     "ename": "ValueError",
     "evalue": "'d' is not in list",
     "output_type": "error",
     "traceback": [
      "\u001b[1;31m---------------------------------------------------------------------------\u001b[0m",
      "\u001b[1;31mValueError\u001b[0m                                Traceback (most recent call last)",
      "\u001b[1;32m~\\AppData\\Local\\Temp\\ipykernel_20016\\3377064796.py\u001b[0m in \u001b[0;36m<module>\u001b[1;34m\u001b[0m\n\u001b[1;32m----> 1\u001b[1;33m \u001b[0mn\u001b[0m\u001b[1;33m.\u001b[0m\u001b[0mindex\u001b[0m\u001b[1;33m(\u001b[0m\u001b[1;34m'd'\u001b[0m\u001b[1;33m)\u001b[0m\u001b[1;33m\u001b[0m\u001b[1;33m\u001b[0m\u001b[0m\n\u001b[0m",
      "\u001b[1;31mValueError\u001b[0m: 'd' is not in list"
     ]
    }
   ],
   "source": [
    "n.index('d')"
   ]
  },
  {
   "cell_type": "code",
   "execution_count": 241,
   "id": "9a522ab0",
   "metadata": {},
   "outputs": [
    {
     "data": {
      "text/plain": [
       "2"
      ]
     },
     "execution_count": 241,
     "metadata": {},
     "output_type": "execute_result"
    }
   ],
   "source": [
    "n.index(['g','i'])"
   ]
  },
  {
   "cell_type": "code",
   "execution_count": 242,
   "id": "25c6432d",
   "metadata": {},
   "outputs": [],
   "source": [
    "# Para remover a lista interna\n",
    "# n.remove(['g','i'])\n",
    "# n.pop(n.index(['g','i']))"
   ]
  },
  {
   "cell_type": "code",
   "execution_count": 243,
   "id": "e845611a",
   "metadata": {},
   "outputs": [],
   "source": [
    "n.remove(['g','i'])"
   ]
  },
  {
   "cell_type": "code",
   "execution_count": 244,
   "id": "9932daa9",
   "metadata": {},
   "outputs": [
    {
     "name": "stdout",
     "output_type": "stream",
     "text": [
      "['c', 'b', 'i', 'g', 'i']\n"
     ]
    }
   ],
   "source": [
    "print(n)"
   ]
  },
  {
   "cell_type": "code",
   "execution_count": 245,
   "id": "950dc320",
   "metadata": {},
   "outputs": [
    {
     "data": {
      "text/plain": [
       "-1"
      ]
     },
     "execution_count": 245,
     "metadata": {},
     "output_type": "execute_result"
    }
   ],
   "source": [
    "nome.find('D')"
   ]
  },
  {
   "cell_type": "code",
   "execution_count": 246,
   "id": "000781ea",
   "metadata": {},
   "outputs": [
    {
     "data": {
      "text/plain": [
       "0"
      ]
     },
     "execution_count": 246,
     "metadata": {},
     "output_type": "execute_result"
    }
   ],
   "source": [
    "nome.find('J')"
   ]
  },
  {
   "cell_type": "code",
   "execution_count": 247,
   "id": "5d6fffb6",
   "metadata": {},
   "outputs": [
    {
     "data": {
      "text/plain": [
       "0"
      ]
     },
     "execution_count": 247,
     "metadata": {},
     "output_type": "execute_result"
    }
   ],
   "source": [
    "nome.index('J')"
   ]
  },
  {
   "cell_type": "code",
   "execution_count": 248,
   "id": "9492b42b",
   "metadata": {},
   "outputs": [
    {
     "ename": "ValueError",
     "evalue": "substring not found",
     "output_type": "error",
     "traceback": [
      "\u001b[1;31m---------------------------------------------------------------------------\u001b[0m",
      "\u001b[1;31mValueError\u001b[0m                                Traceback (most recent call last)",
      "\u001b[1;32m~\\AppData\\Local\\Temp\\ipykernel_20016\\1841102925.py\u001b[0m in \u001b[0;36m<module>\u001b[1;34m\u001b[0m\n\u001b[1;32m----> 1\u001b[1;33m \u001b[0mnome\u001b[0m\u001b[1;33m.\u001b[0m\u001b[0mindex\u001b[0m\u001b[1;33m(\u001b[0m\u001b[1;34m'D'\u001b[0m\u001b[1;33m)\u001b[0m\u001b[1;33m\u001b[0m\u001b[1;33m\u001b[0m\u001b[0m\n\u001b[0m",
      "\u001b[1;31mValueError\u001b[0m: substring not found"
     ]
    }
   ],
   "source": [
    "nome.index('D')"
   ]
  },
  {
   "cell_type": "code",
   "execution_count": 250,
   "id": "1556b6bf",
   "metadata": {},
   "outputs": [
    {
     "data": {
      "text/plain": [
       "0"
      ]
     },
     "execution_count": 250,
     "metadata": {},
     "output_type": "execute_result"
    }
   ],
   "source": [
    "n.count(1)"
   ]
  },
  {
   "cell_type": "code",
   "execution_count": 251,
   "id": "11ee013f",
   "metadata": {},
   "outputs": [
    {
     "data": {
      "text/plain": [
       "0"
      ]
     },
     "execution_count": 251,
     "metadata": {},
     "output_type": "execute_result"
    }
   ],
   "source": [
    "n.count([1,2])"
   ]
  },
  {
   "cell_type": "code",
   "execution_count": 252,
   "id": "4b24cf30",
   "metadata": {},
   "outputs": [
    {
     "data": {
      "text/plain": [
       "2"
      ]
     },
     "execution_count": 252,
     "metadata": {},
     "output_type": "execute_result"
    }
   ],
   "source": [
    "n.count('i')"
   ]
  },
  {
   "cell_type": "code",
   "execution_count": 262,
   "id": "6d8eacde",
   "metadata": {},
   "outputs": [],
   "source": [
    "n.clear()"
   ]
  },
  {
   "cell_type": "code",
   "execution_count": 263,
   "id": "6097abcb",
   "metadata": {},
   "outputs": [
    {
     "name": "stdout",
     "output_type": "stream",
     "text": [
      "[]\n"
     ]
    }
   ],
   "source": [
    "print(n)"
   ]
  },
  {
   "cell_type": "code",
   "execution_count": 264,
   "id": "39c9c23e",
   "metadata": {},
   "outputs": [],
   "source": [
    "n.insert(0,'a')"
   ]
  },
  {
   "cell_type": "code",
   "execution_count": 265,
   "id": "a0478b60",
   "metadata": {},
   "outputs": [],
   "source": [
    "n.insert(0,1)"
   ]
  },
  {
   "cell_type": "code",
   "execution_count": 266,
   "id": "c95c5847",
   "metadata": {},
   "outputs": [],
   "source": [
    "n.insert(0,[1.2, True])"
   ]
  },
  {
   "cell_type": "code",
   "execution_count": 267,
   "id": "6f69fafc",
   "metadata": {},
   "outputs": [
    {
     "name": "stdout",
     "output_type": "stream",
     "text": [
      "[[1.2, True], 1, 'a']\n"
     ]
    }
   ],
   "source": [
    "print(n)"
   ]
  },
  {
   "cell_type": "code",
   "execution_count": 268,
   "id": "a6abaa4d",
   "metadata": {},
   "outputs": [],
   "source": [
    "n.insert(0,10)"
   ]
  },
  {
   "cell_type": "code",
   "execution_count": 269,
   "id": "95e2b1d5",
   "metadata": {},
   "outputs": [
    {
     "name": "stdout",
     "output_type": "stream",
     "text": [
      "[10, [1.2, True], 1, 'a']\n"
     ]
    }
   ],
   "source": [
    "print(n)"
   ]
  },
  {
   "cell_type": "code",
   "execution_count": 270,
   "id": "8fe4f5cb",
   "metadata": {},
   "outputs": [
    {
     "data": {
      "text/plain": [
       "[1.2, True]"
      ]
     },
     "execution_count": 270,
     "metadata": {},
     "output_type": "execute_result"
    }
   ],
   "source": [
    "n[1]"
   ]
  },
  {
   "cell_type": "code",
   "execution_count": 271,
   "id": "e0a6f071",
   "metadata": {},
   "outputs": [],
   "source": [
    "n[1].insert(1,'b')"
   ]
  },
  {
   "cell_type": "code",
   "execution_count": 272,
   "id": "b03c012e",
   "metadata": {},
   "outputs": [
    {
     "data": {
      "text/plain": [
       "[10, [1.2, 'b', True], 1, 'a']"
      ]
     },
     "execution_count": 272,
     "metadata": {},
     "output_type": "execute_result"
    }
   ],
   "source": [
    "n"
   ]
  },
  {
   "cell_type": "code",
   "execution_count": 273,
   "id": "7fcd6dd4",
   "metadata": {},
   "outputs": [],
   "source": [
    "n.reverse()"
   ]
  },
  {
   "cell_type": "code",
   "execution_count": 274,
   "id": "099db3fd",
   "metadata": {},
   "outputs": [
    {
     "data": {
      "text/plain": [
       "['a', 1, [1.2, 'b', True], 10]"
      ]
     },
     "execution_count": 274,
     "metadata": {},
     "output_type": "execute_result"
    }
   ],
   "source": [
    "n"
   ]
  },
  {
   "cell_type": "code",
   "execution_count": 275,
   "id": "42eec6fc",
   "metadata": {},
   "outputs": [],
   "source": [
    "a = [1,2]\n",
    "b = a"
   ]
  },
  {
   "cell_type": "code",
   "execution_count": 276,
   "id": "03c980c6",
   "metadata": {},
   "outputs": [
    {
     "name": "stdout",
     "output_type": "stream",
     "text": [
      "[1, 2]\n",
      "[1, 2]\n"
     ]
    }
   ],
   "source": [
    "print(a)\n",
    "print(b)"
   ]
  },
  {
   "cell_type": "code",
   "execution_count": 277,
   "id": "7e8cb39b",
   "metadata": {},
   "outputs": [
    {
     "data": {
      "text/plain": [
       "2419059181632"
      ]
     },
     "execution_count": 277,
     "metadata": {},
     "output_type": "execute_result"
    }
   ],
   "source": [
    "id(a)"
   ]
  },
  {
   "cell_type": "code",
   "execution_count": 278,
   "id": "57721211",
   "metadata": {},
   "outputs": [
    {
     "data": {
      "text/plain": [
       "2419059181632"
      ]
     },
     "execution_count": 278,
     "metadata": {},
     "output_type": "execute_result"
    }
   ],
   "source": [
    "id(b)"
   ]
  },
  {
   "cell_type": "code",
   "execution_count": 279,
   "id": "fe64007d",
   "metadata": {},
   "outputs": [],
   "source": [
    "b[0] = 10"
   ]
  },
  {
   "cell_type": "code",
   "execution_count": 281,
   "id": "e8f1adf0",
   "metadata": {},
   "outputs": [
    {
     "name": "stdout",
     "output_type": "stream",
     "text": [
      "[10, 2]\n",
      "[10, 2]\n"
     ]
    }
   ],
   "source": [
    "print(a)\n",
    "print(b)"
   ]
  },
  {
   "cell_type": "code",
   "execution_count": 283,
   "id": "5b5ac07c",
   "metadata": {},
   "outputs": [],
   "source": [
    "a = [1, 2]\n",
    "b = a.copy()"
   ]
  },
  {
   "cell_type": "code",
   "execution_count": 284,
   "id": "1e040f27",
   "metadata": {},
   "outputs": [
    {
     "data": {
      "text/plain": [
       "2419054226560"
      ]
     },
     "execution_count": 284,
     "metadata": {},
     "output_type": "execute_result"
    }
   ],
   "source": [
    "id(a)"
   ]
  },
  {
   "cell_type": "code",
   "execution_count": 285,
   "id": "3f8b13f6",
   "metadata": {},
   "outputs": [
    {
     "data": {
      "text/plain": [
       "2419060474304"
      ]
     },
     "execution_count": 285,
     "metadata": {},
     "output_type": "execute_result"
    }
   ],
   "source": [
    "id(b)"
   ]
  },
  {
   "cell_type": "code",
   "execution_count": 286,
   "id": "2b882eef",
   "metadata": {},
   "outputs": [],
   "source": [
    "b[0] = 10"
   ]
  },
  {
   "cell_type": "code",
   "execution_count": 287,
   "id": "5952a58f",
   "metadata": {},
   "outputs": [
    {
     "name": "stdout",
     "output_type": "stream",
     "text": [
      "[1, 2]\n",
      "[10, 2]\n"
     ]
    }
   ],
   "source": [
    "print(a)\n",
    "print(b)"
   ]
  },
  {
   "cell_type": "code",
   "execution_count": null,
   "id": "d5e1cc5c",
   "metadata": {},
   "outputs": [],
   "source": []
  }
 ],
 "metadata": {
  "kernelspec": {
   "display_name": "Python 3 (ipykernel)",
   "language": "python",
   "name": "python3"
  },
  "language_info": {
   "codemirror_mode": {
    "name": "ipython",
    "version": 3
   },
   "file_extension": ".py",
   "mimetype": "text/x-python",
   "name": "python",
   "nbconvert_exporter": "python",
   "pygments_lexer": "ipython3",
   "version": "3.9.13"
  }
 },
 "nbformat": 4,
 "nbformat_minor": 5
}
