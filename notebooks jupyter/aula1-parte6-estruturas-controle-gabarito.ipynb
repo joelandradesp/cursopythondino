{
 "cells": [
  {
   "cell_type": "markdown",
   "metadata": {},
   "source": [
    "# Estruturas de Controle\n",
    "\n",
    "É importante controlar o fluxo do nosso código!\n",
    "\n",
    "## IF, ELIF, ELSE\n",
    "\n",
    "* Para controlar o fluxo do nosso código Python, podemos avaliar uma determinada expressão.\n",
    "    * Um teste (expressão que avalia para verdadeiro (True) ou falso (False)\n",
    "    * Um bloco de código que será executado se o teste for verdadeiro (True)\n",
    "    * Um bloco de código que será executado se o teste for falso (False)\n",
    "\n",
    "<img src=\"if-elif-else.png\" alt=\"if-elif-else\" style=\"width: 200px;\"/>"
   ]
  },
  {
   "cell_type": "code",
   "execution_count": 1,
   "metadata": {},
   "outputs": [],
   "source": [
    "isinstance?"
   ]
  },
  {
   "cell_type": "code",
   "execution_count": 2,
   "metadata": {},
   "outputs": [
    {
     "name": "stdout",
     "output_type": "stream",
     "text": [
      "Digite um número: 10\n"
     ]
    }
   ],
   "source": [
    "n = int(input('Digite um número: '))"
   ]
  },
  {
   "cell_type": "code",
   "execution_count": 3,
   "metadata": {},
   "outputs": [
    {
     "name": "stdout",
     "output_type": "stream",
     "text": [
      "Par\n"
     ]
    }
   ],
   "source": [
    "if n % 2 == 0:\n",
    "    print('Par')\n",
    "else:\n",
    "    print('Impar')\n"
   ]
  },
  {
   "cell_type": "markdown",
   "metadata": {},
   "source": [
    "Também podemos ter condições dentro de condições, por exemplo:"
   ]
  },
  {
   "cell_type": "code",
   "execution_count": 4,
   "metadata": {},
   "outputs": [
    {
     "name": "stdout",
     "output_type": "stream",
     "text": [
      "Não corresponde a nenhum nome\n"
     ]
    }
   ],
   "source": [
    "nome = 'fia2'\n",
    "\n",
    "if nome == 'fia':\n",
    "    idade = 35\n",
    "    print(idade)\n",
    "elif nome == 'usp':\n",
    "    idade = 82\n",
    "    print(idade)\n",
    "else:\n",
    "    print(\"Não corresponde a nenhum nome\")\n",
    "    "
   ]
  },
  {
   "cell_type": "markdown",
   "metadata": {},
   "source": [
    "* Também podemos utilizar comparações boleanas"
   ]
  },
  {
   "cell_type": "code",
   "execution_count": 5,
   "metadata": {},
   "outputs": [],
   "source": [
    "x = 10\n",
    "y = 11\n",
    "z = 12"
   ]
  },
  {
   "cell_type": "code",
   "execution_count": 6,
   "metadata": {},
   "outputs": [
    {
     "name": "stdout",
     "output_type": "stream",
     "text": [
      "x é menor\n"
     ]
    }
   ],
   "source": [
    "if x < y and x < z:\n",
    "    print(\"x é menor\")\n",
    "elif y < z:\n",
    "    print(\"y é menor\")\n",
    "else:\n",
    "    print(\"z é menor\")"
   ]
  },
  {
   "cell_type": "markdown",
   "metadata": {},
   "source": [
    "** Não existe estrutura do tipo switch/case**"
   ]
  },
  {
   "cell_type": "markdown",
   "metadata": {},
   "source": [
    "## WHILE\n",
    "\n",
    "É utilizado para execução repetitiva enquanto a expressão for verdadeira.\n",
    "\n",
    "* Estamos começando a adicionar complexidade em nosso código.\n",
    "    * Inicia com um teste\n",
    "    * Se o teste resultar em verdadeiro (True), então o código do laço iterativo será executado uma única vez e então o código será redirecionado para que o teste seja refeito.\n",
    "    * Esse processo é repetido até que o teste resulte em falso (False), saindo do laço iterativo.\n",
    "    \n",
    "\n",
    "<img src=\"while.png\" alt=\"if-elif-else\" style=\"width: 200px;\"/>"
   ]
  },
  {
   "cell_type": "code",
   "execution_count": 7,
   "metadata": {},
   "outputs": [
    {
     "name": "stdout",
     "output_type": "stream",
     "text": [
      "3\n",
      "2\n",
      "1\n"
     ]
    }
   ],
   "source": [
    "lista = [1, 2, 3]\n",
    "n = len(lista) - 1\n",
    "\n",
    "while (n != -1):\n",
    "    print(lista[n])\n",
    "    n = n - 1"
   ]
  },
  {
   "cell_type": "markdown",
   "metadata": {},
   "source": [
    "* O código acima escrito de outra forma"
   ]
  },
  {
   "cell_type": "code",
   "execution_count": 8,
   "metadata": {},
   "outputs": [
    {
     "name": "stdout",
     "output_type": "stream",
     "text": [
      "3\n",
      "2\n",
      "1\n"
     ]
    }
   ],
   "source": [
    "lista = [1, 2, 3]\n",
    "n = len(lista) - 1\n",
    "while True:\n",
    "    print(lista[n])\n",
    "    n = n - 1\n",
    "    if n < 0:\n",
    "        break\n"
   ]
  },
  {
   "cell_type": "markdown",
   "metadata": {},
   "source": [
    "* Note que para pararmos a execução do laço, temos que explicitamente colocar o comando ```break``` para interromper a execução do laço. Isso não é feito no exemplo anterior, onde o \"break\" acontece quando o expressão é falsa."
   ]
  },
  {
   "cell_type": "markdown",
   "metadata": {},
   "source": [
    "## FOR\n",
    "\n",
    "Para percorrer um conjunto de valores podemos utilizar o laço iterativo FOR."
   ]
  },
  {
   "cell_type": "code",
   "execution_count": 9,
   "metadata": {},
   "outputs": [],
   "source": [
    "produtos = ['ipad', 'celular', 'notebook', 'tv']"
   ]
  },
  {
   "cell_type": "code",
   "execution_count": 10,
   "metadata": {},
   "outputs": [
    {
     "name": "stdout",
     "output_type": "stream",
     "text": [
      "ipad\n",
      "celular\n",
      "notebook\n",
      "tv\n"
     ]
    }
   ],
   "source": [
    "for item in produtos:\n",
    "    print(item)"
   ]
  },
  {
   "cell_type": "markdown",
   "metadata": {},
   "source": [
    "* Podemos utilizar a função ```enumerate()``` para recuperar a posição do index e o valor correspondente"
   ]
  },
  {
   "cell_type": "code",
   "execution_count": 11,
   "metadata": {},
   "outputs": [
    {
     "name": "stdout",
     "output_type": "stream",
     "text": [
      "0 ipad\n",
      "1 celular\n",
      "2 notebook\n",
      "3 tv\n"
     ]
    }
   ],
   "source": [
    "for i, item in enumerate(produtos):\n",
    "    print(i, item)"
   ]
  },
  {
   "cell_type": "markdown",
   "metadata": {},
   "source": [
    "### A função ```range```\n",
    "\n",
    "A função ```range(inicio, fim, passo)``` produz um objeto que tem uma sequencia de inteiros. O inicio se não for passado é 0 e é inclusivo, e o fim é a parada que é exclusivo.\n",
    "\n",
    "Quando o passo for dado, ele incrementa ou decrementa."
   ]
  },
  {
   "cell_type": "code",
   "execution_count": 12,
   "metadata": {},
   "outputs": [
    {
     "data": {
      "text/plain": [
       "[0, 1, 2, 3, 4]"
      ]
     },
     "execution_count": 12,
     "metadata": {},
     "output_type": "execute_result"
    }
   ],
   "source": [
    "list(range(5))"
   ]
  },
  {
   "cell_type": "code",
   "execution_count": 13,
   "metadata": {},
   "outputs": [],
   "source": [
    "r1 = list(range(5))"
   ]
  },
  {
   "cell_type": "code",
   "execution_count": 14,
   "metadata": {},
   "outputs": [
    {
     "name": "stdout",
     "output_type": "stream",
     "text": [
      "0\n",
      "1\n",
      "2\n",
      "3\n",
      "4\n"
     ]
    }
   ],
   "source": [
    "for i in r1:\n",
    "    print(i)"
   ]
  },
  {
   "cell_type": "code",
   "execution_count": 15,
   "metadata": {},
   "outputs": [
    {
     "data": {
      "text/plain": [
       "[0, 2, 4, 6, 8]"
      ]
     },
     "execution_count": 15,
     "metadata": {},
     "output_type": "execute_result"
    }
   ],
   "source": [
    "list(range(0, 10, 2))"
   ]
  },
  {
   "cell_type": "code",
   "execution_count": 16,
   "metadata": {},
   "outputs": [
    {
     "name": "stdout",
     "output_type": "stream",
     "text": [
      "0\n",
      "2\n",
      "4\n",
      "6\n",
      "8\n"
     ]
    }
   ],
   "source": [
    "r2 = range(0, 10, 2)\n",
    "for i in r2:\n",
    "    print(i)"
   ]
  },
  {
   "cell_type": "markdown",
   "metadata": {},
   "source": [
    "* Para iterar em uma sequencia reversa, primeiro é necessário especificar a direção e então chamar a função ```reversed()```"
   ]
  },
  {
   "cell_type": "code",
   "execution_count": 17,
   "metadata": {},
   "outputs": [
    {
     "name": "stdout",
     "output_type": "stream",
     "text": [
      "9\n",
      "7\n",
      "5\n",
      "3\n",
      "1\n"
     ]
    }
   ],
   "source": [
    "for i in reversed(range(1, 10, 2)):\n",
    "    print(i)"
   ]
  },
  {
   "cell_type": "markdown",
   "metadata": {},
   "source": [
    "* Também podemos utilizar a função range() para iterar em uma sequencia reversa"
   ]
  },
  {
   "cell_type": "code",
   "execution_count": 18,
   "metadata": {},
   "outputs": [
    {
     "name": "stdout",
     "output_type": "stream",
     "text": [
      "5\n",
      "4\n",
      "3\n",
      "2\n",
      "1\n"
     ]
    }
   ],
   "source": [
    "num = 5\n",
    "for num in range(num, 0, -1):\n",
    "    print(num)"
   ]
  },
  {
   "cell_type": "markdown",
   "metadata": {},
   "source": [
    "* Um exemplo um pouco mais completo"
   ]
  },
  {
   "cell_type": "code",
   "execution_count": 19,
   "metadata": {},
   "outputs": [],
   "source": [
    "l1 = list(\"abcdef\")"
   ]
  },
  {
   "cell_type": "code",
   "execution_count": 20,
   "metadata": {},
   "outputs": [
    {
     "data": {
      "text/plain": [
       "['a', 'b', 'c', 'd', 'e', 'f']"
      ]
     },
     "execution_count": 20,
     "metadata": {},
     "output_type": "execute_result"
    }
   ],
   "source": [
    "l1"
   ]
  },
  {
   "cell_type": "code",
   "execution_count": 21,
   "metadata": {},
   "outputs": [
    {
     "name": "stdout",
     "output_type": "stream",
     "text": [
      "a\n",
      "b\n",
      "c\n",
      "d\n",
      "e\n",
      "f\n"
     ]
    }
   ],
   "source": [
    "for item in l1:\n",
    "    print(item)"
   ]
  },
  {
   "cell_type": "code",
   "execution_count": 22,
   "metadata": {},
   "outputs": [
    {
     "name": "stdout",
     "output_type": "stream",
     "text": [
      "a\n",
      "b\n",
      "c\n",
      "d\n",
      "e\n",
      "f\n"
     ]
    }
   ],
   "source": [
    "for i in range(0, len(l1)):\n",
    "    print(l1[i])"
   ]
  },
  {
   "cell_type": "markdown",
   "metadata": {},
   "source": [
    "* Para iterar em dicionários, podemos utilizar fazer da seguinte forma:"
   ]
  },
  {
   "cell_type": "code",
   "execution_count": 23,
   "metadata": {},
   "outputs": [],
   "source": [
    "pessoas = dict([('jose',35), ('bilbo',28), ('joão',20)])"
   ]
  },
  {
   "cell_type": "code",
   "execution_count": 24,
   "metadata": {},
   "outputs": [
    {
     "name": "stdout",
     "output_type": "stream",
     "text": [
      "jose 35\n",
      "bilbo 28\n",
      "joão 20\n"
     ]
    }
   ],
   "source": [
    "for c, v in pessoas.items():\n",
    "    print(c, v)"
   ]
  },
  {
   "cell_type": "markdown",
   "metadata": {},
   "source": [
    "### Pontos de atenção"
   ]
  },
  {
   "cell_type": "markdown",
   "metadata": {},
   "source": [
    "* **break**: sai do loop mais próximo que a envolve\n",
    "* **continue**: pula o início do loop mais próximo que a envolve\n",
    "* **pass**: não faz absolutamente nada; trata-se de um lugar reservado de instrução, vazio.\n",
    "\n",
    "\n",
    "**<span style=\"color:red;\">No código abaixo quando executado o que irá imprimir????</span>**"
   ]
  },
  {
   "cell_type": "code",
   "execution_count": 25,
   "metadata": {},
   "outputs": [
    {
     "name": "stdout",
     "output_type": "stream",
     "text": [
      "negativo: -3\n"
     ]
    }
   ],
   "source": [
    "numeros = [4, 5, 6, 7, 8, -3, 9, -4]\n",
    "for num in numeros:\n",
    "    if num < 0:\n",
    "        print(\"negativo: {}\".format(num))\n",
    "        break"
   ]
  },
  {
   "cell_type": "markdown",
   "metadata": {},
   "source": [
    "* Tanto o if quanto o while utilizam condições lógicas para controle, avaliando-as de maneira booleana.\n",
    "\n",
    "* Em Python, podemos denotar falso:\n",
    "    * Pelo booleano False,\n",
    "    * Pelo valor 0 (zero)\n",
    "    * Pela lista, dicionário, ou strings vazios, de tamanho zero\n",
    "    * Pelo valor especial None, que significa nulo\n",
    "    \n",
    "**<span style=\"color:blue;\">Qualquer outro valor é considerado verdadeiro</span>**"
   ]
  },
  {
   "cell_type": "markdown",
   "metadata": {},
   "source": [
    "## Exercícios"
   ]
  },
  {
   "cell_type": "markdown",
   "metadata": {},
   "source": [
    "#### 1 - Verifique se a lista números tem algum valor negativo.\n",
    "\n",
    "    ```numeros = [4, 5, 6, 7, 8, -3, 9, -4]```\n",
    "\n",
    "Utilize o for para iterar em cada item da lista, e verifique se o item é menor que do 0, se for menor imprima o item (utilizando if/else)."
   ]
  },
  {
   "cell_type": "code",
   "execution_count": 26,
   "metadata": {},
   "outputs": [],
   "source": [
    "numeros = [4, 5, 6, 7, 8, -3, 9, -4]"
   ]
  },
  {
   "cell_type": "code",
   "execution_count": 27,
   "metadata": {},
   "outputs": [
    {
     "name": "stdout",
     "output_type": "stream",
     "text": [
      "-3\n",
      "-4\n"
     ]
    }
   ],
   "source": [
    "for item in numeros:\n",
    "    if item < 0:\n",
    "        print(item)"
   ]
  },
  {
   "cell_type": "markdown",
   "metadata": {},
   "source": [
    "#### 2 - Crie um laço que imprima os números pares do 0 ao 100. Primeiro utilize a função ```range()``` e depois o operador %."
   ]
  },
  {
   "cell_type": "code",
   "execution_count": 28,
   "metadata": {},
   "outputs": [
    {
     "name": "stdout",
     "output_type": "stream",
     "text": [
      "0 2 4 6 8 10 12 14 16 18 20 22 24 26 28 30 32 34 36 38 40 42 44 46 48 50 52 54 56 58 60 62 64 66 68 70 72 74 76 78 80 82 84 86 88 90 92 94 96 98 "
     ]
    }
   ],
   "source": [
    "for i in range(0, 100, 2):\n",
    "    print(i, end=' ')"
   ]
  },
  {
   "cell_type": "code",
   "execution_count": 29,
   "metadata": {},
   "outputs": [
    {
     "name": "stdout",
     "output_type": "stream",
     "text": [
      "0\n",
      "2\n",
      "4\n",
      "6\n",
      "8\n",
      "10\n",
      "12\n",
      "14\n",
      "16\n",
      "18\n",
      "20\n",
      "22\n",
      "24\n",
      "26\n",
      "28\n",
      "30\n",
      "32\n",
      "34\n",
      "36\n",
      "38\n",
      "40\n",
      "42\n",
      "44\n",
      "46\n",
      "48\n",
      "50\n",
      "52\n",
      "54\n",
      "56\n",
      "58\n",
      "60\n",
      "62\n",
      "64\n",
      "66\n",
      "68\n",
      "70\n",
      "72\n",
      "74\n",
      "76\n",
      "78\n",
      "80\n",
      "82\n",
      "84\n",
      "86\n",
      "88\n",
      "90\n",
      "92\n",
      "94\n",
      "96\n",
      "98\n"
     ]
    }
   ],
   "source": [
    "for i in range(100):\n",
    "    if i % 2 == 0:\n",
    "        print(i)"
   ]
  },
  {
   "cell_type": "markdown",
   "metadata": {},
   "source": [
    "#### 3 - Crie uma lista com 5 aparelhos diferentes:\n",
    "\n",
    "    aparelhos = ['iphone', 'pc', 'notebook', 'monitor', 'impressora']\n",
    "\n",
    "Agora crie um laço que imprima cada valor da lista (com os números):\n",
    "```\n",
    "1 iphone\n",
    "2 pc\n",
    "3 notebook\n",
    "4 monitor\n",
    "5 impressora\n",
    "```"
   ]
  },
  {
   "cell_type": "code",
   "execution_count": 30,
   "metadata": {},
   "outputs": [],
   "source": [
    "aparelhos = ['iphone', 'pc', 'notebook', 'monitor', 'impressora']"
   ]
  },
  {
   "cell_type": "code",
   "execution_count": 31,
   "metadata": {},
   "outputs": [
    {
     "name": "stdout",
     "output_type": "stream",
     "text": [
      "1 iphone\n",
      "2 pc\n",
      "3 notebook\n",
      "4 monitor\n",
      "5 impressora\n"
     ]
    }
   ],
   "source": [
    "for i, item in enumerate(aparelhos):\n",
    "    print(i+1, item)"
   ]
  },
  {
   "cell_type": "code",
   "execution_count": null,
   "metadata": {},
   "outputs": [],
   "source": []
  }
 ],
 "metadata": {
  "kernelspec": {
   "display_name": "Python 3",
   "language": "python",
   "name": "python3"
  },
  "language_info": {
   "codemirror_mode": {
    "name": "ipython",
    "version": 3
   },
   "file_extension": ".py",
   "mimetype": "text/x-python",
   "name": "python",
   "nbconvert_exporter": "python",
   "pygments_lexer": "ipython3",
   "version": "3.7.8"
  }
 },
 "nbformat": 4,
 "nbformat_minor": 1
}
