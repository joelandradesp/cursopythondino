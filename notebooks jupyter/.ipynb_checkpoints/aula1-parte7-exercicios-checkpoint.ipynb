{
 "cells": [
  {
   "cell_type": "markdown",
   "metadata": {},
   "source": [
    "# Exercícios\n",
    "\n"
   ]
  },
  {
   "cell_type": "markdown",
   "metadata": {},
   "source": [
    "**```1 - Crie um programa que irá perguntar ao usuário para digitar o nome e a idade. Imprima uma mensagem que diga qual é o ano em que ele irá fazer 100 anos.```**"
   ]
  },
  {
   "cell_type": "code",
   "execution_count": 1,
   "metadata": {},
   "outputs": [
    {
     "name": "stdout",
     "output_type": "stream",
     "text": [
      "Digite seu nome: Joel\n",
      "Digite sua idade: 45\n"
     ]
    }
   ],
   "source": [
    "nome = input('Digite seu nome: ')\n",
    "idade = int(input('Digite sua idade: '))"
   ]
  },
  {
   "cell_type": "code",
   "execution_count": 4,
   "metadata": {},
   "outputs": [
    {
     "name": "stdout",
     "output_type": "stream",
     "text": [
      "Seu nome é Joel e sua idade é 45. Você fará 100 anos no ano de 2078\n"
     ]
    }
   ],
   "source": [
    "ano = 2023 + 100 - idade\n",
    "print(f\"Seu nome é {nome} e sua idade é {idade}. Você fará 100 anos no ano de {ano}\")"
   ]
  },
  {
   "cell_type": "markdown",
   "metadata": {},
   "source": [
    "**```2 - Modifique o programa anterior e pergunte quantas vezes o usuário deseja imprimir a mensagem.```**"
   ]
  },
  {
   "cell_type": "code",
   "execution_count": 5,
   "metadata": {},
   "outputs": [
    {
     "name": "stdout",
     "output_type": "stream",
     "text": [
      "Digite a quantidade de vezes da mensagem: 5\n"
     ]
    }
   ],
   "source": [
    "quantidade_mensagem = int(input('Digite a quantidade de vezes da mensagem: '))"
   ]
  },
  {
   "cell_type": "code",
   "execution_count": 6,
   "metadata": {},
   "outputs": [
    {
     "name": "stdout",
     "output_type": "stream",
     "text": [
      "Seu nome é Joel e sua idade é 45. Você fará 100 anos no ano de 2078\n",
      "Seu nome é Joel e sua idade é 45. Você fará 100 anos no ano de 2078\n",
      "Seu nome é Joel e sua idade é 45. Você fará 100 anos no ano de 2078\n",
      "Seu nome é Joel e sua idade é 45. Você fará 100 anos no ano de 2078\n",
      "Seu nome é Joel e sua idade é 45. Você fará 100 anos no ano de 2078\n"
     ]
    }
   ],
   "source": [
    "for item in (range(quantidade_mensagem)):\n",
    "   print(f\"Seu nome é {nome} e sua idade é {idade}. Você fará 100 anos no ano de {ano}\") "
   ]
  },
  {
   "cell_type": "markdown",
   "metadata": {},
   "source": [
    "**```3 - Pergunte ao usuário para digitar um número. Verifique se o número digitado é par ou impar. Imprima a mensagem apropriada para cada caso.```**"
   ]
  },
  {
   "cell_type": "code",
   "execution_count": 7,
   "metadata": {},
   "outputs": [
    {
     "name": "stdout",
     "output_type": "stream",
     "text": [
      "Digite um número: 5\n"
     ]
    }
   ],
   "source": [
    "numero = int(input('Digite um número: '))"
   ]
  },
  {
   "cell_type": "code",
   "execution_count": 11,
   "metadata": {},
   "outputs": [
    {
     "name": "stdout",
     "output_type": "stream",
     "text": [
      "Número 5 é ímpar\n"
     ]
    }
   ],
   "source": [
    "if numero % 2 == 0:\n",
    "    print(f'Número {numero} é par')\n",
    "else:\n",
    "    print(f'Número {numero} é ímpar')\n"
   ]
  },
  {
   "cell_type": "markdown",
   "metadata": {},
   "source": [
    "**```4 - Utilize a lista lst = [1, 1, 2, 3, 5, 8, 13, 21, 34, 55, 89].```**\n",
    "\n",
    "    a) Escreva um programa que irá imprimir todos os elementos menor ou igual a 5.\n",
    "    b) Ao invés de imprimir os elementos um a um, faça uma nova lista que tenha todos os elementos que são menor ou igual a 5. Imprima essa lista.\n",
    "    c) Peça ao usuário para digitar um número e imprima todos os números menores que os elementos da lista l.\n"
   ]
  },
  {
   "cell_type": "code",
   "execution_count": 13,
   "metadata": {},
   "outputs": [],
   "source": [
    "lst = [1, 1, 2, 3, 5, 8, 13, 21, 34, 55, 89]"
   ]
  },
  {
   "cell_type": "code",
   "execution_count": 16,
   "metadata": {},
   "outputs": [
    {
     "name": "stdout",
     "output_type": "stream",
     "text": [
      "Item da Lista: 1\n",
      "Item da Lista: 1\n",
      "Item da Lista: 2\n",
      "Item da Lista: 3\n",
      "Item da Lista: 5\n"
     ]
    }
   ],
   "source": [
    "# a)\n",
    "for item in lst:\n",
    "    if (item <= 5):\n",
    "        print(f\"Item da Lista: {item}\")"
   ]
  },
  {
   "cell_type": "code",
   "execution_count": 29,
   "metadata": {},
   "outputs": [
    {
     "name": "stdout",
     "output_type": "stream",
     "text": [
      "1 1 2 3 5 "
     ]
    }
   ],
   "source": [
    "# Resolução professor\n",
    "for i in lst:\n",
    "    if i <= 5:\n",
    "        print(i, end=' ')"
   ]
  },
  {
   "cell_type": "code",
   "execution_count": 20,
   "metadata": {},
   "outputs": [
    {
     "name": "stdout",
     "output_type": "stream",
     "text": [
      "[1, 1, 2, 3, 5]\n"
     ]
    }
   ],
   "source": [
    "# b)\n",
    "novalista = []\n",
    "for item in lst:\n",
    "    if (item <= 5):\n",
    "        novalista.append(item)\n",
    "\n",
    "print(novalista)\n"
   ]
  },
  {
   "cell_type": "code",
   "execution_count": 30,
   "metadata": {},
   "outputs": [
    {
     "name": "stdout",
     "output_type": "stream",
     "text": [
      "[1, 1, 2, 3, 5]\n"
     ]
    }
   ],
   "source": [
    "# Resolução Professor\n",
    "n_lst = []\n",
    "for i in lst:\n",
    "    if i <= 5:\n",
    "        n_lst.append(i)\n",
    "print(n_lst)"
   ]
  },
  {
   "cell_type": "code",
   "execution_count": 22,
   "metadata": {},
   "outputs": [
    {
     "name": "stdout",
     "output_type": "stream",
     "text": [
      "Digite um número 10\n"
     ]
    }
   ],
   "source": [
    "# c)\n",
    "numero_digitado = int(input(\"Digite um número \"))"
   ]
  },
  {
   "cell_type": "code",
   "execution_count": 23,
   "metadata": {},
   "outputs": [
    {
     "name": "stdout",
     "output_type": "stream",
     "text": [
      "Elementos da Lista: 1\n",
      "Elementos da Lista: 1\n",
      "Elementos da Lista: 2\n",
      "Elementos da Lista: 3\n",
      "Elementos da Lista: 5\n",
      "Elementos da Lista: 8\n"
     ]
    }
   ],
   "source": [
    "for item in lst:\n",
    "    if item < numero_digitado:\n",
    "        print(f\"Elementos da Lista: {item}\")"
   ]
  },
  {
   "cell_type": "code",
   "execution_count": 31,
   "metadata": {},
   "outputs": [
    {
     "name": "stdout",
     "output_type": "stream",
     "text": [
      "Digite um número: 15\n"
     ]
    }
   ],
   "source": [
    "# Resolução Professor\n",
    "# c)\n",
    "n = int(input(\"Digite um número: \"))"
   ]
  },
  {
   "cell_type": "code",
   "execution_count": 32,
   "metadata": {},
   "outputs": [
    {
     "name": "stdout",
     "output_type": "stream",
     "text": [
      "1 1 2 3 5 8 13 "
     ]
    }
   ],
   "source": [
    "# Resolução Professor\n",
    "for i in lst:\n",
    "    if i <= n:\n",
    "        print(i, end=' ')"
   ]
  },
  {
   "cell_type": "markdown",
   "metadata": {},
   "source": [
    "**```5 - Utilize as duas listas abaixo:```**\n",
    "```\n",
    "    l1 = [1, 1, 2, 3, 5, 8, 13, 21, 34, 55, 89]\n",
    "    l2 = [1, 2, 3, 4, 5, 6, 7, 8, 9, 10, 11, 12, 13]\n",
    "```\n",
    "    Escreva um programa que irá retornar uma lista que contém apenas os elementos que são comuns entre as listas (sem duplica-los). \n",
    "    \n",
    "    Tenha certeza que seu programa funcione com duas listas de tamanhos diferentes."
   ]
  },
  {
   "cell_type": "code",
   "execution_count": 34,
   "metadata": {},
   "outputs": [],
   "source": [
    "l1 = [1, 1, 2, 3, 5, 8, 13, 21, 34, 55, 89]\n",
    "l2 = [1, 2, 3, 4, 5, 6, 7, 8, 9, 10, 11, 12, 13]"
   ]
  },
  {
   "cell_type": "code",
   "execution_count": 35,
   "metadata": {},
   "outputs": [
    {
     "name": "stdout",
     "output_type": "stream",
     "text": [
      "[1, 2, 3, 5, 8, 13]\n"
     ]
    }
   ],
   "source": [
    "# Resolução Professor (refazer sozinho)\n",
    "l_final = []\n",
    "for item in l1:\n",
    "    if item in l2:\n",
    "        if not item in l_final:\n",
    "            l_final.append(item)\n",
    "print(l_final)"
   ]
  },
  {
   "cell_type": "markdown",
   "metadata": {},
   "source": [
    "**```6 - Peça ao usuário para digitar uma frase. Escreva um programa para verificar a quantidade de letras maiúsculas e minúsculas da frase digitada pelo usuário. Utilize dicionários para salvar a quantidade de cada uma```**\n",
    "\n",
    "    OBS: Utilize as funções isupper() islower() disponíveis em strings."
   ]
  },
  {
   "cell_type": "code",
   "execution_count": 24,
   "metadata": {},
   "outputs": [
    {
     "name": "stdout",
     "output_type": "stream",
     "text": [
      "Digite uma frase com letras maíusculas e minúsculas: Eu sou forte. Ela não é forte.\n"
     ]
    }
   ],
   "source": [
    "frase = input(\"Digite uma frase com letras maíusculas e minúsculas: \")"
   ]
  },
  {
   "cell_type": "code",
   "execution_count": 28,
   "metadata": {},
   "outputs": [
    {
     "name": "stdout",
     "output_type": "stream",
     "text": [
      "{'maiuscula': 2, 'minuscula': 28}\n"
     ]
    }
   ],
   "source": [
    "cont_maiuscula = 0\n",
    "cont_minuscula = 0\n",
    "for silaba in frase:\n",
    "    if silaba.isupper():\n",
    "        cont_maiuscula += 1\n",
    "    else:\n",
    "        cont_minuscula += 1\n",
    "        \n",
    "        \n",
    "quantidades = {\n",
    "    'maiuscula' : cont_maiuscula,\n",
    "    'minuscula' : cont_minuscula\n",
    "}\n",
    "\n",
    "print(quantidades)"
   ]
  },
  {
   "cell_type": "code",
   "execution_count": 37,
   "metadata": {},
   "outputs": [
    {
     "name": "stdout",
     "output_type": "stream",
     "text": [
      "Digite uma frase: PytHon RocKS!\n"
     ]
    }
   ],
   "source": [
    "#Resolução professor, ele usou um caractere na frase que nem é maisculo e nem minusculo. PytHon RocKS!\n",
    "frase = input(\"Digite uma frase: \")"
   ]
  },
  {
   "cell_type": "code",
   "execution_count": 38,
   "metadata": {},
   "outputs": [
    {
     "name": "stdout",
     "output_type": "stream",
     "text": [
      "{'Maiusculas': 5, 'Minusculas': 6, 'Outros': 2}\n"
     ]
    }
   ],
   "source": [
    "#Resolução professor, ele usou um caractere na frase que nem é maisculo e nem minusculo. Temos o espaço e a exclamação\n",
    "dicionario = {\"Maiusculas\" : 0, \"Minusculas\" : 0, \"Outros\" : 0}\n",
    "for letra in frase:\n",
    "    if letra.isupper():\n",
    "        dicionario[\"Maiusculas\"] += 1\n",
    "    elif letra.islower():\n",
    "        dicionario[\"Minusculas\"] += 1\n",
    "    else:\n",
    "        dicionario[\"Outros\"] += 1\n",
    "print(dicionario)"
   ]
  },
  {
   "cell_type": "markdown",
   "metadata": {},
   "source": [
    "## Referências\n",
    "\n",
    "* http://www.practicepython.org/\n",
    "* https://github.com/zhiwehu/Python-programming-exercises/\n",
    "* http://introtopython.org/\n"
   ]
  },
  {
   "cell_type": "code",
   "execution_count": null,
   "metadata": {},
   "outputs": [],
   "source": []
  },
  {
   "cell_type": "code",
   "execution_count": null,
   "metadata": {
    "collapsed": true
   },
   "outputs": [],
   "source": []
  }
 ],
 "metadata": {
  "kernelspec": {
   "display_name": "Python 3 (ipykernel)",
   "language": "python",
   "name": "python3"
  },
  "language_info": {
   "codemirror_mode": {
    "name": "ipython",
    "version": 3
   },
   "file_extension": ".py",
   "mimetype": "text/x-python",
   "name": "python",
   "nbconvert_exporter": "python",
   "pygments_lexer": "ipython3",
   "version": "3.9.13"
  }
 },
 "nbformat": 4,
 "nbformat_minor": 1
}
