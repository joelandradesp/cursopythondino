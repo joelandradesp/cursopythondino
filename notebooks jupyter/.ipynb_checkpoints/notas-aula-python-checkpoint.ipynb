{
 "cells": [
  {
   "cell_type": "markdown",
   "id": "e0599155",
   "metadata": {},
   "source": [
    "# Intro Python"
   ]
  },
  {
   "cell_type": "code",
   "execution_count": 4,
   "id": "333eb542",
   "metadata": {},
   "outputs": [
    {
     "name": "stdout",
     "output_type": "stream",
     "text": [
      "Olá mundo\n"
     ]
    }
   ],
   "source": [
    "print('Olá mundo')"
   ]
  },
  {
   "cell_type": "code",
   "execution_count": 5,
   "id": "935b5f53",
   "metadata": {
    "scrolled": true
   },
   "outputs": [
    {
     "name": "stdout",
     "output_type": "stream",
     "text": [
      "Ola \n",
      "Mundo\n",
      "4\n"
     ]
    }
   ],
   "source": [
    "print('Ola ')\n",
    "print('Mundo')\n",
    "print(2+2)\n"
   ]
  },
  {
   "cell_type": "markdown",
   "id": "76e76499",
   "metadata": {},
   "source": [
    "## Strings"
   ]
  },
  {
   "cell_type": "code",
   "execution_count": 6,
   "id": "bcff8965",
   "metadata": {},
   "outputs": [],
   "source": [
    "nome = 'Joel'\n",
    "sobrenome = 'Andrade'"
   ]
  },
  {
   "cell_type": "code",
   "execution_count": 7,
   "id": "abfdbc14",
   "metadata": {},
   "outputs": [
    {
     "name": "stdout",
     "output_type": "stream",
     "text": [
      "Joel Andrade\n"
     ]
    }
   ],
   "source": [
    "print(nome,sobrenome)"
   ]
  },
  {
   "cell_type": "code",
   "execution_count": 8,
   "id": "d367ceba",
   "metadata": {},
   "outputs": [
    {
     "name": "stdout",
     "output_type": "stream",
     "text": [
      "Joel\n",
      "\n",
      "Andrade\n"
     ]
    }
   ],
   "source": [
    "print(nome)\n",
    "print()\n",
    "print(sobrenome)"
   ]
  },
  {
   "cell_type": "code",
   "execution_count": 9,
   "id": "954bd76a",
   "metadata": {},
   "outputs": [
    {
     "name": "stdout",
     "output_type": "stream",
     "text": [
      "Dino ' Magri\n"
     ]
    }
   ],
   "source": [
    "print(\"Dino ' Magri\")"
   ]
  },
  {
   "cell_type": "code",
   "execution_count": 10,
   "id": "f6342a6e",
   "metadata": {},
   "outputs": [
    {
     "ename": "SyntaxError",
     "evalue": "invalid syntax (1256916114.py, line 1)",
     "output_type": "error",
     "traceback": [
      "\u001b[1;36m  File \u001b[1;32m\"C:\\Users\\joelg\\AppData\\Local\\Temp\\ipykernel_20016\\1256916114.py\"\u001b[1;36m, line \u001b[1;32m1\u001b[0m\n\u001b[1;33m    print('Dino ' Magri')\u001b[0m\n\u001b[1;37m                  ^\u001b[0m\n\u001b[1;31mSyntaxError\u001b[0m\u001b[1;31m:\u001b[0m invalid syntax\n"
     ]
    }
   ],
   "source": [
    "print('Dino ' Magri')"
   ]
  },
  {
   "cell_type": "code",
   "execution_count": 12,
   "id": "15c3b835",
   "metadata": {},
   "outputs": [
    {
     "name": "stdout",
     "output_type": "stream",
     "text": [
      "Joel ' Andrade\n"
     ]
    }
   ],
   "source": [
    "print(\"Joel ' Andrade\")"
   ]
  },
  {
   "cell_type": "code",
   "execution_count": 13,
   "id": "41ac4ea3",
   "metadata": {},
   "outputs": [
    {
     "name": "stdout",
     "output_type": "stream",
     "text": [
      "Dino ' Magri\n"
     ]
    }
   ],
   "source": [
    "print('Dino \\' Magri')"
   ]
  },
  {
   "cell_type": "code",
   "execution_count": 18,
   "id": "551a9324",
   "metadata": {},
   "outputs": [],
   "source": [
    "nome = 'Joel Andrade'"
   ]
  },
  {
   "cell_type": "code",
   "execution_count": 19,
   "id": "2ee2c0e3",
   "metadata": {},
   "outputs": [
    {
     "name": "stdout",
     "output_type": "stream",
     "text": [
      "Joel Andrade\n"
     ]
    }
   ],
   "source": [
    "print(nome)"
   ]
  },
  {
   "cell_type": "code",
   "execution_count": 23,
   "id": "cc196174",
   "metadata": {},
   "outputs": [
    {
     "name": "stdout",
     "output_type": "stream",
     "text": [
      "joel andrade\n"
     ]
    }
   ],
   "source": [
    "print(nome.lower())"
   ]
  },
  {
   "cell_type": "code",
   "execution_count": 24,
   "id": "0bab72ac",
   "metadata": {},
   "outputs": [
    {
     "data": {
      "text/plain": [
       "4"
      ]
     },
     "execution_count": 24,
     "metadata": {},
     "output_type": "execute_result"
    }
   ],
   "source": [
    "2 + 2"
   ]
  },
  {
   "cell_type": "code",
   "execution_count": 25,
   "id": "4ec79188",
   "metadata": {},
   "outputs": [
    {
     "name": "stdout",
     "output_type": "stream",
     "text": [
      "Eu \n",
      " sou uma string\n"
     ]
    }
   ],
   "source": [
    "print(\"Eu \\n sou uma string\")"
   ]
  },
  {
   "cell_type": "code",
   "execution_count": 26,
   "id": "c2193dd8",
   "metadata": {},
   "outputs": [
    {
     "name": "stdout",
     "output_type": "stream",
     "text": [
      "Eu n sou uma \tstring\n"
     ]
    }
   ],
   "source": [
    "print(\"Eu n sou uma \\tstring\")"
   ]
  },
  {
   "cell_type": "code",
   "execution_count": 27,
   "id": "64af9c0d",
   "metadata": {},
   "outputs": [
    {
     "name": "stdout",
     "output_type": "stream",
     "text": [
      "Eu \\n sou uma \\t string\n"
     ]
    }
   ],
   "source": [
    "print(\"Eu \\\\n sou uma \\\\t string\")"
   ]
  },
  {
   "cell_type": "code",
   "execution_count": 28,
   "id": "b2d7e779",
   "metadata": {},
   "outputs": [
    {
     "name": "stdout",
     "output_type": "stream",
     "text": [
      "Eu \\\\n sou uma \\\\t string\n"
     ]
    }
   ],
   "source": [
    "print(r\"Eu \\\\n sou uma \\\\t string\")"
   ]
  },
  {
   "cell_type": "code",
   "execution_count": 31,
   "id": "7399c7d3",
   "metadata": {},
   "outputs": [],
   "source": [
    "nome = \"FIA\"\n",
    "idade = 35"
   ]
  },
  {
   "cell_type": "code",
   "execution_count": 32,
   "id": "6aee491a",
   "metadata": {},
   "outputs": [
    {
     "name": "stdout",
     "output_type": "stream",
     "text": [
      "A FIA tem 35 anos\n"
     ]
    }
   ],
   "source": [
    "print(\"A {} tem {} anos\".format(nome,idade))"
   ]
  },
  {
   "cell_type": "code",
   "execution_count": 33,
   "id": "c6978c17",
   "metadata": {},
   "outputs": [
    {
     "name": "stdout",
     "output_type": "stream",
     "text": [
      "A  FIA tem 35 anos\n"
     ]
    }
   ],
   "source": [
    "print(\"A \", nome, \"tem\", idade, \"anos\")"
   ]
  },
  {
   "cell_type": "code",
   "execution_count": 34,
   "id": "8e67b84a",
   "metadata": {},
   "outputs": [
    {
     "name": "stdout",
     "output_type": "stream",
     "text": [
      "A FIA tem 35 anos\n"
     ]
    }
   ],
   "source": [
    "print(f\"A {nome} tem {idade} anos\")"
   ]
  },
  {
   "cell_type": "code",
   "execution_count": 35,
   "id": "eb2f5f3b",
   "metadata": {},
   "outputs": [
    {
     "data": {
      "text/plain": [
       "'EU SOU UMA STRING'"
      ]
     },
     "execution_count": 35,
     "metadata": {},
     "output_type": "execute_result"
    }
   ],
   "source": [
    "\"eu sou uma string\".upper()"
   ]
  },
  {
   "cell_type": "code",
   "execution_count": 37,
   "id": "0a981bcb",
   "metadata": {},
   "outputs": [
    {
     "name": "stdout",
     "output_type": "stream",
     "text": [
      "EU SOU UMA STRING\n"
     ]
    }
   ],
   "source": [
    "aux = \"eu sou uma string\".upper()\n",
    "print(aux)"
   ]
  },
  {
   "cell_type": "code",
   "execution_count": 39,
   "id": "b1ac6319",
   "metadata": {},
   "outputs": [
    {
     "name": "stdout",
     "output_type": "stream",
     "text": [
      "Eu Sou Uma String\n"
     ]
    }
   ],
   "source": [
    "aux = \"eu sou uma string\".title()\n",
    "print(aux)"
   ]
  },
  {
   "cell_type": "code",
   "execution_count": 40,
   "id": "bf67a043",
   "metadata": {},
   "outputs": [
    {
     "data": {
      "text/plain": [
       "'FIA'"
      ]
     },
     "execution_count": 40,
     "metadata": {},
     "output_type": "execute_result"
    }
   ],
   "source": [
    "nome"
   ]
  },
  {
   "cell_type": "code",
   "execution_count": 41,
   "id": "76f1459a",
   "metadata": {},
   "outputs": [],
   "source": [
    "nome = \"Joel\"\n",
    "sobrenome = \"Andrade\""
   ]
  },
  {
   "cell_type": "code",
   "execution_count": 42,
   "id": "cf6c8b2b",
   "metadata": {},
   "outputs": [
    {
     "data": {
      "text/plain": [
       "'JoelAndrade'"
      ]
     },
     "execution_count": 42,
     "metadata": {},
     "output_type": "execute_result"
    }
   ],
   "source": [
    "nome + sobrenome"
   ]
  },
  {
   "cell_type": "code",
   "execution_count": 43,
   "id": "17fa90ac",
   "metadata": {},
   "outputs": [],
   "source": [
    "nome = \"Joel \"\n",
    "sobrenome = \"Andrade\""
   ]
  },
  {
   "cell_type": "code",
   "execution_count": 44,
   "id": "77b52372",
   "metadata": {},
   "outputs": [
    {
     "data": {
      "text/plain": [
       "'Joel Andrade'"
      ]
     },
     "execution_count": 44,
     "metadata": {},
     "output_type": "execute_result"
    }
   ],
   "source": [
    "nome + sobrenome"
   ]
  },
  {
   "cell_type": "code",
   "execution_count": 45,
   "id": "5cb49367",
   "metadata": {},
   "outputs": [
    {
     "data": {
      "text/plain": [
       "'----------'"
      ]
     },
     "execution_count": 45,
     "metadata": {},
     "output_type": "execute_result"
    }
   ],
   "source": [
    "'-' * 10"
   ]
  },
  {
   "cell_type": "code",
   "execution_count": 46,
   "id": "e3ffb406",
   "metadata": {},
   "outputs": [
    {
     "data": {
      "text/plain": [
       "'----------------------------------------------------------------------------------------------------------------------------------------------------------------------------------------------------------------------------------------------------------------------------------------------------------------------------------------------------------------------------------------------------------------------------------------------------------------------------------------------------------------------------------------------------------------------------------------------------------------------------------------------------------------------------------------------------------------------------------------------------------------------------------------------------------------------------------------------------------------------------------------------------------------------------------------------------------------------------------------------------------------------------------------'"
      ]
     },
     "execution_count": 46,
     "metadata": {},
     "output_type": "execute_result"
    }
   ],
   "source": [
    "'-' * 1000"
   ]
  },
  {
   "cell_type": "code",
   "execution_count": 47,
   "id": "d30c3baf",
   "metadata": {},
   "outputs": [
    {
     "data": {
      "text/plain": [
       "'----------'"
      ]
     },
     "execution_count": 47,
     "metadata": {},
     "output_type": "execute_result"
    }
   ],
   "source": [
    "'-' + '-'+ '-'+ '-'+ '-'+ '-'+ '-'+ '-'+ '-'+ '-'"
   ]
  },
  {
   "cell_type": "code",
   "execution_count": 48,
   "id": "805bd380",
   "metadata": {},
   "outputs": [
    {
     "data": {
      "text/plain": [
       "14"
      ]
     },
     "execution_count": 48,
     "metadata": {},
     "output_type": "execute_result"
    }
   ],
   "source": [
    "mensagem = \"Big Data + FIA\"\n",
    "len(mensagem)"
   ]
  },
  {
   "cell_type": "code",
   "execution_count": 49,
   "id": "01293cc4",
   "metadata": {},
   "outputs": [],
   "source": [
    "s = \"Python\""
   ]
  },
  {
   "cell_type": "code",
   "execution_count": 50,
   "id": "de9c81d1",
   "metadata": {},
   "outputs": [
    {
     "name": "stdout",
     "output_type": "stream",
     "text": [
      "Python\n"
     ]
    }
   ],
   "source": [
    "print(s)"
   ]
  },
  {
   "cell_type": "code",
   "execution_count": 51,
   "id": "143f5f48",
   "metadata": {},
   "outputs": [
    {
     "data": {
      "text/plain": [
       "'P'"
      ]
     },
     "execution_count": 51,
     "metadata": {},
     "output_type": "execute_result"
    }
   ],
   "source": [
    "s[0]"
   ]
  },
  {
   "cell_type": "code",
   "execution_count": 52,
   "id": "6ee2842c",
   "metadata": {},
   "outputs": [
    {
     "name": "stdout",
     "output_type": "stream",
     "text": [
      "P\n"
     ]
    }
   ],
   "source": [
    "print(s[0])"
   ]
  },
  {
   "cell_type": "code",
   "execution_count": 53,
   "id": "4253d6ef",
   "metadata": {},
   "outputs": [
    {
     "name": "stdout",
     "output_type": "stream",
     "text": [
      "h\n"
     ]
    }
   ],
   "source": [
    "print(s[3])"
   ]
  },
  {
   "cell_type": "code",
   "execution_count": 54,
   "id": "fbab1d44",
   "metadata": {},
   "outputs": [
    {
     "name": "stdout",
     "output_type": "stream",
     "text": [
      "Py\n"
     ]
    }
   ],
   "source": [
    "print(s[0:2])"
   ]
  },
  {
   "cell_type": "code",
   "execution_count": 55,
   "id": "8bc3360e",
   "metadata": {},
   "outputs": [
    {
     "name": "stdout",
     "output_type": "stream",
     "text": [
      "thon\n"
     ]
    }
   ],
   "source": [
    "print(s[2:])"
   ]
  },
  {
   "cell_type": "code",
   "execution_count": 56,
   "id": "25f435c9",
   "metadata": {},
   "outputs": [
    {
     "name": "stdout",
     "output_type": "stream",
     "text": [
      "tho\n"
     ]
    }
   ],
   "source": [
    "print(s[2:5])"
   ]
  },
  {
   "cell_type": "code",
   "execution_count": 57,
   "id": "9c124af5",
   "metadata": {},
   "outputs": [
    {
     "name": "stdout",
     "output_type": "stream",
     "text": [
      "n\n"
     ]
    }
   ],
   "source": [
    "print(s[-1])"
   ]
  },
  {
   "cell_type": "code",
   "execution_count": 58,
   "id": "308b8fb5",
   "metadata": {},
   "outputs": [
    {
     "name": "stdout",
     "output_type": "stream",
     "text": [
      "on\n"
     ]
    }
   ],
   "source": [
    "print(s[-2:])"
   ]
  },
  {
   "cell_type": "code",
   "execution_count": 60,
   "id": "eb8a1b04",
   "metadata": {},
   "outputs": [
    {
     "data": {
      "text/plain": [
       "'Joel '"
      ]
     },
     "execution_count": 60,
     "metadata": {},
     "output_type": "execute_result"
    }
   ],
   "source": [
    "nome"
   ]
  },
  {
   "cell_type": "code",
   "execution_count": 61,
   "id": "b19e56ec",
   "metadata": {},
   "outputs": [
    {
     "ename": "TypeError",
     "evalue": "'str' object does not support item assignment",
     "output_type": "error",
     "traceback": [
      "\u001b[1;31m---------------------------------------------------------------------------\u001b[0m",
      "\u001b[1;31mTypeError\u001b[0m                                 Traceback (most recent call last)",
      "\u001b[1;32m~\\AppData\\Local\\Temp\\ipykernel_20016\\290638248.py\u001b[0m in \u001b[0;36m<module>\u001b[1;34m\u001b[0m\n\u001b[1;32m----> 1\u001b[1;33m \u001b[0mnome\u001b[0m\u001b[1;33m[\u001b[0m\u001b[1;36m2\u001b[0m\u001b[1;33m]\u001b[0m \u001b[1;33m=\u001b[0m \u001b[1;34m\"E\"\u001b[0m\u001b[1;33m\u001b[0m\u001b[1;33m\u001b[0m\u001b[0m\n\u001b[0m",
      "\u001b[1;31mTypeError\u001b[0m: 'str' object does not support item assignment"
     ]
    }
   ],
   "source": [
    "nome[2] = \"E\""
   ]
  },
  {
   "cell_type": "code",
   "execution_count": 65,
   "id": "db755c43",
   "metadata": {},
   "outputs": [],
   "source": [
    "nome = nome[:2] + \"E\" + nome[3:]"
   ]
  },
  {
   "cell_type": "code",
   "execution_count": 66,
   "id": "485ae350",
   "metadata": {},
   "outputs": [
    {
     "data": {
      "text/plain": [
       "'JoEl '"
      ]
     },
     "execution_count": 66,
     "metadata": {},
     "output_type": "execute_result"
    }
   ],
   "source": [
    "nome"
   ]
  },
  {
   "cell_type": "code",
   "execution_count": 67,
   "id": "8da6a0d6",
   "metadata": {},
   "outputs": [],
   "source": [
    "a = \"Eu sou uma string\""
   ]
  },
  {
   "cell_type": "code",
   "execution_count": 68,
   "id": "5f6733a3",
   "metadata": {},
   "outputs": [
    {
     "name": "stdout",
     "output_type": "stream",
     "text": [
      "E\n"
     ]
    }
   ],
   "source": [
    "print(a[0])"
   ]
  },
  {
   "cell_type": "code",
   "execution_count": 69,
   "id": "e1f947aa",
   "metadata": {},
   "outputs": [
    {
     "name": "stdout",
     "output_type": "stream",
     "text": [
      "Eu sou\n"
     ]
    }
   ],
   "source": [
    "print(a[:6])"
   ]
  },
  {
   "cell_type": "code",
   "execution_count": 70,
   "id": "fa0b2b8f",
   "metadata": {},
   "outputs": [
    {
     "name": "stdout",
     "output_type": "stream",
     "text": [
      "string\n"
     ]
    }
   ],
   "source": [
    "print(a[-6:])"
   ]
  },
  {
   "cell_type": "code",
   "execution_count": 71,
   "id": "677c30c3",
   "metadata": {},
   "outputs": [
    {
     "name": "stdout",
     "output_type": "stream",
     "text": [
      "u so\n"
     ]
    }
   ],
   "source": [
    "print(a[1:5])"
   ]
  },
  {
   "cell_type": "code",
   "execution_count": 72,
   "id": "e9a2b034",
   "metadata": {},
   "outputs": [
    {
     "name": "stdout",
     "output_type": "stream",
     "text": [
      "Eu sou uma strin\n"
     ]
    }
   ],
   "source": [
    "print(a[:-1])"
   ]
  },
  {
   "cell_type": "code",
   "execution_count": 81,
   "id": "f094378e",
   "metadata": {},
   "outputs": [],
   "source": [
    "titulo = \"titulo com primeiro caractere em maísculo\""
   ]
  },
  {
   "cell_type": "code",
   "execution_count": 74,
   "id": "293d96f2",
   "metadata": {},
   "outputs": [
    {
     "data": {
      "text/plain": [
       "'Titulo com primeiro caractere em maísculo'"
      ]
     },
     "execution_count": 74,
     "metadata": {},
     "output_type": "execute_result"
    }
   ],
   "source": [
    "titulo.capitalize()"
   ]
  },
  {
   "cell_type": "code",
   "execution_count": 77,
   "id": "cc317ac8",
   "metadata": {},
   "outputs": [
    {
     "data": {
      "text/plain": [
       "5"
      ]
     },
     "execution_count": 77,
     "metadata": {},
     "output_type": "execute_result"
    }
   ],
   "source": [
    "titulo.find('o')"
   ]
  },
  {
   "cell_type": "code",
   "execution_count": 78,
   "id": "3b7c1569",
   "metadata": {},
   "outputs": [
    {
     "data": {
      "text/plain": [
       "0"
      ]
     },
     "execution_count": 78,
     "metadata": {},
     "output_type": "execute_result"
    }
   ],
   "source": [
    "titulo.count('o)')"
   ]
  },
  {
   "cell_type": "code",
   "execution_count": 79,
   "id": "06fe5249",
   "metadata": {},
   "outputs": [
    {
     "data": {
      "text/plain": [
       "4"
      ]
     },
     "execution_count": 79,
     "metadata": {},
     "output_type": "execute_result"
    }
   ],
   "source": [
    "titulo.count('o')"
   ]
  },
  {
   "cell_type": "code",
   "execution_count": 82,
   "id": "209402f2",
   "metadata": {},
   "outputs": [
    {
     "data": {
      "text/plain": [
       "2"
      ]
     },
     "execution_count": 82,
     "metadata": {},
     "output_type": "execute_result"
    }
   ],
   "source": [
    "titulo.count('titulo')"
   ]
  },
  {
   "cell_type": "code",
   "execution_count": 83,
   "id": "064bdd79",
   "metadata": {},
   "outputs": [],
   "source": [
    "mensagem = \"A data de Hoje é superior a data de ontem.\""
   ]
  },
  {
   "cell_type": "code",
   "execution_count": 84,
   "id": "0244c490",
   "metadata": {},
   "outputs": [
    {
     "data": {
      "text/plain": [
       "2"
      ]
     },
     "execution_count": 84,
     "metadata": {},
     "output_type": "execute_result"
    }
   ],
   "source": [
    "mensagem.count('data')"
   ]
  },
  {
   "cell_type": "code",
   "execution_count": 85,
   "id": "88de7bff",
   "metadata": {},
   "outputs": [
    {
     "data": {
      "text/plain": [
       "0"
      ]
     },
     "execution_count": 85,
     "metadata": {},
     "output_type": "execute_result"
    }
   ],
   "source": [
    "mensagem.count('datax')"
   ]
  },
  {
   "cell_type": "code",
   "execution_count": 86,
   "id": "e8e858ef",
   "metadata": {},
   "outputs": [
    {
     "data": {
      "text/plain": [
       "True"
      ]
     },
     "execution_count": 86,
     "metadata": {},
     "output_type": "execute_result"
    }
   ],
   "source": [
    "mensagem.startswith('A data')"
   ]
  },
  {
   "cell_type": "code",
   "execution_count": 87,
   "id": "e044f635",
   "metadata": {},
   "outputs": [
    {
     "data": {
      "text/plain": [
       "False"
      ]
     },
     "execution_count": 87,
     "metadata": {},
     "output_type": "execute_result"
    }
   ],
   "source": [
    "mensagem.startswith(\"a data\")"
   ]
  },
  {
   "cell_type": "markdown",
   "id": "a8fc4d45",
   "metadata": {},
   "source": [
    "## Listas"
   ]
  },
  {
   "cell_type": "code",
   "execution_count": 100,
   "id": "10267253",
   "metadata": {},
   "outputs": [],
   "source": [
    "numeros = [1, 2, 3, 4, 5, 6]"
   ]
  },
  {
   "cell_type": "code",
   "execution_count": 101,
   "id": "6bc2f9fe",
   "metadata": {},
   "outputs": [
    {
     "name": "stdout",
     "output_type": "stream",
     "text": [
      "[1, 2, 3, 4, 5, 6]\n"
     ]
    }
   ],
   "source": [
    "print(numeros)"
   ]
  },
  {
   "cell_type": "code",
   "execution_count": 102,
   "id": "b43cdb58",
   "metadata": {},
   "outputs": [
    {
     "name": "stdout",
     "output_type": "stream",
     "text": [
      "<class 'list'>\n"
     ]
    }
   ],
   "source": [
    "print(type(numeros))"
   ]
  },
  {
   "cell_type": "code",
   "execution_count": 103,
   "id": "a1708132",
   "metadata": {},
   "outputs": [],
   "source": [
    "letras = list('abcd')"
   ]
  },
  {
   "cell_type": "code",
   "execution_count": 104,
   "id": "d6ef69d8",
   "metadata": {},
   "outputs": [
    {
     "name": "stdout",
     "output_type": "stream",
     "text": [
      "['a', 'b', 'c', 'd']\n"
     ]
    }
   ],
   "source": [
    "print(letras)"
   ]
  },
  {
   "cell_type": "code",
   "execution_count": 105,
   "id": "0a6b9acb",
   "metadata": {},
   "outputs": [
    {
     "data": {
      "text/plain": [
       "[1, 2, 3, 4, 5, 6, 7, 8, 9, 10]"
      ]
     },
     "execution_count": 105,
     "metadata": {},
     "output_type": "execute_result"
    }
   ],
   "source": [
    "numeros + [7, 8, 9, 10]"
   ]
  },
  {
   "cell_type": "code",
   "execution_count": 106,
   "id": "a6a917b9",
   "metadata": {},
   "outputs": [],
   "source": [
    "n = numeros + [7, 8, 9, 10]"
   ]
  },
  {
   "cell_type": "code",
   "execution_count": 107,
   "id": "7fe52780",
   "metadata": {},
   "outputs": [
    {
     "name": "stdout",
     "output_type": "stream",
     "text": [
      "[1, 2, 3, 4, 5, 6, 7, 8, 9, 10]\n"
     ]
    }
   ],
   "source": [
    "print(n)"
   ]
  },
  {
   "cell_type": "code",
   "execution_count": 108,
   "id": "2c45a614",
   "metadata": {},
   "outputs": [
    {
     "name": "stdout",
     "output_type": "stream",
     "text": [
      "[1, 2, 3, 4, 5, 6, 7, 8, 9, 10]\n"
     ]
    }
   ],
   "source": [
    "numeros = numeros + [7, 8, 9, 10]\n",
    "print(numeros)"
   ]
  },
  {
   "cell_type": "code",
   "execution_count": 109,
   "id": "ba96042b",
   "metadata": {},
   "outputs": [
    {
     "data": {
      "text/plain": [
       "1"
      ]
     },
     "execution_count": 109,
     "metadata": {},
     "output_type": "execute_result"
    }
   ],
   "source": [
    "numeros[0]"
   ]
  },
  {
   "cell_type": "code",
   "execution_count": 110,
   "id": "eb71417f",
   "metadata": {},
   "outputs": [
    {
     "data": {
      "text/plain": [
       "10"
      ]
     },
     "execution_count": 110,
     "metadata": {},
     "output_type": "execute_result"
    }
   ],
   "source": [
    "numeros[-1]"
   ]
  },
  {
   "cell_type": "code",
   "execution_count": 111,
   "id": "105bb40f",
   "metadata": {},
   "outputs": [
    {
     "data": {
      "text/plain": [
       "[5, 6, 7, 8]"
      ]
     },
     "execution_count": 111,
     "metadata": {},
     "output_type": "execute_result"
    }
   ],
   "source": [
    "numeros[4:8]"
   ]
  },
  {
   "cell_type": "code",
   "execution_count": 168,
   "id": "2483ba6a",
   "metadata": {},
   "outputs": [
    {
     "name": "stdout",
     "output_type": "stream",
     "text": [
      "[1, 2.5, True, None, [1, 2], 'abcd']\n"
     ]
    }
   ],
   "source": [
    "teste = [1, 2.5, True, None, [1,2], 'abcd']\n",
    "print(teste)"
   ]
  },
  {
   "cell_type": "code",
   "execution_count": 169,
   "id": "a0f90abe",
   "metadata": {},
   "outputs": [],
   "source": [
    "import math"
   ]
  },
  {
   "cell_type": "code",
   "execution_count": 170,
   "id": "229fa484",
   "metadata": {},
   "outputs": [
    {
     "name": "stdout",
     "output_type": "stream",
     "text": [
      "[1, 2.5, True, None, [1, 2], 'abcd', <module 'math' (built-in)>]\n"
     ]
    }
   ],
   "source": [
    "teste = [1, 2.5, True, None, [1,2], 'abcd', math]\n",
    "print(teste)"
   ]
  },
  {
   "cell_type": "code",
   "execution_count": 171,
   "id": "168d4083",
   "metadata": {},
   "outputs": [],
   "source": [
    "num = [1, 2, 3]\n",
    "prod = ['ipad', 'note', 'pc', 's20']"
   ]
  },
  {
   "cell_type": "code",
   "execution_count": 173,
   "id": "d4b179ad",
   "metadata": {},
   "outputs": [
    {
     "name": "stdout",
     "output_type": "stream",
     "text": [
      "[[1, 2, 3], ['ipad', 'note', 'pc', 's20']]\n"
     ]
    }
   ],
   "source": [
    "lst = [num, prod]\n",
    "print(lst)"
   ]
  },
  {
   "cell_type": "code",
   "execution_count": 174,
   "id": "00ef171a",
   "metadata": {},
   "outputs": [
    {
     "name": "stdout",
     "output_type": "stream",
     "text": [
      "2\n"
     ]
    }
   ],
   "source": [
    "print(len(lst))"
   ]
  },
  {
   "cell_type": "code",
   "execution_count": 175,
   "id": "a51331c2",
   "metadata": {},
   "outputs": [
    {
     "name": "stdout",
     "output_type": "stream",
     "text": [
      "[1, 2, 3]\n"
     ]
    }
   ],
   "source": [
    "print(lst[0])"
   ]
  },
  {
   "cell_type": "code",
   "execution_count": 176,
   "id": "70fe5b7e",
   "metadata": {},
   "outputs": [
    {
     "data": {
      "text/plain": [
       "3"
      ]
     },
     "execution_count": 176,
     "metadata": {},
     "output_type": "execute_result"
    }
   ],
   "source": [
    "len(lst[0])"
   ]
  },
  {
   "cell_type": "code",
   "execution_count": 177,
   "id": "df298e03",
   "metadata": {},
   "outputs": [
    {
     "data": {
      "text/plain": [
       "4"
      ]
     },
     "execution_count": 177,
     "metadata": {},
     "output_type": "execute_result"
    }
   ],
   "source": [
    "len(lst[1])"
   ]
  },
  {
   "cell_type": "code",
   "execution_count": 179,
   "id": "d3639260",
   "metadata": {},
   "outputs": [
    {
     "data": {
      "text/plain": [
       "['ipad', 'note', 'pc', 's20']"
      ]
     },
     "execution_count": 179,
     "metadata": {},
     "output_type": "execute_result"
    }
   ],
   "source": [
    "aux = lst[1]\n",
    "aux"
   ]
  },
  {
   "cell_type": "code",
   "execution_count": 180,
   "id": "daf8dd3a",
   "metadata": {},
   "outputs": [
    {
     "data": {
      "text/plain": [
       "'note'"
      ]
     },
     "execution_count": 180,
     "metadata": {},
     "output_type": "execute_result"
    }
   ],
   "source": [
    "aux[1]"
   ]
  },
  {
   "cell_type": "code",
   "execution_count": 181,
   "id": "fc098cf1",
   "metadata": {},
   "outputs": [
    {
     "data": {
      "text/plain": [
       "'note'"
      ]
     },
     "execution_count": 181,
     "metadata": {},
     "output_type": "execute_result"
    }
   ],
   "source": [
    "palavra = aux[1]\n",
    "palavra"
   ]
  },
  {
   "cell_type": "code",
   "execution_count": 167,
   "id": "2661a12b",
   "metadata": {},
   "outputs": [
    {
     "data": {
      "text/plain": [
       "'e'"
      ]
     },
     "execution_count": 167,
     "metadata": {},
     "output_type": "execute_result"
    }
   ],
   "source": [
    "letra = palavra[-1]\n",
    "letra"
   ]
  },
  {
   "cell_type": "raw",
   "id": "2c150eff",
   "metadata": {},
   "source": [
    "letra = lst[1][1][-1]\n"
   ]
  },
  {
   "cell_type": "code",
   "execution_count": 189,
   "id": "3bc593cd",
   "metadata": {},
   "outputs": [
    {
     "data": {
      "text/plain": [
       "'e'"
      ]
     },
     "execution_count": 189,
     "metadata": {},
     "output_type": "execute_result"
    }
   ],
   "source": [
    "letra"
   ]
  },
  {
   "cell_type": "code",
   "execution_count": 184,
   "id": "8d20e94f",
   "metadata": {},
   "outputs": [
    {
     "data": {
      "text/plain": [
       "['ipad', 'note', 'pc', 's20']"
      ]
     },
     "execution_count": 184,
     "metadata": {},
     "output_type": "execute_result"
    }
   ],
   "source": [
    "lst[1]"
   ]
  },
  {
   "cell_type": "code",
   "execution_count": 185,
   "id": "74d6041a",
   "metadata": {},
   "outputs": [
    {
     "data": {
      "text/plain": [
       "'note'"
      ]
     },
     "execution_count": 185,
     "metadata": {},
     "output_type": "execute_result"
    }
   ],
   "source": [
    "lst[1][1].lower()"
   ]
  },
  {
   "cell_type": "code",
   "execution_count": 186,
   "id": "e9f49e8b",
   "metadata": {},
   "outputs": [
    {
     "data": {
      "text/plain": [
       "'NOTE'"
      ]
     },
     "execution_count": 186,
     "metadata": {},
     "output_type": "execute_result"
    }
   ],
   "source": [
    "lst[1][1].upper()"
   ]
  },
  {
   "cell_type": "code",
   "execution_count": 187,
   "id": "03936385",
   "metadata": {},
   "outputs": [
    {
     "data": {
      "text/plain": [
       "'Note'"
      ]
     },
     "execution_count": 187,
     "metadata": {},
     "output_type": "execute_result"
    }
   ],
   "source": [
    "lst[1][1].title()"
   ]
  },
  {
   "cell_type": "code",
   "execution_count": 188,
   "id": "e1800cd3",
   "metadata": {},
   "outputs": [
    {
     "data": {
      "text/plain": [
       "'e'"
      ]
     },
     "execution_count": 188,
     "metadata": {},
     "output_type": "execute_result"
    }
   ],
   "source": [
    "lst[1][1][-1]"
   ]
  },
  {
   "cell_type": "code",
   "execution_count": 202,
   "id": "d052215f",
   "metadata": {},
   "outputs": [],
   "source": [
    "n = ['c', 'a', 'b']"
   ]
  },
  {
   "cell_type": "code",
   "execution_count": 203,
   "id": "8335cfa4",
   "metadata": {},
   "outputs": [
    {
     "ename": "TypeError",
     "evalue": "'<' not supported between instances of 'int' and 'str'",
     "output_type": "error",
     "traceback": [
      "\u001b[1;31m---------------------------------------------------------------------------\u001b[0m",
      "\u001b[1;31mTypeError\u001b[0m                                 Traceback (most recent call last)",
      "\u001b[1;32m~\\AppData\\Local\\Temp\\ipykernel_20016\\3340300590.py\u001b[0m in \u001b[0;36m<module>\u001b[1;34m\u001b[0m\n\u001b[1;32m----> 1\u001b[1;33m \u001b[0mn\u001b[0m\u001b[1;33m.\u001b[0m\u001b[0msort\u001b[0m\u001b[1;33m(\u001b[0m\u001b[1;33m)\u001b[0m\u001b[1;33m\u001b[0m\u001b[1;33m\u001b[0m\u001b[0m\n\u001b[0m",
      "\u001b[1;31mTypeError\u001b[0m: '<' not supported between instances of 'int' and 'str'"
     ]
    }
   ],
   "source": [
    "n.sort()"
   ]
  },
  {
   "cell_type": "code",
   "execution_count": 201,
   "id": "01648aae",
   "metadata": {},
   "outputs": [
    {
     "name": "stdout",
     "output_type": "stream",
     "text": [
      "['c', 'b', 'a']\n"
     ]
    }
   ],
   "source": [
    "print(n)"
   ]
  },
  {
   "cell_type": "code",
   "execution_count": 200,
   "id": "0617e25f",
   "metadata": {},
   "outputs": [
    {
     "data": {
      "text/plain": [
       "['c', 'b', 'a']"
      ]
     },
     "execution_count": 200,
     "metadata": {},
     "output_type": "execute_result"
    }
   ],
   "source": [
    "n.sort(reverse = True)\n",
    "n"
   ]
  },
  {
   "cell_type": "code",
   "execution_count": 206,
   "id": "a215e940",
   "metadata": {},
   "outputs": [],
   "source": [
    "n = ['c', 'a' , 'b', '1', '<', 'ab']"
   ]
  },
  {
   "cell_type": "code",
   "execution_count": 208,
   "id": "d2a17540",
   "metadata": {},
   "outputs": [],
   "source": [
    "n.sort()"
   ]
  },
  {
   "cell_type": "code",
   "execution_count": 209,
   "id": "785fafe4",
   "metadata": {},
   "outputs": [
    {
     "name": "stdout",
     "output_type": "stream",
     "text": [
      "['1', '<', 'a', 'ab', 'b', 'c']\n"
     ]
    }
   ],
   "source": [
    "print(n)"
   ]
  },
  {
   "cell_type": "code",
   "execution_count": 210,
   "id": "0cf7fbdb",
   "metadata": {},
   "outputs": [],
   "source": [
    "n = [9, 1, 8, 7, 6, 10]"
   ]
  },
  {
   "cell_type": "code",
   "execution_count": 211,
   "id": "db56b4b7",
   "metadata": {},
   "outputs": [],
   "source": [
    "n.sort(reverse=True)"
   ]
  },
  {
   "cell_type": "code",
   "execution_count": 212,
   "id": "0f823d66",
   "metadata": {},
   "outputs": [
    {
     "name": "stdout",
     "output_type": "stream",
     "text": [
      "[10, 9, 8, 7, 6, 1]\n"
     ]
    }
   ],
   "source": [
    "print(n)"
   ]
  },
  {
   "cell_type": "code",
   "execution_count": 216,
   "id": "cef6c92e",
   "metadata": {},
   "outputs": [],
   "source": [
    "n = ['c', 'a', 'b']"
   ]
  },
  {
   "cell_type": "code",
   "execution_count": 217,
   "id": "436d7c9b",
   "metadata": {},
   "outputs": [],
   "source": [
    "n.append('d')"
   ]
  },
  {
   "cell_type": "code",
   "execution_count": 218,
   "id": "4e684091",
   "metadata": {},
   "outputs": [
    {
     "name": "stdout",
     "output_type": "stream",
     "text": [
      "['c', 'a', 'b', 'd']\n"
     ]
    }
   ],
   "source": [
    "print(n)"
   ]
  },
  {
   "cell_type": "code",
   "execution_count": 220,
   "id": "861ffe01",
   "metadata": {},
   "outputs": [
    {
     "ename": "TypeError",
     "evalue": "list.append() takes exactly one argument (2 given)",
     "output_type": "error",
     "traceback": [
      "\u001b[1;31m---------------------------------------------------------------------------\u001b[0m",
      "\u001b[1;31mTypeError\u001b[0m                                 Traceback (most recent call last)",
      "\u001b[1;32m~\\AppData\\Local\\Temp\\ipykernel_20016\\3036379030.py\u001b[0m in \u001b[0;36m<module>\u001b[1;34m\u001b[0m\n\u001b[1;32m----> 1\u001b[1;33m \u001b[0mn\u001b[0m\u001b[1;33m.\u001b[0m\u001b[0mappend\u001b[0m\u001b[1;33m(\u001b[0m\u001b[1;34m'g'\u001b[0m\u001b[1;33m,\u001b[0m \u001b[1;34m'i'\u001b[0m\u001b[1;33m)\u001b[0m\u001b[1;33m\u001b[0m\u001b[1;33m\u001b[0m\u001b[0m\n\u001b[0m",
      "\u001b[1;31mTypeError\u001b[0m: list.append() takes exactly one argument (2 given)"
     ]
    }
   ],
   "source": [
    "n.append('g', 'i')"
   ]
  },
  {
   "cell_type": "code",
   "execution_count": 221,
   "id": "3885f5b0",
   "metadata": {},
   "outputs": [],
   "source": [
    "n.append(['g','i'])"
   ]
  },
  {
   "cell_type": "code",
   "execution_count": 222,
   "id": "20bf2244",
   "metadata": {},
   "outputs": [
    {
     "name": "stdout",
     "output_type": "stream",
     "text": [
      "['c', 'a', 'b', 'd', ['g', 'i']]\n"
     ]
    }
   ],
   "source": [
    "print(n)"
   ]
  },
  {
   "cell_type": "code",
   "execution_count": 223,
   "id": "3e9d11d0",
   "metadata": {},
   "outputs": [
    {
     "data": {
      "text/plain": [
       "5"
      ]
     },
     "execution_count": 223,
     "metadata": {},
     "output_type": "execute_result"
    }
   ],
   "source": [
    "len(n)"
   ]
  },
  {
   "cell_type": "code",
   "execution_count": 226,
   "id": "a51c103b",
   "metadata": {},
   "outputs": [],
   "source": [
    "n.extend(['g','i','a'])"
   ]
  },
  {
   "cell_type": "code",
   "execution_count": 227,
   "id": "e3d44895",
   "metadata": {},
   "outputs": [
    {
     "name": "stdout",
     "output_type": "stream",
     "text": [
      "['c', 'a', 'b', 'd', ['g', 'i'], 'g', 'i', 'g', 'i', 'a']\n"
     ]
    }
   ],
   "source": [
    "print(n)"
   ]
  },
  {
   "cell_type": "code",
   "execution_count": 228,
   "id": "188b9567",
   "metadata": {},
   "outputs": [],
   "source": [
    "n.remove('a')"
   ]
  },
  {
   "cell_type": "code",
   "execution_count": 229,
   "id": "cb5b87ff",
   "metadata": {},
   "outputs": [
    {
     "name": "stdout",
     "output_type": "stream",
     "text": [
      "['c', 'b', 'd', ['g', 'i'], 'g', 'i', 'g', 'i', 'a']\n"
     ]
    }
   ],
   "source": [
    "print(n)"
   ]
  },
  {
   "cell_type": "code",
   "execution_count": 230,
   "id": "c4eb80d2",
   "metadata": {},
   "outputs": [
    {
     "data": {
      "text/plain": [
       "'a'"
      ]
     },
     "execution_count": 230,
     "metadata": {},
     "output_type": "execute_result"
    }
   ],
   "source": [
    "n.pop(-1)"
   ]
  },
  {
   "cell_type": "code",
   "execution_count": 231,
   "id": "06a8153d",
   "metadata": {},
   "outputs": [
    {
     "name": "stdout",
     "output_type": "stream",
     "text": [
      "['c', 'b', 'd', ['g', 'i'], 'g', 'i', 'g', 'i']\n"
     ]
    }
   ],
   "source": [
    "print(n)"
   ]
  },
  {
   "cell_type": "code",
   "execution_count": 232,
   "id": "ba8f332e",
   "metadata": {},
   "outputs": [],
   "source": [
    "aux = n.pop(4)"
   ]
  },
  {
   "cell_type": "code",
   "execution_count": 233,
   "id": "1f10f27e",
   "metadata": {},
   "outputs": [
    {
     "name": "stdout",
     "output_type": "stream",
     "text": [
      "g\n"
     ]
    }
   ],
   "source": [
    "print(aux)"
   ]
  },
  {
   "cell_type": "code",
   "execution_count": 234,
   "id": "97cf53f1",
   "metadata": {},
   "outputs": [
    {
     "data": {
      "text/plain": [
       "['c', 'b', 'd', ['g', 'i'], 'i', 'g', 'i']"
      ]
     },
     "execution_count": 234,
     "metadata": {},
     "output_type": "execute_result"
    }
   ],
   "source": [
    "n"
   ]
  },
  {
   "cell_type": "code",
   "execution_count": 235,
   "id": "6cb5b6a5",
   "metadata": {},
   "outputs": [
    {
     "data": {
      "text/plain": [
       "2"
      ]
     },
     "execution_count": 235,
     "metadata": {},
     "output_type": "execute_result"
    }
   ],
   "source": [
    "n.index('d')"
   ]
  },
  {
   "cell_type": "code",
   "execution_count": 236,
   "id": "a38c4fcd",
   "metadata": {},
   "outputs": [
    {
     "data": {
      "text/plain": [
       "'d'"
      ]
     },
     "execution_count": 236,
     "metadata": {},
     "output_type": "execute_result"
    }
   ],
   "source": [
    "n.pop(n.index('d'))"
   ]
  },
  {
   "cell_type": "code",
   "execution_count": 237,
   "id": "a86f4565",
   "metadata": {},
   "outputs": [
    {
     "data": {
      "text/plain": [
       "['c', 'b', ['g', 'i'], 'i', 'g', 'i']"
      ]
     },
     "execution_count": 237,
     "metadata": {},
     "output_type": "execute_result"
    }
   ],
   "source": [
    "n"
   ]
  },
  {
   "cell_type": "code",
   "execution_count": 238,
   "id": "7cff89bf",
   "metadata": {},
   "outputs": [
    {
     "ename": "AttributeError",
     "evalue": "'list' object has no attribute 'find'",
     "output_type": "error",
     "traceback": [
      "\u001b[1;31m---------------------------------------------------------------------------\u001b[0m",
      "\u001b[1;31mAttributeError\u001b[0m                            Traceback (most recent call last)",
      "\u001b[1;32m~\\AppData\\Local\\Temp\\ipykernel_20016\\788534671.py\u001b[0m in \u001b[0;36m<module>\u001b[1;34m\u001b[0m\n\u001b[1;32m----> 1\u001b[1;33m \u001b[0mn\u001b[0m\u001b[1;33m.\u001b[0m\u001b[0mfind\u001b[0m\u001b[1;33m(\u001b[0m\u001b[1;34m'd'\u001b[0m\u001b[1;33m)\u001b[0m\u001b[1;33m\u001b[0m\u001b[1;33m\u001b[0m\u001b[0m\n\u001b[0m",
      "\u001b[1;31mAttributeError\u001b[0m: 'list' object has no attribute 'find'"
     ]
    }
   ],
   "source": [
    "n.find('d')"
   ]
  },
  {
   "cell_type": "code",
   "execution_count": 240,
   "id": "f1e79cd5",
   "metadata": {},
   "outputs": [
    {
     "ename": "ValueError",
     "evalue": "'d' is not in list",
     "output_type": "error",
     "traceback": [
      "\u001b[1;31m---------------------------------------------------------------------------\u001b[0m",
      "\u001b[1;31mValueError\u001b[0m                                Traceback (most recent call last)",
      "\u001b[1;32m~\\AppData\\Local\\Temp\\ipykernel_20016\\3377064796.py\u001b[0m in \u001b[0;36m<module>\u001b[1;34m\u001b[0m\n\u001b[1;32m----> 1\u001b[1;33m \u001b[0mn\u001b[0m\u001b[1;33m.\u001b[0m\u001b[0mindex\u001b[0m\u001b[1;33m(\u001b[0m\u001b[1;34m'd'\u001b[0m\u001b[1;33m)\u001b[0m\u001b[1;33m\u001b[0m\u001b[1;33m\u001b[0m\u001b[0m\n\u001b[0m",
      "\u001b[1;31mValueError\u001b[0m: 'd' is not in list"
     ]
    }
   ],
   "source": [
    "n.index('d')"
   ]
  },
  {
   "cell_type": "code",
   "execution_count": 241,
   "id": "abe5e260",
   "metadata": {},
   "outputs": [
    {
     "data": {
      "text/plain": [
       "2"
      ]
     },
     "execution_count": 241,
     "metadata": {},
     "output_type": "execute_result"
    }
   ],
   "source": [
    "n.index(['g','i'])"
   ]
  },
  {
   "cell_type": "code",
   "execution_count": 242,
   "id": "356504bf",
   "metadata": {},
   "outputs": [],
   "source": [
    "# Para remover a lista interna\n",
    "# n.remove(['g','i'])\n",
    "# n.pop(n.index(['g','i']))"
   ]
  },
  {
   "cell_type": "code",
   "execution_count": 243,
   "id": "143d2e13",
   "metadata": {},
   "outputs": [],
   "source": [
    "n.remove(['g','i'])"
   ]
  },
  {
   "cell_type": "code",
   "execution_count": 244,
   "id": "d0164977",
   "metadata": {},
   "outputs": [
    {
     "name": "stdout",
     "output_type": "stream",
     "text": [
      "['c', 'b', 'i', 'g', 'i']\n"
     ]
    }
   ],
   "source": [
    "print(n)"
   ]
  },
  {
   "cell_type": "code",
   "execution_count": 245,
   "id": "d8b6ce18",
   "metadata": {},
   "outputs": [
    {
     "data": {
      "text/plain": [
       "-1"
      ]
     },
     "execution_count": 245,
     "metadata": {},
     "output_type": "execute_result"
    }
   ],
   "source": [
    "nome.find('D')"
   ]
  },
  {
   "cell_type": "code",
   "execution_count": 246,
   "id": "28362389",
   "metadata": {},
   "outputs": [
    {
     "data": {
      "text/plain": [
       "0"
      ]
     },
     "execution_count": 246,
     "metadata": {},
     "output_type": "execute_result"
    }
   ],
   "source": [
    "nome.find('J')"
   ]
  },
  {
   "cell_type": "code",
   "execution_count": 247,
   "id": "836f8d5f",
   "metadata": {},
   "outputs": [
    {
     "data": {
      "text/plain": [
       "0"
      ]
     },
     "execution_count": 247,
     "metadata": {},
     "output_type": "execute_result"
    }
   ],
   "source": [
    "nome.index('J')"
   ]
  },
  {
   "cell_type": "code",
   "execution_count": 248,
   "id": "08dc53e3",
   "metadata": {},
   "outputs": [
    {
     "ename": "ValueError",
     "evalue": "substring not found",
     "output_type": "error",
     "traceback": [
      "\u001b[1;31m---------------------------------------------------------------------------\u001b[0m",
      "\u001b[1;31mValueError\u001b[0m                                Traceback (most recent call last)",
      "\u001b[1;32m~\\AppData\\Local\\Temp\\ipykernel_20016\\1841102925.py\u001b[0m in \u001b[0;36m<module>\u001b[1;34m\u001b[0m\n\u001b[1;32m----> 1\u001b[1;33m \u001b[0mnome\u001b[0m\u001b[1;33m.\u001b[0m\u001b[0mindex\u001b[0m\u001b[1;33m(\u001b[0m\u001b[1;34m'D'\u001b[0m\u001b[1;33m)\u001b[0m\u001b[1;33m\u001b[0m\u001b[1;33m\u001b[0m\u001b[0m\n\u001b[0m",
      "\u001b[1;31mValueError\u001b[0m: substring not found"
     ]
    }
   ],
   "source": [
    "nome.index('D')"
   ]
  },
  {
   "cell_type": "code",
   "execution_count": null,
   "id": "9e206651",
   "metadata": {},
   "outputs": [],
   "source": []
  }
 ],
 "metadata": {
  "kernelspec": {
   "display_name": "Python 3 (ipykernel)",
   "language": "python",
   "name": "python3"
  },
  "language_info": {
   "codemirror_mode": {
    "name": "ipython",
    "version": 3
   },
   "file_extension": ".py",
   "mimetype": "text/x-python",
   "name": "python",
   "nbconvert_exporter": "python",
   "pygments_lexer": "ipython3",
   "version": "3.9.13"
  }
 },
 "nbformat": 4,
 "nbformat_minor": 5
}
