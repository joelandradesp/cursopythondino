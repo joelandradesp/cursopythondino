{
 "cells": [
  {
   "cell_type": "markdown",
   "id": "2df12799",
   "metadata": {},
   "source": [
    "# Intro Python"
   ]
  },
  {
   "cell_type": "code",
   "execution_count": 4,
   "id": "333eb542",
   "metadata": {},
   "outputs": [
    {
     "name": "stdout",
     "output_type": "stream",
     "text": [
      "Olá mundo\n"
     ]
    }
   ],
   "source": [
    "print('Olá mundo')"
   ]
  },
  {
   "cell_type": "code",
   "execution_count": 5,
   "id": "935b5f53",
   "metadata": {
    "scrolled": true
   },
   "outputs": [
    {
     "name": "stdout",
     "output_type": "stream",
     "text": [
      "Ola \n",
      "Mundo\n",
      "4\n"
     ]
    }
   ],
   "source": [
    "print('Ola ')\n",
    "print('Mundo')\n",
    "print(2+2)\n"
   ]
  },
  {
   "cell_type": "markdown",
   "id": "1b345ddf",
   "metadata": {},
   "source": [
    "## Strings"
   ]
  },
  {
   "cell_type": "code",
   "execution_count": 6,
   "id": "33239cfa",
   "metadata": {},
   "outputs": [],
   "source": [
    "nome = 'Joel'\n",
    "sobrenome = 'Andrade'"
   ]
  },
  {
   "cell_type": "code",
   "execution_count": 7,
   "id": "11440446",
   "metadata": {},
   "outputs": [
    {
     "name": "stdout",
     "output_type": "stream",
     "text": [
      "Joel Andrade\n"
     ]
    }
   ],
   "source": [
    "print(nome,sobrenome)"
   ]
  },
  {
   "cell_type": "code",
   "execution_count": 8,
   "id": "43816a98",
   "metadata": {},
   "outputs": [
    {
     "name": "stdout",
     "output_type": "stream",
     "text": [
      "Joel\n",
      "\n",
      "Andrade\n"
     ]
    }
   ],
   "source": [
    "print(nome)\n",
    "print()\n",
    "print(sobrenome)"
   ]
  },
  {
   "cell_type": "code",
   "execution_count": 9,
   "id": "1a2bbee5",
   "metadata": {},
   "outputs": [
    {
     "name": "stdout",
     "output_type": "stream",
     "text": [
      "Dino ' Magri\n"
     ]
    }
   ],
   "source": [
    "print(\"Dino ' Magri\")"
   ]
  },
  {
   "cell_type": "code",
   "execution_count": 10,
   "id": "047d80a5",
   "metadata": {},
   "outputs": [
    {
     "ename": "SyntaxError",
     "evalue": "invalid syntax (1256916114.py, line 1)",
     "output_type": "error",
     "traceback": [
      "\u001b[1;36m  File \u001b[1;32m\"C:\\Users\\joelg\\AppData\\Local\\Temp\\ipykernel_20016\\1256916114.py\"\u001b[1;36m, line \u001b[1;32m1\u001b[0m\n\u001b[1;33m    print('Dino ' Magri')\u001b[0m\n\u001b[1;37m                  ^\u001b[0m\n\u001b[1;31mSyntaxError\u001b[0m\u001b[1;31m:\u001b[0m invalid syntax\n"
     ]
    }
   ],
   "source": [
    "print('Dino ' Magri')"
   ]
  },
  {
   "cell_type": "code",
   "execution_count": 12,
   "id": "965aece1",
   "metadata": {},
   "outputs": [
    {
     "name": "stdout",
     "output_type": "stream",
     "text": [
      "Joel ' Andrade\n"
     ]
    }
   ],
   "source": [
    "print(\"Joel ' Andrade\")"
   ]
  },
  {
   "cell_type": "code",
   "execution_count": 13,
   "id": "25521d67",
   "metadata": {},
   "outputs": [
    {
     "name": "stdout",
     "output_type": "stream",
     "text": [
      "Dino ' Magri\n"
     ]
    }
   ],
   "source": [
    "print('Dino \\' Magri')"
   ]
  },
  {
   "cell_type": "code",
   "execution_count": 18,
   "id": "88626e4c",
   "metadata": {},
   "outputs": [],
   "source": [
    "nome = 'Joel Andrade'"
   ]
  },
  {
   "cell_type": "code",
   "execution_count": 19,
   "id": "a5022b96",
   "metadata": {},
   "outputs": [
    {
     "name": "stdout",
     "output_type": "stream",
     "text": [
      "Joel Andrade\n"
     ]
    }
   ],
   "source": [
    "print(nome)"
   ]
  },
  {
   "cell_type": "code",
   "execution_count": 23,
   "id": "771b5030",
   "metadata": {},
   "outputs": [
    {
     "name": "stdout",
     "output_type": "stream",
     "text": [
      "joel andrade\n"
     ]
    }
   ],
   "source": [
    "print(nome.lower())"
   ]
  },
  {
   "cell_type": "code",
   "execution_count": 24,
   "id": "4dba8965",
   "metadata": {},
   "outputs": [
    {
     "data": {
      "text/plain": [
       "4"
      ]
     },
     "execution_count": 24,
     "metadata": {},
     "output_type": "execute_result"
    }
   ],
   "source": [
    "2 + 2"
   ]
  },
  {
   "cell_type": "code",
   "execution_count": 25,
   "id": "b22ecf50",
   "metadata": {},
   "outputs": [
    {
     "name": "stdout",
     "output_type": "stream",
     "text": [
      "Eu \n",
      " sou uma string\n"
     ]
    }
   ],
   "source": [
    "print(\"Eu \\n sou uma string\")"
   ]
  },
  {
   "cell_type": "code",
   "execution_count": 26,
   "id": "a73a2950",
   "metadata": {},
   "outputs": [
    {
     "name": "stdout",
     "output_type": "stream",
     "text": [
      "Eu n sou uma \tstring\n"
     ]
    }
   ],
   "source": [
    "print(\"Eu n sou uma \\tstring\")"
   ]
  },
  {
   "cell_type": "code",
   "execution_count": 27,
   "id": "dd791798",
   "metadata": {},
   "outputs": [
    {
     "name": "stdout",
     "output_type": "stream",
     "text": [
      "Eu \\n sou uma \\t string\n"
     ]
    }
   ],
   "source": [
    "print(\"Eu \\\\n sou uma \\\\t string\")"
   ]
  },
  {
   "cell_type": "code",
   "execution_count": 28,
   "id": "e2aa4dd1",
   "metadata": {},
   "outputs": [
    {
     "name": "stdout",
     "output_type": "stream",
     "text": [
      "Eu \\\\n sou uma \\\\t string\n"
     ]
    }
   ],
   "source": [
    "print(r\"Eu \\\\n sou uma \\\\t string\")"
   ]
  },
  {
   "cell_type": "code",
   "execution_count": 31,
   "id": "1e755480",
   "metadata": {},
   "outputs": [],
   "source": [
    "nome = \"FIA\"\n",
    "idade = 35"
   ]
  },
  {
   "cell_type": "code",
   "execution_count": 32,
   "id": "f700cb3d",
   "metadata": {},
   "outputs": [
    {
     "name": "stdout",
     "output_type": "stream",
     "text": [
      "A FIA tem 35 anos\n"
     ]
    }
   ],
   "source": [
    "print(\"A {} tem {} anos\".format(nome,idade))"
   ]
  },
  {
   "cell_type": "code",
   "execution_count": 33,
   "id": "adc4c2eb",
   "metadata": {},
   "outputs": [
    {
     "name": "stdout",
     "output_type": "stream",
     "text": [
      "A  FIA tem 35 anos\n"
     ]
    }
   ],
   "source": [
    "print(\"A \", nome, \"tem\", idade, \"anos\")"
   ]
  },
  {
   "cell_type": "code",
   "execution_count": 34,
   "id": "539cff86",
   "metadata": {},
   "outputs": [
    {
     "name": "stdout",
     "output_type": "stream",
     "text": [
      "A FIA tem 35 anos\n"
     ]
    }
   ],
   "source": [
    "print(f\"A {nome} tem {idade} anos\")"
   ]
  },
  {
   "cell_type": "code",
   "execution_count": 35,
   "id": "b6a34b70",
   "metadata": {},
   "outputs": [
    {
     "data": {
      "text/plain": [
       "'EU SOU UMA STRING'"
      ]
     },
     "execution_count": 35,
     "metadata": {},
     "output_type": "execute_result"
    }
   ],
   "source": [
    "\"eu sou uma string\".upper()"
   ]
  },
  {
   "cell_type": "code",
   "execution_count": 37,
   "id": "c3803287",
   "metadata": {},
   "outputs": [
    {
     "name": "stdout",
     "output_type": "stream",
     "text": [
      "EU SOU UMA STRING\n"
     ]
    }
   ],
   "source": [
    "aux = \"eu sou uma string\".upper()\n",
    "print(aux)"
   ]
  },
  {
   "cell_type": "code",
   "execution_count": 39,
   "id": "3284624e",
   "metadata": {},
   "outputs": [
    {
     "name": "stdout",
     "output_type": "stream",
     "text": [
      "Eu Sou Uma String\n"
     ]
    }
   ],
   "source": [
    "aux = \"eu sou uma string\".title()\n",
    "print(aux)"
   ]
  },
  {
   "cell_type": "code",
   "execution_count": 40,
   "id": "f5f90f73",
   "metadata": {},
   "outputs": [
    {
     "data": {
      "text/plain": [
       "'FIA'"
      ]
     },
     "execution_count": 40,
     "metadata": {},
     "output_type": "execute_result"
    }
   ],
   "source": [
    "nome"
   ]
  },
  {
   "cell_type": "code",
   "execution_count": 41,
   "id": "308b3094",
   "metadata": {},
   "outputs": [],
   "source": [
    "nome = \"Joel\"\n",
    "sobrenome = \"Andrade\""
   ]
  },
  {
   "cell_type": "code",
   "execution_count": 42,
   "id": "df0a3702",
   "metadata": {},
   "outputs": [
    {
     "data": {
      "text/plain": [
       "'JoelAndrade'"
      ]
     },
     "execution_count": 42,
     "metadata": {},
     "output_type": "execute_result"
    }
   ],
   "source": [
    "nome + sobrenome"
   ]
  },
  {
   "cell_type": "code",
   "execution_count": 43,
   "id": "a5ae3824",
   "metadata": {},
   "outputs": [],
   "source": [
    "nome = \"Joel \"\n",
    "sobrenome = \"Andrade\""
   ]
  },
  {
   "cell_type": "code",
   "execution_count": 44,
   "id": "e6fc655e",
   "metadata": {},
   "outputs": [
    {
     "data": {
      "text/plain": [
       "'Joel Andrade'"
      ]
     },
     "execution_count": 44,
     "metadata": {},
     "output_type": "execute_result"
    }
   ],
   "source": [
    "nome + sobrenome"
   ]
  },
  {
   "cell_type": "code",
   "execution_count": 45,
   "id": "57b79447",
   "metadata": {},
   "outputs": [
    {
     "data": {
      "text/plain": [
       "'----------'"
      ]
     },
     "execution_count": 45,
     "metadata": {},
     "output_type": "execute_result"
    }
   ],
   "source": [
    "'-' * 10"
   ]
  },
  {
   "cell_type": "code",
   "execution_count": 46,
   "id": "db82a707",
   "metadata": {},
   "outputs": [
    {
     "data": {
      "text/plain": [
       "'----------------------------------------------------------------------------------------------------------------------------------------------------------------------------------------------------------------------------------------------------------------------------------------------------------------------------------------------------------------------------------------------------------------------------------------------------------------------------------------------------------------------------------------------------------------------------------------------------------------------------------------------------------------------------------------------------------------------------------------------------------------------------------------------------------------------------------------------------------------------------------------------------------------------------------------------------------------------------------------------------------------------------------------'"
      ]
     },
     "execution_count": 46,
     "metadata": {},
     "output_type": "execute_result"
    }
   ],
   "source": [
    "'-' * 1000"
   ]
  },
  {
   "cell_type": "code",
   "execution_count": 47,
   "id": "54ebc9fa",
   "metadata": {},
   "outputs": [
    {
     "data": {
      "text/plain": [
       "'----------'"
      ]
     },
     "execution_count": 47,
     "metadata": {},
     "output_type": "execute_result"
    }
   ],
   "source": [
    "'-' + '-'+ '-'+ '-'+ '-'+ '-'+ '-'+ '-'+ '-'+ '-'"
   ]
  },
  {
   "cell_type": "code",
   "execution_count": 48,
   "id": "8aba2be0",
   "metadata": {},
   "outputs": [
    {
     "data": {
      "text/plain": [
       "14"
      ]
     },
     "execution_count": 48,
     "metadata": {},
     "output_type": "execute_result"
    }
   ],
   "source": [
    "mensagem = \"Big Data + FIA\"\n",
    "len(mensagem)"
   ]
  },
  {
   "cell_type": "code",
   "execution_count": 49,
   "id": "d54ed0fb",
   "metadata": {},
   "outputs": [],
   "source": [
    "s = \"Python\""
   ]
  },
  {
   "cell_type": "code",
   "execution_count": 50,
   "id": "969c8a6c",
   "metadata": {},
   "outputs": [
    {
     "name": "stdout",
     "output_type": "stream",
     "text": [
      "Python\n"
     ]
    }
   ],
   "source": [
    "print(s)"
   ]
  },
  {
   "cell_type": "code",
   "execution_count": 51,
   "id": "0bb290f7",
   "metadata": {},
   "outputs": [
    {
     "data": {
      "text/plain": [
       "'P'"
      ]
     },
     "execution_count": 51,
     "metadata": {},
     "output_type": "execute_result"
    }
   ],
   "source": [
    "s[0]"
   ]
  },
  {
   "cell_type": "code",
   "execution_count": 52,
   "id": "b0d46e26",
   "metadata": {},
   "outputs": [
    {
     "name": "stdout",
     "output_type": "stream",
     "text": [
      "P\n"
     ]
    }
   ],
   "source": [
    "print(s[0])"
   ]
  },
  {
   "cell_type": "code",
   "execution_count": 53,
   "id": "c8da1c87",
   "metadata": {},
   "outputs": [
    {
     "name": "stdout",
     "output_type": "stream",
     "text": [
      "h\n"
     ]
    }
   ],
   "source": [
    "print(s[3])"
   ]
  },
  {
   "cell_type": "code",
   "execution_count": 54,
   "id": "50944d0c",
   "metadata": {},
   "outputs": [
    {
     "name": "stdout",
     "output_type": "stream",
     "text": [
      "Py\n"
     ]
    }
   ],
   "source": [
    "print(s[0:2])"
   ]
  },
  {
   "cell_type": "code",
   "execution_count": 55,
   "id": "cf74dce3",
   "metadata": {},
   "outputs": [
    {
     "name": "stdout",
     "output_type": "stream",
     "text": [
      "thon\n"
     ]
    }
   ],
   "source": [
    "print(s[2:])"
   ]
  },
  {
   "cell_type": "code",
   "execution_count": 56,
   "id": "bea79bfc",
   "metadata": {},
   "outputs": [
    {
     "name": "stdout",
     "output_type": "stream",
     "text": [
      "tho\n"
     ]
    }
   ],
   "source": [
    "print(s[2:5])"
   ]
  },
  {
   "cell_type": "code",
   "execution_count": 57,
   "id": "8313b360",
   "metadata": {},
   "outputs": [
    {
     "name": "stdout",
     "output_type": "stream",
     "text": [
      "n\n"
     ]
    }
   ],
   "source": [
    "print(s[-1])"
   ]
  },
  {
   "cell_type": "code",
   "execution_count": 58,
   "id": "94a81b6b",
   "metadata": {},
   "outputs": [
    {
     "name": "stdout",
     "output_type": "stream",
     "text": [
      "on\n"
     ]
    }
   ],
   "source": [
    "print(s[-2:])"
   ]
  },
  {
   "cell_type": "code",
   "execution_count": 60,
   "id": "f8693a6f",
   "metadata": {},
   "outputs": [
    {
     "data": {
      "text/plain": [
       "'Joel '"
      ]
     },
     "execution_count": 60,
     "metadata": {},
     "output_type": "execute_result"
    }
   ],
   "source": [
    "nome"
   ]
  },
  {
   "cell_type": "code",
   "execution_count": 61,
   "id": "76292e05",
   "metadata": {},
   "outputs": [
    {
     "ename": "TypeError",
     "evalue": "'str' object does not support item assignment",
     "output_type": "error",
     "traceback": [
      "\u001b[1;31m---------------------------------------------------------------------------\u001b[0m",
      "\u001b[1;31mTypeError\u001b[0m                                 Traceback (most recent call last)",
      "\u001b[1;32m~\\AppData\\Local\\Temp\\ipykernel_20016\\290638248.py\u001b[0m in \u001b[0;36m<module>\u001b[1;34m\u001b[0m\n\u001b[1;32m----> 1\u001b[1;33m \u001b[0mnome\u001b[0m\u001b[1;33m[\u001b[0m\u001b[1;36m2\u001b[0m\u001b[1;33m]\u001b[0m \u001b[1;33m=\u001b[0m \u001b[1;34m\"E\"\u001b[0m\u001b[1;33m\u001b[0m\u001b[1;33m\u001b[0m\u001b[0m\n\u001b[0m",
      "\u001b[1;31mTypeError\u001b[0m: 'str' object does not support item assignment"
     ]
    }
   ],
   "source": [
    "nome[2] = \"E\""
   ]
  },
  {
   "cell_type": "code",
   "execution_count": 65,
   "id": "96c33c84",
   "metadata": {},
   "outputs": [],
   "source": [
    "nome = nome[:2] + \"E\" + nome[3:]"
   ]
  },
  {
   "cell_type": "code",
   "execution_count": 66,
   "id": "7aca85c9",
   "metadata": {},
   "outputs": [
    {
     "data": {
      "text/plain": [
       "'JoEl '"
      ]
     },
     "execution_count": 66,
     "metadata": {},
     "output_type": "execute_result"
    }
   ],
   "source": [
    "nome"
   ]
  },
  {
   "cell_type": "code",
   "execution_count": 67,
   "id": "b61f7f60",
   "metadata": {},
   "outputs": [],
   "source": [
    "a = \"Eu sou uma string\""
   ]
  },
  {
   "cell_type": "code",
   "execution_count": 68,
   "id": "04ef2b60",
   "metadata": {},
   "outputs": [
    {
     "name": "stdout",
     "output_type": "stream",
     "text": [
      "E\n"
     ]
    }
   ],
   "source": [
    "print(a[0])"
   ]
  },
  {
   "cell_type": "code",
   "execution_count": 69,
   "id": "8178111b",
   "metadata": {},
   "outputs": [
    {
     "name": "stdout",
     "output_type": "stream",
     "text": [
      "Eu sou\n"
     ]
    }
   ],
   "source": [
    "print(a[:6])"
   ]
  },
  {
   "cell_type": "code",
   "execution_count": 70,
   "id": "6c993d10",
   "metadata": {},
   "outputs": [
    {
     "name": "stdout",
     "output_type": "stream",
     "text": [
      "string\n"
     ]
    }
   ],
   "source": [
    "print(a[-6:])"
   ]
  },
  {
   "cell_type": "code",
   "execution_count": 71,
   "id": "463d3a39",
   "metadata": {},
   "outputs": [
    {
     "name": "stdout",
     "output_type": "stream",
     "text": [
      "u so\n"
     ]
    }
   ],
   "source": [
    "print(a[1:5])"
   ]
  },
  {
   "cell_type": "code",
   "execution_count": 72,
   "id": "33ccdb9b",
   "metadata": {},
   "outputs": [
    {
     "name": "stdout",
     "output_type": "stream",
     "text": [
      "Eu sou uma strin\n"
     ]
    }
   ],
   "source": [
    "print(a[:-1])"
   ]
  },
  {
   "cell_type": "code",
   "execution_count": 81,
   "id": "57d514a3",
   "metadata": {},
   "outputs": [],
   "source": [
    "titulo = \"titulo com primeiro caractere em maísculo\""
   ]
  },
  {
   "cell_type": "code",
   "execution_count": 74,
   "id": "17a4fc5c",
   "metadata": {},
   "outputs": [
    {
     "data": {
      "text/plain": [
       "'Titulo com primeiro caractere em maísculo'"
      ]
     },
     "execution_count": 74,
     "metadata": {},
     "output_type": "execute_result"
    }
   ],
   "source": [
    "titulo.capitalize()"
   ]
  },
  {
   "cell_type": "code",
   "execution_count": 77,
   "id": "8f29c588",
   "metadata": {},
   "outputs": [
    {
     "data": {
      "text/plain": [
       "5"
      ]
     },
     "execution_count": 77,
     "metadata": {},
     "output_type": "execute_result"
    }
   ],
   "source": [
    "titulo.find('o')"
   ]
  },
  {
   "cell_type": "code",
   "execution_count": 78,
   "id": "eac7f7d6",
   "metadata": {},
   "outputs": [
    {
     "data": {
      "text/plain": [
       "0"
      ]
     },
     "execution_count": 78,
     "metadata": {},
     "output_type": "execute_result"
    }
   ],
   "source": [
    "titulo.count('o)')"
   ]
  },
  {
   "cell_type": "code",
   "execution_count": 79,
   "id": "1e0e77c8",
   "metadata": {},
   "outputs": [
    {
     "data": {
      "text/plain": [
       "4"
      ]
     },
     "execution_count": 79,
     "metadata": {},
     "output_type": "execute_result"
    }
   ],
   "source": [
    "titulo.count('o')"
   ]
  },
  {
   "cell_type": "code",
   "execution_count": 82,
   "id": "163d4dc3",
   "metadata": {},
   "outputs": [
    {
     "data": {
      "text/plain": [
       "2"
      ]
     },
     "execution_count": 82,
     "metadata": {},
     "output_type": "execute_result"
    }
   ],
   "source": [
    "titulo.count('titulo')"
   ]
  },
  {
   "cell_type": "code",
   "execution_count": 83,
   "id": "165c7638",
   "metadata": {},
   "outputs": [],
   "source": [
    "mensagem = \"A data de Hoje é superior a data de ontem.\""
   ]
  },
  {
   "cell_type": "code",
   "execution_count": 84,
   "id": "d1d75caf",
   "metadata": {},
   "outputs": [
    {
     "data": {
      "text/plain": [
       "2"
      ]
     },
     "execution_count": 84,
     "metadata": {},
     "output_type": "execute_result"
    }
   ],
   "source": [
    "mensagem.count('data')"
   ]
  },
  {
   "cell_type": "code",
   "execution_count": 85,
   "id": "256b85ad",
   "metadata": {},
   "outputs": [
    {
     "data": {
      "text/plain": [
       "0"
      ]
     },
     "execution_count": 85,
     "metadata": {},
     "output_type": "execute_result"
    }
   ],
   "source": [
    "mensagem.count('datax')"
   ]
  },
  {
   "cell_type": "code",
   "execution_count": 86,
   "id": "1475d080",
   "metadata": {},
   "outputs": [
    {
     "data": {
      "text/plain": [
       "True"
      ]
     },
     "execution_count": 86,
     "metadata": {},
     "output_type": "execute_result"
    }
   ],
   "source": [
    "mensagem.startswith('A data')"
   ]
  },
  {
   "cell_type": "code",
   "execution_count": 87,
   "id": "51781786",
   "metadata": {},
   "outputs": [
    {
     "data": {
      "text/plain": [
       "False"
      ]
     },
     "execution_count": 87,
     "metadata": {},
     "output_type": "execute_result"
    }
   ],
   "source": [
    "mensagem.startswith(\"a data\")"
   ]
  },
  {
   "cell_type": "markdown",
   "id": "386cad81",
   "metadata": {},
   "source": [
    "## Listas"
   ]
  },
  {
   "cell_type": "code",
   "execution_count": 100,
   "id": "8811c7b8",
   "metadata": {},
   "outputs": [],
   "source": [
    "numeros = [1, 2, 3, 4, 5, 6]"
   ]
  },
  {
   "cell_type": "code",
   "execution_count": 101,
   "id": "f4f7a706",
   "metadata": {},
   "outputs": [
    {
     "name": "stdout",
     "output_type": "stream",
     "text": [
      "[1, 2, 3, 4, 5, 6]\n"
     ]
    }
   ],
   "source": [
    "print(numeros)"
   ]
  },
  {
   "cell_type": "code",
   "execution_count": 102,
   "id": "3ce8ac6b",
   "metadata": {},
   "outputs": [
    {
     "name": "stdout",
     "output_type": "stream",
     "text": [
      "<class 'list'>\n"
     ]
    }
   ],
   "source": [
    "print(type(numeros))"
   ]
  },
  {
   "cell_type": "code",
   "execution_count": 103,
   "id": "90cdc73d",
   "metadata": {},
   "outputs": [],
   "source": [
    "letras = list('abcd')"
   ]
  },
  {
   "cell_type": "code",
   "execution_count": 104,
   "id": "814d9e82",
   "metadata": {},
   "outputs": [
    {
     "name": "stdout",
     "output_type": "stream",
     "text": [
      "['a', 'b', 'c', 'd']\n"
     ]
    }
   ],
   "source": [
    "print(letras)"
   ]
  },
  {
   "cell_type": "code",
   "execution_count": 105,
   "id": "2a4fec02",
   "metadata": {},
   "outputs": [
    {
     "data": {
      "text/plain": [
       "[1, 2, 3, 4, 5, 6, 7, 8, 9, 10]"
      ]
     },
     "execution_count": 105,
     "metadata": {},
     "output_type": "execute_result"
    }
   ],
   "source": [
    "numeros + [7, 8, 9, 10]"
   ]
  },
  {
   "cell_type": "code",
   "execution_count": 106,
   "id": "060dfebd",
   "metadata": {},
   "outputs": [],
   "source": [
    "n = numeros + [7, 8, 9, 10]"
   ]
  },
  {
   "cell_type": "code",
   "execution_count": 107,
   "id": "be65e9bd",
   "metadata": {},
   "outputs": [
    {
     "name": "stdout",
     "output_type": "stream",
     "text": [
      "[1, 2, 3, 4, 5, 6, 7, 8, 9, 10]\n"
     ]
    }
   ],
   "source": [
    "print(n)"
   ]
  },
  {
   "cell_type": "code",
   "execution_count": 108,
   "id": "b6c1f208",
   "metadata": {},
   "outputs": [
    {
     "name": "stdout",
     "output_type": "stream",
     "text": [
      "[1, 2, 3, 4, 5, 6, 7, 8, 9, 10]\n"
     ]
    }
   ],
   "source": [
    "numeros = numeros + [7, 8, 9, 10]\n",
    "print(numeros)"
   ]
  },
  {
   "cell_type": "code",
   "execution_count": 109,
   "id": "b5afae20",
   "metadata": {},
   "outputs": [
    {
     "data": {
      "text/plain": [
       "1"
      ]
     },
     "execution_count": 109,
     "metadata": {},
     "output_type": "execute_result"
    }
   ],
   "source": [
    "numeros[0]"
   ]
  },
  {
   "cell_type": "code",
   "execution_count": 110,
   "id": "d8099099",
   "metadata": {},
   "outputs": [
    {
     "data": {
      "text/plain": [
       "10"
      ]
     },
     "execution_count": 110,
     "metadata": {},
     "output_type": "execute_result"
    }
   ],
   "source": [
    "numeros[-1]"
   ]
  },
  {
   "cell_type": "code",
   "execution_count": 111,
   "id": "af383100",
   "metadata": {},
   "outputs": [
    {
     "data": {
      "text/plain": [
       "[5, 6, 7, 8]"
      ]
     },
     "execution_count": 111,
     "metadata": {},
     "output_type": "execute_result"
    }
   ],
   "source": [
    "numeros[4:8]"
   ]
  },
  {
   "cell_type": "code",
   "execution_count": 168,
   "id": "b1e7c17e",
   "metadata": {},
   "outputs": [
    {
     "name": "stdout",
     "output_type": "stream",
     "text": [
      "[1, 2.5, True, None, [1, 2], 'abcd']\n"
     ]
    }
   ],
   "source": [
    "teste = [1, 2.5, True, None, [1,2], 'abcd']\n",
    "print(teste)"
   ]
  },
  {
   "cell_type": "code",
   "execution_count": 169,
   "id": "2a09ef10",
   "metadata": {},
   "outputs": [],
   "source": [
    "import math"
   ]
  },
  {
   "cell_type": "code",
   "execution_count": 170,
   "id": "98982ae2",
   "metadata": {},
   "outputs": [
    {
     "name": "stdout",
     "output_type": "stream",
     "text": [
      "[1, 2.5, True, None, [1, 2], 'abcd', <module 'math' (built-in)>]\n"
     ]
    }
   ],
   "source": [
    "teste = [1, 2.5, True, None, [1,2], 'abcd', math]\n",
    "print(teste)"
   ]
  },
  {
   "cell_type": "code",
   "execution_count": 171,
   "id": "8899a2a5",
   "metadata": {},
   "outputs": [],
   "source": [
    "num = [1, 2, 3]\n",
    "prod = ['ipad', 'note', 'pc', 's20']"
   ]
  },
  {
   "cell_type": "code",
   "execution_count": 173,
   "id": "692e0fa4",
   "metadata": {},
   "outputs": [
    {
     "name": "stdout",
     "output_type": "stream",
     "text": [
      "[[1, 2, 3], ['ipad', 'note', 'pc', 's20']]\n"
     ]
    }
   ],
   "source": [
    "lst = [num, prod]\n",
    "print(lst)"
   ]
  },
  {
   "cell_type": "code",
   "execution_count": 174,
   "id": "efe39d6e",
   "metadata": {},
   "outputs": [
    {
     "name": "stdout",
     "output_type": "stream",
     "text": [
      "2\n"
     ]
    }
   ],
   "source": [
    "print(len(lst))"
   ]
  },
  {
   "cell_type": "code",
   "execution_count": 175,
   "id": "c67837aa",
   "metadata": {},
   "outputs": [
    {
     "name": "stdout",
     "output_type": "stream",
     "text": [
      "[1, 2, 3]\n"
     ]
    }
   ],
   "source": [
    "print(lst[0])"
   ]
  },
  {
   "cell_type": "code",
   "execution_count": 176,
   "id": "5e594517",
   "metadata": {},
   "outputs": [
    {
     "data": {
      "text/plain": [
       "3"
      ]
     },
     "execution_count": 176,
     "metadata": {},
     "output_type": "execute_result"
    }
   ],
   "source": [
    "len(lst[0])"
   ]
  },
  {
   "cell_type": "code",
   "execution_count": 177,
   "id": "ce402ec2",
   "metadata": {},
   "outputs": [
    {
     "data": {
      "text/plain": [
       "4"
      ]
     },
     "execution_count": 177,
     "metadata": {},
     "output_type": "execute_result"
    }
   ],
   "source": [
    "len(lst[1])"
   ]
  },
  {
   "cell_type": "code",
   "execution_count": 179,
   "id": "ab0a9b86",
   "metadata": {},
   "outputs": [
    {
     "data": {
      "text/plain": [
       "['ipad', 'note', 'pc', 's20']"
      ]
     },
     "execution_count": 179,
     "metadata": {},
     "output_type": "execute_result"
    }
   ],
   "source": [
    "aux = lst[1]\n",
    "aux"
   ]
  },
  {
   "cell_type": "code",
   "execution_count": 180,
   "id": "d24d3a20",
   "metadata": {},
   "outputs": [
    {
     "data": {
      "text/plain": [
       "'note'"
      ]
     },
     "execution_count": 180,
     "metadata": {},
     "output_type": "execute_result"
    }
   ],
   "source": [
    "aux[1]"
   ]
  },
  {
   "cell_type": "code",
   "execution_count": 181,
   "id": "61a4f82b",
   "metadata": {},
   "outputs": [
    {
     "data": {
      "text/plain": [
       "'note'"
      ]
     },
     "execution_count": 181,
     "metadata": {},
     "output_type": "execute_result"
    }
   ],
   "source": [
    "palavra = aux[1]\n",
    "palavra"
   ]
  },
  {
   "cell_type": "code",
   "execution_count": 167,
   "id": "a9e67654",
   "metadata": {},
   "outputs": [
    {
     "data": {
      "text/plain": [
       "'e'"
      ]
     },
     "execution_count": 167,
     "metadata": {},
     "output_type": "execute_result"
    }
   ],
   "source": [
    "letra = palavra[-1]\n",
    "letra"
   ]
  },
  {
   "cell_type": "raw",
   "id": "b0232348",
   "metadata": {},
   "source": [
    "letra = lst[1][1][-1]\n"
   ]
  },
  {
   "cell_type": "code",
   "execution_count": 189,
   "id": "1b5e961c",
   "metadata": {},
   "outputs": [
    {
     "data": {
      "text/plain": [
       "'e'"
      ]
     },
     "execution_count": 189,
     "metadata": {},
     "output_type": "execute_result"
    }
   ],
   "source": [
    "letra"
   ]
  },
  {
   "cell_type": "code",
   "execution_count": 184,
   "id": "a893bc47",
   "metadata": {},
   "outputs": [
    {
     "data": {
      "text/plain": [
       "['ipad', 'note', 'pc', 's20']"
      ]
     },
     "execution_count": 184,
     "metadata": {},
     "output_type": "execute_result"
    }
   ],
   "source": [
    "lst[1]"
   ]
  },
  {
   "cell_type": "code",
   "execution_count": 185,
   "id": "2babe9d2",
   "metadata": {},
   "outputs": [
    {
     "data": {
      "text/plain": [
       "'note'"
      ]
     },
     "execution_count": 185,
     "metadata": {},
     "output_type": "execute_result"
    }
   ],
   "source": [
    "lst[1][1].lower()"
   ]
  },
  {
   "cell_type": "code",
   "execution_count": 186,
   "id": "184b9f63",
   "metadata": {},
   "outputs": [
    {
     "data": {
      "text/plain": [
       "'NOTE'"
      ]
     },
     "execution_count": 186,
     "metadata": {},
     "output_type": "execute_result"
    }
   ],
   "source": [
    "lst[1][1].upper()"
   ]
  },
  {
   "cell_type": "code",
   "execution_count": 187,
   "id": "90f48cdc",
   "metadata": {},
   "outputs": [
    {
     "data": {
      "text/plain": [
       "'Note'"
      ]
     },
     "execution_count": 187,
     "metadata": {},
     "output_type": "execute_result"
    }
   ],
   "source": [
    "lst[1][1].title()"
   ]
  },
  {
   "cell_type": "code",
   "execution_count": 188,
   "id": "9ac7a045",
   "metadata": {},
   "outputs": [
    {
     "data": {
      "text/plain": [
       "'e'"
      ]
     },
     "execution_count": 188,
     "metadata": {},
     "output_type": "execute_result"
    }
   ],
   "source": [
    "lst[1][1][-1]"
   ]
  },
  {
   "cell_type": "code",
   "execution_count": 202,
   "id": "15d4a196",
   "metadata": {},
   "outputs": [],
   "source": [
    "n = ['c', 'a', 'b']"
   ]
  },
  {
   "cell_type": "code",
   "execution_count": 203,
   "id": "224e8adc",
   "metadata": {},
   "outputs": [
    {
     "ename": "TypeError",
     "evalue": "'<' not supported between instances of 'int' and 'str'",
     "output_type": "error",
     "traceback": [
      "\u001b[1;31m---------------------------------------------------------------------------\u001b[0m",
      "\u001b[1;31mTypeError\u001b[0m                                 Traceback (most recent call last)",
      "\u001b[1;32m~\\AppData\\Local\\Temp\\ipykernel_20016\\3340300590.py\u001b[0m in \u001b[0;36m<module>\u001b[1;34m\u001b[0m\n\u001b[1;32m----> 1\u001b[1;33m \u001b[0mn\u001b[0m\u001b[1;33m.\u001b[0m\u001b[0msort\u001b[0m\u001b[1;33m(\u001b[0m\u001b[1;33m)\u001b[0m\u001b[1;33m\u001b[0m\u001b[1;33m\u001b[0m\u001b[0m\n\u001b[0m",
      "\u001b[1;31mTypeError\u001b[0m: '<' not supported between instances of 'int' and 'str'"
     ]
    }
   ],
   "source": [
    "n.sort()"
   ]
  },
  {
   "cell_type": "code",
   "execution_count": 201,
   "id": "ebb8f851",
   "metadata": {},
   "outputs": [
    {
     "name": "stdout",
     "output_type": "stream",
     "text": [
      "['c', 'b', 'a']\n"
     ]
    }
   ],
   "source": [
    "print(n)"
   ]
  },
  {
   "cell_type": "code",
   "execution_count": 200,
   "id": "23fcac95",
   "metadata": {},
   "outputs": [
    {
     "data": {
      "text/plain": [
       "['c', 'b', 'a']"
      ]
     },
     "execution_count": 200,
     "metadata": {},
     "output_type": "execute_result"
    }
   ],
   "source": [
    "n.sort(reverse = True)\n",
    "n"
   ]
  },
  {
   "cell_type": "code",
   "execution_count": 206,
   "id": "1d9dab98",
   "metadata": {},
   "outputs": [],
   "source": [
    "n = ['c', 'a' , 'b', '1', '<', 'ab']"
   ]
  },
  {
   "cell_type": "code",
   "execution_count": 208,
   "id": "7cf90e43",
   "metadata": {},
   "outputs": [],
   "source": [
    "n.sort()"
   ]
  },
  {
   "cell_type": "code",
   "execution_count": 209,
   "id": "05622711",
   "metadata": {},
   "outputs": [
    {
     "name": "stdout",
     "output_type": "stream",
     "text": [
      "['1', '<', 'a', 'ab', 'b', 'c']\n"
     ]
    }
   ],
   "source": [
    "print(n)"
   ]
  },
  {
   "cell_type": "code",
   "execution_count": 210,
   "id": "2e43f1bb",
   "metadata": {},
   "outputs": [],
   "source": [
    "n = [9, 1, 8, 7, 6, 10]"
   ]
  },
  {
   "cell_type": "code",
   "execution_count": 211,
   "id": "41f43fe8",
   "metadata": {},
   "outputs": [],
   "source": [
    "n.sort(reverse=True)"
   ]
  },
  {
   "cell_type": "code",
   "execution_count": 212,
   "id": "3712f591",
   "metadata": {},
   "outputs": [
    {
     "name": "stdout",
     "output_type": "stream",
     "text": [
      "[10, 9, 8, 7, 6, 1]\n"
     ]
    }
   ],
   "source": [
    "print(n)"
   ]
  },
  {
   "cell_type": "code",
   "execution_count": 216,
   "id": "65f0c320",
   "metadata": {},
   "outputs": [],
   "source": [
    "n = ['c', 'a', 'b']"
   ]
  },
  {
   "cell_type": "code",
   "execution_count": 217,
   "id": "e40dc631",
   "metadata": {},
   "outputs": [],
   "source": [
    "n.append('d')"
   ]
  },
  {
   "cell_type": "code",
   "execution_count": 218,
   "id": "9fba2ad7",
   "metadata": {},
   "outputs": [
    {
     "name": "stdout",
     "output_type": "stream",
     "text": [
      "['c', 'a', 'b', 'd']\n"
     ]
    }
   ],
   "source": [
    "print(n)"
   ]
  },
  {
   "cell_type": "code",
   "execution_count": 220,
   "id": "b3e40dc9",
   "metadata": {},
   "outputs": [
    {
     "ename": "TypeError",
     "evalue": "list.append() takes exactly one argument (2 given)",
     "output_type": "error",
     "traceback": [
      "\u001b[1;31m---------------------------------------------------------------------------\u001b[0m",
      "\u001b[1;31mTypeError\u001b[0m                                 Traceback (most recent call last)",
      "\u001b[1;32m~\\AppData\\Local\\Temp\\ipykernel_20016\\3036379030.py\u001b[0m in \u001b[0;36m<module>\u001b[1;34m\u001b[0m\n\u001b[1;32m----> 1\u001b[1;33m \u001b[0mn\u001b[0m\u001b[1;33m.\u001b[0m\u001b[0mappend\u001b[0m\u001b[1;33m(\u001b[0m\u001b[1;34m'g'\u001b[0m\u001b[1;33m,\u001b[0m \u001b[1;34m'i'\u001b[0m\u001b[1;33m)\u001b[0m\u001b[1;33m\u001b[0m\u001b[1;33m\u001b[0m\u001b[0m\n\u001b[0m",
      "\u001b[1;31mTypeError\u001b[0m: list.append() takes exactly one argument (2 given)"
     ]
    }
   ],
   "source": [
    "n.append('g', 'i')"
   ]
  },
  {
   "cell_type": "code",
   "execution_count": 221,
   "id": "a9aad8e5",
   "metadata": {},
   "outputs": [],
   "source": [
    "n.append(['g','i'])"
   ]
  },
  {
   "cell_type": "code",
   "execution_count": 222,
   "id": "ef9880f3",
   "metadata": {},
   "outputs": [
    {
     "name": "stdout",
     "output_type": "stream",
     "text": [
      "['c', 'a', 'b', 'd', ['g', 'i']]\n"
     ]
    }
   ],
   "source": [
    "print(n)"
   ]
  },
  {
   "cell_type": "code",
   "execution_count": 223,
   "id": "5e428174",
   "metadata": {},
   "outputs": [
    {
     "data": {
      "text/plain": [
       "5"
      ]
     },
     "execution_count": 223,
     "metadata": {},
     "output_type": "execute_result"
    }
   ],
   "source": [
    "len(n)"
   ]
  },
  {
   "cell_type": "code",
   "execution_count": 226,
   "id": "cfef16f4",
   "metadata": {},
   "outputs": [],
   "source": [
    "n.extend(['g','i','a'])"
   ]
  },
  {
   "cell_type": "code",
   "execution_count": 227,
   "id": "4f191d99",
   "metadata": {},
   "outputs": [
    {
     "name": "stdout",
     "output_type": "stream",
     "text": [
      "['c', 'a', 'b', 'd', ['g', 'i'], 'g', 'i', 'g', 'i', 'a']\n"
     ]
    }
   ],
   "source": [
    "print(n)"
   ]
  },
  {
   "cell_type": "code",
   "execution_count": 228,
   "id": "9a2b82b2",
   "metadata": {},
   "outputs": [],
   "source": [
    "n.remove('a')"
   ]
  },
  {
   "cell_type": "code",
   "execution_count": 229,
   "id": "4b080cac",
   "metadata": {},
   "outputs": [
    {
     "name": "stdout",
     "output_type": "stream",
     "text": [
      "['c', 'b', 'd', ['g', 'i'], 'g', 'i', 'g', 'i', 'a']\n"
     ]
    }
   ],
   "source": [
    "print(n)"
   ]
  },
  {
   "cell_type": "code",
   "execution_count": 230,
   "id": "ae322581",
   "metadata": {},
   "outputs": [
    {
     "data": {
      "text/plain": [
       "'a'"
      ]
     },
     "execution_count": 230,
     "metadata": {},
     "output_type": "execute_result"
    }
   ],
   "source": [
    "n.pop(-1)"
   ]
  },
  {
   "cell_type": "code",
   "execution_count": 231,
   "id": "bd00fa19",
   "metadata": {},
   "outputs": [
    {
     "name": "stdout",
     "output_type": "stream",
     "text": [
      "['c', 'b', 'd', ['g', 'i'], 'g', 'i', 'g', 'i']\n"
     ]
    }
   ],
   "source": [
    "print(n)"
   ]
  },
  {
   "cell_type": "code",
   "execution_count": 232,
   "id": "9498bd79",
   "metadata": {},
   "outputs": [],
   "source": [
    "aux = n.pop(4)"
   ]
  },
  {
   "cell_type": "code",
   "execution_count": 233,
   "id": "91082578",
   "metadata": {},
   "outputs": [
    {
     "name": "stdout",
     "output_type": "stream",
     "text": [
      "g\n"
     ]
    }
   ],
   "source": [
    "print(aux)"
   ]
  },
  {
   "cell_type": "code",
   "execution_count": 234,
   "id": "a2f5f179",
   "metadata": {},
   "outputs": [
    {
     "data": {
      "text/plain": [
       "['c', 'b', 'd', ['g', 'i'], 'i', 'g', 'i']"
      ]
     },
     "execution_count": 234,
     "metadata": {},
     "output_type": "execute_result"
    }
   ],
   "source": [
    "n"
   ]
  },
  {
   "cell_type": "code",
   "execution_count": 235,
   "id": "62916e52",
   "metadata": {},
   "outputs": [
    {
     "data": {
      "text/plain": [
       "2"
      ]
     },
     "execution_count": 235,
     "metadata": {},
     "output_type": "execute_result"
    }
   ],
   "source": [
    "n.index('d')"
   ]
  },
  {
   "cell_type": "code",
   "execution_count": 236,
   "id": "2863f746",
   "metadata": {},
   "outputs": [
    {
     "data": {
      "text/plain": [
       "'d'"
      ]
     },
     "execution_count": 236,
     "metadata": {},
     "output_type": "execute_result"
    }
   ],
   "source": [
    "n.pop(n.index('d'))"
   ]
  },
  {
   "cell_type": "code",
   "execution_count": 237,
   "id": "1e200520",
   "metadata": {},
   "outputs": [
    {
     "data": {
      "text/plain": [
       "['c', 'b', ['g', 'i'], 'i', 'g', 'i']"
      ]
     },
     "execution_count": 237,
     "metadata": {},
     "output_type": "execute_result"
    }
   ],
   "source": [
    "n"
   ]
  },
  {
   "cell_type": "code",
   "execution_count": 238,
   "id": "4b187e62",
   "metadata": {},
   "outputs": [
    {
     "ename": "AttributeError",
     "evalue": "'list' object has no attribute 'find'",
     "output_type": "error",
     "traceback": [
      "\u001b[1;31m---------------------------------------------------------------------------\u001b[0m",
      "\u001b[1;31mAttributeError\u001b[0m                            Traceback (most recent call last)",
      "\u001b[1;32m~\\AppData\\Local\\Temp\\ipykernel_20016\\788534671.py\u001b[0m in \u001b[0;36m<module>\u001b[1;34m\u001b[0m\n\u001b[1;32m----> 1\u001b[1;33m \u001b[0mn\u001b[0m\u001b[1;33m.\u001b[0m\u001b[0mfind\u001b[0m\u001b[1;33m(\u001b[0m\u001b[1;34m'd'\u001b[0m\u001b[1;33m)\u001b[0m\u001b[1;33m\u001b[0m\u001b[1;33m\u001b[0m\u001b[0m\n\u001b[0m",
      "\u001b[1;31mAttributeError\u001b[0m: 'list' object has no attribute 'find'"
     ]
    }
   ],
   "source": [
    "n.find('d')"
   ]
  },
  {
   "cell_type": "code",
   "execution_count": 240,
   "id": "b62a2740",
   "metadata": {},
   "outputs": [
    {
     "ename": "ValueError",
     "evalue": "'d' is not in list",
     "output_type": "error",
     "traceback": [
      "\u001b[1;31m---------------------------------------------------------------------------\u001b[0m",
      "\u001b[1;31mValueError\u001b[0m                                Traceback (most recent call last)",
      "\u001b[1;32m~\\AppData\\Local\\Temp\\ipykernel_20016\\3377064796.py\u001b[0m in \u001b[0;36m<module>\u001b[1;34m\u001b[0m\n\u001b[1;32m----> 1\u001b[1;33m \u001b[0mn\u001b[0m\u001b[1;33m.\u001b[0m\u001b[0mindex\u001b[0m\u001b[1;33m(\u001b[0m\u001b[1;34m'd'\u001b[0m\u001b[1;33m)\u001b[0m\u001b[1;33m\u001b[0m\u001b[1;33m\u001b[0m\u001b[0m\n\u001b[0m",
      "\u001b[1;31mValueError\u001b[0m: 'd' is not in list"
     ]
    }
   ],
   "source": [
    "n.index('d')"
   ]
  },
  {
   "cell_type": "code",
   "execution_count": 241,
   "id": "1b26c922",
   "metadata": {},
   "outputs": [
    {
     "data": {
      "text/plain": [
       "2"
      ]
     },
     "execution_count": 241,
     "metadata": {},
     "output_type": "execute_result"
    }
   ],
   "source": [
    "n.index(['g','i'])"
   ]
  },
  {
   "cell_type": "code",
   "execution_count": 242,
   "id": "9a4acb61",
   "metadata": {},
   "outputs": [],
   "source": [
    "# Para remover a lista interna\n",
    "# n.remove(['g','i'])\n",
    "# n.pop(n.index(['g','i']))"
   ]
  },
  {
   "cell_type": "code",
   "execution_count": 243,
   "id": "2a20b2e6",
   "metadata": {},
   "outputs": [],
   "source": [
    "n.remove(['g','i'])"
   ]
  },
  {
   "cell_type": "code",
   "execution_count": 244,
   "id": "d74d7989",
   "metadata": {},
   "outputs": [
    {
     "name": "stdout",
     "output_type": "stream",
     "text": [
      "['c', 'b', 'i', 'g', 'i']\n"
     ]
    }
   ],
   "source": [
    "print(n)"
   ]
  },
  {
   "cell_type": "code",
   "execution_count": 245,
   "id": "9fc3ac8e",
   "metadata": {},
   "outputs": [
    {
     "data": {
      "text/plain": [
       "-1"
      ]
     },
     "execution_count": 245,
     "metadata": {},
     "output_type": "execute_result"
    }
   ],
   "source": [
    "nome.find('D')"
   ]
  },
  {
   "cell_type": "code",
   "execution_count": 246,
   "id": "d606a3fa",
   "metadata": {},
   "outputs": [
    {
     "data": {
      "text/plain": [
       "0"
      ]
     },
     "execution_count": 246,
     "metadata": {},
     "output_type": "execute_result"
    }
   ],
   "source": [
    "nome.find('J')"
   ]
  },
  {
   "cell_type": "code",
   "execution_count": 247,
   "id": "06eeab14",
   "metadata": {},
   "outputs": [
    {
     "data": {
      "text/plain": [
       "0"
      ]
     },
     "execution_count": 247,
     "metadata": {},
     "output_type": "execute_result"
    }
   ],
   "source": [
    "nome.index('J')"
   ]
  },
  {
   "cell_type": "code",
   "execution_count": 248,
   "id": "e5deea9d",
   "metadata": {},
   "outputs": [
    {
     "ename": "ValueError",
     "evalue": "substring not found",
     "output_type": "error",
     "traceback": [
      "\u001b[1;31m---------------------------------------------------------------------------\u001b[0m",
      "\u001b[1;31mValueError\u001b[0m                                Traceback (most recent call last)",
      "\u001b[1;32m~\\AppData\\Local\\Temp\\ipykernel_20016\\1841102925.py\u001b[0m in \u001b[0;36m<module>\u001b[1;34m\u001b[0m\n\u001b[1;32m----> 1\u001b[1;33m \u001b[0mnome\u001b[0m\u001b[1;33m.\u001b[0m\u001b[0mindex\u001b[0m\u001b[1;33m(\u001b[0m\u001b[1;34m'D'\u001b[0m\u001b[1;33m)\u001b[0m\u001b[1;33m\u001b[0m\u001b[1;33m\u001b[0m\u001b[0m\n\u001b[0m",
      "\u001b[1;31mValueError\u001b[0m: substring not found"
     ]
    }
   ],
   "source": [
    "nome.index('D')"
   ]
  },
  {
   "cell_type": "code",
   "execution_count": 250,
   "id": "a1691452",
   "metadata": {},
   "outputs": [
    {
     "data": {
      "text/plain": [
       "0"
      ]
     },
     "execution_count": 250,
     "metadata": {},
     "output_type": "execute_result"
    }
   ],
   "source": [
    "n.count(1)"
   ]
  },
  {
   "cell_type": "code",
   "execution_count": 251,
   "id": "7c6c565b",
   "metadata": {},
   "outputs": [
    {
     "data": {
      "text/plain": [
       "0"
      ]
     },
     "execution_count": 251,
     "metadata": {},
     "output_type": "execute_result"
    }
   ],
   "source": [
    "n.count([1,2])"
   ]
  },
  {
   "cell_type": "code",
   "execution_count": 252,
   "id": "5f5df6d1",
   "metadata": {},
   "outputs": [
    {
     "data": {
      "text/plain": [
       "2"
      ]
     },
     "execution_count": 252,
     "metadata": {},
     "output_type": "execute_result"
    }
   ],
   "source": [
    "n.count('i')"
   ]
  },
  {
   "cell_type": "code",
   "execution_count": 262,
   "id": "821ea5a4",
   "metadata": {},
   "outputs": [],
   "source": [
    "n.clear()"
   ]
  },
  {
   "cell_type": "code",
   "execution_count": 263,
   "id": "339a1000",
   "metadata": {},
   "outputs": [
    {
     "name": "stdout",
     "output_type": "stream",
     "text": [
      "[]\n"
     ]
    }
   ],
   "source": [
    "print(n)"
   ]
  },
  {
   "cell_type": "code",
   "execution_count": 264,
   "id": "e8fb0e75",
   "metadata": {},
   "outputs": [],
   "source": [
    "n.insert(0,'a')"
   ]
  },
  {
   "cell_type": "code",
   "execution_count": 265,
   "id": "8e0bc040",
   "metadata": {},
   "outputs": [],
   "source": [
    "n.insert(0,1)"
   ]
  },
  {
   "cell_type": "code",
   "execution_count": 266,
   "id": "132c4931",
   "metadata": {},
   "outputs": [],
   "source": [
    "n.insert(0,[1.2, True])"
   ]
  },
  {
   "cell_type": "code",
   "execution_count": 267,
   "id": "4622ad48",
   "metadata": {},
   "outputs": [
    {
     "name": "stdout",
     "output_type": "stream",
     "text": [
      "[[1.2, True], 1, 'a']\n"
     ]
    }
   ],
   "source": [
    "print(n)"
   ]
  },
  {
   "cell_type": "code",
   "execution_count": 268,
   "id": "09b5a123",
   "metadata": {},
   "outputs": [],
   "source": [
    "n.insert(0,10)"
   ]
  },
  {
   "cell_type": "code",
   "execution_count": 269,
   "id": "6a53b09d",
   "metadata": {},
   "outputs": [
    {
     "name": "stdout",
     "output_type": "stream",
     "text": [
      "[10, [1.2, True], 1, 'a']\n"
     ]
    }
   ],
   "source": [
    "print(n)"
   ]
  },
  {
   "cell_type": "code",
   "execution_count": 270,
   "id": "210a24d3",
   "metadata": {},
   "outputs": [
    {
     "data": {
      "text/plain": [
       "[1.2, True]"
      ]
     },
     "execution_count": 270,
     "metadata": {},
     "output_type": "execute_result"
    }
   ],
   "source": [
    "n[1]"
   ]
  },
  {
   "cell_type": "code",
   "execution_count": 271,
   "id": "ae930bb5",
   "metadata": {},
   "outputs": [],
   "source": [
    "n[1].insert(1,'b')"
   ]
  },
  {
   "cell_type": "code",
   "execution_count": 272,
   "id": "f27f0c6e",
   "metadata": {},
   "outputs": [
    {
     "data": {
      "text/plain": [
       "[10, [1.2, 'b', True], 1, 'a']"
      ]
     },
     "execution_count": 272,
     "metadata": {},
     "output_type": "execute_result"
    }
   ],
   "source": [
    "n"
   ]
  },
  {
   "cell_type": "code",
   "execution_count": 273,
   "id": "68b1447f",
   "metadata": {},
   "outputs": [],
   "source": [
    "n.reverse()"
   ]
  },
  {
   "cell_type": "code",
   "execution_count": 274,
   "id": "faaedf4b",
   "metadata": {},
   "outputs": [
    {
     "data": {
      "text/plain": [
       "['a', 1, [1.2, 'b', True], 10]"
      ]
     },
     "execution_count": 274,
     "metadata": {},
     "output_type": "execute_result"
    }
   ],
   "source": [
    "n"
   ]
  },
  {
   "cell_type": "code",
   "execution_count": 275,
   "id": "79031dae",
   "metadata": {},
   "outputs": [],
   "source": [
    "a = [1,2]\n",
    "b = a"
   ]
  },
  {
   "cell_type": "code",
   "execution_count": 276,
   "id": "f72c0734",
   "metadata": {},
   "outputs": [
    {
     "name": "stdout",
     "output_type": "stream",
     "text": [
      "[1, 2]\n",
      "[1, 2]\n"
     ]
    }
   ],
   "source": [
    "print(a)\n",
    "print(b)"
   ]
  },
  {
   "cell_type": "code",
   "execution_count": 277,
   "id": "6dc90959",
   "metadata": {},
   "outputs": [
    {
     "data": {
      "text/plain": [
       "2419059181632"
      ]
     },
     "execution_count": 277,
     "metadata": {},
     "output_type": "execute_result"
    }
   ],
   "source": [
    "id(a)"
   ]
  },
  {
   "cell_type": "code",
   "execution_count": 278,
   "id": "c20eede5",
   "metadata": {},
   "outputs": [
    {
     "data": {
      "text/plain": [
       "2419059181632"
      ]
     },
     "execution_count": 278,
     "metadata": {},
     "output_type": "execute_result"
    }
   ],
   "source": [
    "id(b)"
   ]
  },
  {
   "cell_type": "code",
   "execution_count": 279,
   "id": "1ab9b078",
   "metadata": {},
   "outputs": [],
   "source": [
    "b[0] = 10"
   ]
  },
  {
   "cell_type": "code",
   "execution_count": 281,
   "id": "aecdd4b9",
   "metadata": {},
   "outputs": [
    {
     "name": "stdout",
     "output_type": "stream",
     "text": [
      "[10, 2]\n",
      "[10, 2]\n"
     ]
    }
   ],
   "source": [
    "print(a)\n",
    "print(b)"
   ]
  },
  {
   "cell_type": "code",
   "execution_count": 283,
   "id": "29494b52",
   "metadata": {},
   "outputs": [],
   "source": [
    "a = [1, 2]\n",
    "b = a.copy()"
   ]
  },
  {
   "cell_type": "code",
   "execution_count": 284,
   "id": "632d1613",
   "metadata": {},
   "outputs": [
    {
     "data": {
      "text/plain": [
       "2419054226560"
      ]
     },
     "execution_count": 284,
     "metadata": {},
     "output_type": "execute_result"
    }
   ],
   "source": [
    "id(a)"
   ]
  },
  {
   "cell_type": "code",
   "execution_count": 285,
   "id": "c82b002c",
   "metadata": {},
   "outputs": [
    {
     "data": {
      "text/plain": [
       "2419060474304"
      ]
     },
     "execution_count": 285,
     "metadata": {},
     "output_type": "execute_result"
    }
   ],
   "source": [
    "id(b)"
   ]
  },
  {
   "cell_type": "code",
   "execution_count": 286,
   "id": "7c17cf13",
   "metadata": {},
   "outputs": [],
   "source": [
    "b[0] = 10"
   ]
  },
  {
   "cell_type": "code",
   "execution_count": 287,
   "id": "71c942d2",
   "metadata": {},
   "outputs": [
    {
     "name": "stdout",
     "output_type": "stream",
     "text": [
      "[1, 2]\n",
      "[10, 2]\n"
     ]
    }
   ],
   "source": [
    "print(a)\n",
    "print(b)"
   ]
  },
  {
   "cell_type": "markdown",
   "id": "5a593e0c",
   "metadata": {},
   "source": [
    "## Tuplas"
   ]
  },
  {
   "cell_type": "code",
   "execution_count": 288,
   "id": "7108d667",
   "metadata": {},
   "outputs": [
    {
     "name": "stdout",
     "output_type": "stream",
     "text": [
      "<class 'tuple'>\n"
     ]
    }
   ],
   "source": [
    "t1 = ()\n",
    "print(type(t1))"
   ]
  },
  {
   "cell_type": "code",
   "execution_count": 289,
   "id": "af6edcdb",
   "metadata": {},
   "outputs": [
    {
     "name": "stdout",
     "output_type": "stream",
     "text": [
      "<class 'int'>\n"
     ]
    }
   ],
   "source": [
    "t2 = (1)\n",
    "print(type(t2))"
   ]
  },
  {
   "cell_type": "code",
   "execution_count": 290,
   "id": "60872139",
   "metadata": {},
   "outputs": [
    {
     "name": "stdout",
     "output_type": "stream",
     "text": [
      "<class 'tuple'>\n"
     ]
    }
   ],
   "source": [
    "t2 = (1,)\n",
    "print(type(t2))"
   ]
  },
  {
   "cell_type": "code",
   "execution_count": 291,
   "id": "05b5c296",
   "metadata": {},
   "outputs": [
    {
     "name": "stdout",
     "output_type": "stream",
     "text": [
      "<class 'tuple'>\n"
     ]
    }
   ],
   "source": [
    "t3 = (1, 2, 3, 'a', 'b')\n",
    "print(type(t3))"
   ]
  },
  {
   "cell_type": "code",
   "execution_count": 292,
   "id": "da399111",
   "metadata": {},
   "outputs": [
    {
     "name": "stdout",
     "output_type": "stream",
     "text": [
      "(1, 2, 3, 'a', 'b')\n"
     ]
    }
   ],
   "source": [
    "print(t3)"
   ]
  },
  {
   "cell_type": "code",
   "execution_count": 293,
   "id": "5216a7fd",
   "metadata": {},
   "outputs": [
    {
     "data": {
      "text/plain": [
       "(1, 2, 3, 'a', 'b', True, False, 1.5)"
      ]
     },
     "execution_count": 293,
     "metadata": {},
     "output_type": "execute_result"
    }
   ],
   "source": [
    "t3 + (True, False, 1.5)"
   ]
  },
  {
   "cell_type": "code",
   "execution_count": 311,
   "id": "85caa331",
   "metadata": {},
   "outputs": [
    {
     "name": "stdout",
     "output_type": "stream",
     "text": [
      "(1, 2, 3, 'a', 'b')\n"
     ]
    }
   ],
   "source": [
    "print(t3)"
   ]
  },
  {
   "cell_type": "code",
   "execution_count": 294,
   "id": "68f03d3c",
   "metadata": {},
   "outputs": [],
   "source": [
    "t4 = t3 + (True, False, 1.5)"
   ]
  },
  {
   "cell_type": "code",
   "execution_count": 295,
   "id": "c4370858",
   "metadata": {},
   "outputs": [
    {
     "name": "stdout",
     "output_type": "stream",
     "text": [
      "(1, 2, 3, 'a', 'b', True, False, 1.5)\n"
     ]
    }
   ],
   "source": [
    "print(t4)"
   ]
  },
  {
   "cell_type": "code",
   "execution_count": 296,
   "id": "1dde7bf9",
   "metadata": {},
   "outputs": [
    {
     "data": {
      "text/plain": [
       "1"
      ]
     },
     "execution_count": 296,
     "metadata": {},
     "output_type": "execute_result"
    }
   ],
   "source": [
    "t4[0]"
   ]
  },
  {
   "cell_type": "code",
   "execution_count": 297,
   "id": "6f9fd805",
   "metadata": {},
   "outputs": [
    {
     "data": {
      "text/plain": [
       "1.5"
      ]
     },
     "execution_count": 297,
     "metadata": {},
     "output_type": "execute_result"
    }
   ],
   "source": [
    "t4[-1]"
   ]
  },
  {
   "cell_type": "code",
   "execution_count": 298,
   "id": "9de3950d",
   "metadata": {},
   "outputs": [
    {
     "data": {
      "text/plain": [
       "(3, 'a', 'b', True, False, 1.5)"
      ]
     },
     "execution_count": 298,
     "metadata": {},
     "output_type": "execute_result"
    }
   ],
   "source": [
    "t4[2:]"
   ]
  },
  {
   "cell_type": "code",
   "execution_count": 299,
   "id": "3620e92d",
   "metadata": {},
   "outputs": [],
   "source": [
    "t5 = (t2, t4)"
   ]
  },
  {
   "cell_type": "code",
   "execution_count": 300,
   "id": "ed002ed0",
   "metadata": {},
   "outputs": [
    {
     "name": "stdout",
     "output_type": "stream",
     "text": [
      "((1,), (1, 2, 3, 'a', 'b', True, False, 1.5))\n"
     ]
    }
   ],
   "source": [
    "print(t5)"
   ]
  },
  {
   "cell_type": "code",
   "execution_count": 301,
   "id": "1c9d9563",
   "metadata": {},
   "outputs": [
    {
     "data": {
      "text/plain": [
       "'B'"
      ]
     },
     "execution_count": 301,
     "metadata": {},
     "output_type": "execute_result"
    }
   ],
   "source": [
    "t5[1][4].upper()"
   ]
  },
  {
   "cell_type": "code",
   "execution_count": 302,
   "id": "03ec9b27",
   "metadata": {},
   "outputs": [
    {
     "ename": "TypeError",
     "evalue": "'tuple' object does not support item assignment",
     "output_type": "error",
     "traceback": [
      "\u001b[1;31m---------------------------------------------------------------------------\u001b[0m",
      "\u001b[1;31mTypeError\u001b[0m                                 Traceback (most recent call last)",
      "\u001b[1;32m~\\AppData\\Local\\Temp\\ipykernel_20016\\3970990982.py\u001b[0m in \u001b[0;36m<module>\u001b[1;34m\u001b[0m\n\u001b[1;32m----> 1\u001b[1;33m \u001b[0mt5\u001b[0m\u001b[1;33m[\u001b[0m\u001b[1;36m1\u001b[0m\u001b[1;33m]\u001b[0m \u001b[1;33m=\u001b[0m \u001b[1;36m100\u001b[0m\u001b[1;33m\u001b[0m\u001b[1;33m\u001b[0m\u001b[0m\n\u001b[0m",
      "\u001b[1;31mTypeError\u001b[0m: 'tuple' object does not support item assignment"
     ]
    }
   ],
   "source": [
    "t5[1] = 100"
   ]
  },
  {
   "cell_type": "code",
   "execution_count": 303,
   "id": "887047a4",
   "metadata": {},
   "outputs": [
    {
     "data": {
      "text/plain": [
       "0"
      ]
     },
     "execution_count": 303,
     "metadata": {},
     "output_type": "execute_result"
    }
   ],
   "source": [
    "t5.count('a')"
   ]
  },
  {
   "cell_type": "code",
   "execution_count": 304,
   "id": "e52fb421",
   "metadata": {},
   "outputs": [
    {
     "data": {
      "text/plain": [
       "((1,), (1, 2, 3, 'a', 'b', True, False, 1.5))"
      ]
     },
     "execution_count": 304,
     "metadata": {},
     "output_type": "execute_result"
    }
   ],
   "source": [
    "t5"
   ]
  },
  {
   "cell_type": "code",
   "execution_count": 306,
   "id": "088034e2",
   "metadata": {},
   "outputs": [
    {
     "data": {
      "text/plain": [
       "1"
      ]
     },
     "execution_count": 306,
     "metadata": {},
     "output_type": "execute_result"
    }
   ],
   "source": [
    "t5.count((1, 2, 3, 'a', 'b', True, False, 1.5))"
   ]
  },
  {
   "cell_type": "code",
   "execution_count": 307,
   "id": "99092e82",
   "metadata": {},
   "outputs": [
    {
     "data": {
      "text/plain": [
       "1"
      ]
     },
     "execution_count": 307,
     "metadata": {},
     "output_type": "execute_result"
    }
   ],
   "source": [
    "t4.count('a')"
   ]
  },
  {
   "cell_type": "code",
   "execution_count": 308,
   "id": "a01054db",
   "metadata": {},
   "outputs": [
    {
     "data": {
      "text/plain": [
       "2"
      ]
     },
     "execution_count": 308,
     "metadata": {},
     "output_type": "execute_result"
    }
   ],
   "source": [
    "t4.count(1)"
   ]
  },
  {
   "cell_type": "code",
   "execution_count": 309,
   "id": "9a350332",
   "metadata": {},
   "outputs": [
    {
     "data": {
      "text/plain": [
       "3"
      ]
     },
     "execution_count": 309,
     "metadata": {},
     "output_type": "execute_result"
    }
   ],
   "source": [
    "t4.index('a')"
   ]
  },
  {
   "cell_type": "code",
   "execution_count": 310,
   "id": "3cc9073e",
   "metadata": {},
   "outputs": [
    {
     "data": {
      "text/plain": [
       "'a'"
      ]
     },
     "execution_count": 310,
     "metadata": {},
     "output_type": "execute_result"
    }
   ],
   "source": [
    "t4[t4.index('a')]"
   ]
  },
  {
   "cell_type": "code",
   "execution_count": 312,
   "id": "c8ac8fcb",
   "metadata": {},
   "outputs": [],
   "source": [
    "t6 = (1, 'abcd')"
   ]
  },
  {
   "cell_type": "code",
   "execution_count": 313,
   "id": "91024e1d",
   "metadata": {},
   "outputs": [
    {
     "ename": "TypeError",
     "evalue": "'str' object does not support item assignment",
     "output_type": "error",
     "traceback": [
      "\u001b[1;31m---------------------------------------------------------------------------\u001b[0m",
      "\u001b[1;31mTypeError\u001b[0m                                 Traceback (most recent call last)",
      "\u001b[1;32m~\\AppData\\Local\\Temp\\ipykernel_20016\\2918510027.py\u001b[0m in \u001b[0;36m<module>\u001b[1;34m\u001b[0m\n\u001b[1;32m----> 1\u001b[1;33m \u001b[0mt6\u001b[0m\u001b[1;33m[\u001b[0m\u001b[1;36m1\u001b[0m\u001b[1;33m]\u001b[0m\u001b[1;33m[\u001b[0m\u001b[1;36m0\u001b[0m\u001b[1;33m]\u001b[0m \u001b[1;33m=\u001b[0m \u001b[1;34m'A'\u001b[0m\u001b[1;33m\u001b[0m\u001b[1;33m\u001b[0m\u001b[0m\n\u001b[0m",
      "\u001b[1;31mTypeError\u001b[0m: 'str' object does not support item assignment"
     ]
    }
   ],
   "source": [
    "t6[1][0] = 'A'"
   ]
  },
  {
   "cell_type": "code",
   "execution_count": 315,
   "id": "de954a00",
   "metadata": {},
   "outputs": [],
   "source": [
    "t7 = (1, 'abcd', ['ab', 10])"
   ]
  },
  {
   "cell_type": "code",
   "execution_count": 316,
   "id": "6f491021",
   "metadata": {},
   "outputs": [
    {
     "ename": "TypeError",
     "evalue": "'tuple' object does not support item assignment",
     "output_type": "error",
     "traceback": [
      "\u001b[1;31m---------------------------------------------------------------------------\u001b[0m",
      "\u001b[1;31mTypeError\u001b[0m                                 Traceback (most recent call last)",
      "\u001b[1;32m~\\AppData\\Local\\Temp\\ipykernel_20016\\3007365245.py\u001b[0m in \u001b[0;36m<module>\u001b[1;34m\u001b[0m\n\u001b[1;32m----> 1\u001b[1;33m \u001b[0mt7\u001b[0m\u001b[1;33m[\u001b[0m\u001b[1;36m0\u001b[0m\u001b[1;33m]\u001b[0m \u001b[1;33m=\u001b[0m \u001b[1;36m1\u001b[0m\u001b[1;33m\u001b[0m\u001b[1;33m\u001b[0m\u001b[0m\n\u001b[0m",
      "\u001b[1;31mTypeError\u001b[0m: 'tuple' object does not support item assignment"
     ]
    }
   ],
   "source": [
    "t7[0] = 1"
   ]
  },
  {
   "cell_type": "code",
   "execution_count": 318,
   "id": "8c20872f",
   "metadata": {},
   "outputs": [
    {
     "data": {
      "text/plain": [
       "(1, 'abcd', ['ab', 10])"
      ]
     },
     "execution_count": 318,
     "metadata": {},
     "output_type": "execute_result"
    }
   ],
   "source": [
    "t7"
   ]
  },
  {
   "cell_type": "code",
   "execution_count": 319,
   "id": "9f432179",
   "metadata": {},
   "outputs": [
    {
     "data": {
      "text/plain": [
       "['ab', 10]"
      ]
     },
     "execution_count": 319,
     "metadata": {},
     "output_type": "execute_result"
    }
   ],
   "source": [
    "t7[-1]"
   ]
  },
  {
   "cell_type": "code",
   "execution_count": 320,
   "id": "3d744b0c",
   "metadata": {},
   "outputs": [
    {
     "data": {
      "text/plain": [
       "10"
      ]
     },
     "execution_count": 320,
     "metadata": {},
     "output_type": "execute_result"
    }
   ],
   "source": [
    "t7[-1][1]"
   ]
  },
  {
   "cell_type": "code",
   "execution_count": 322,
   "id": "c4973ae7",
   "metadata": {},
   "outputs": [],
   "source": [
    "t7[-1][-1] = 100"
   ]
  },
  {
   "cell_type": "code",
   "execution_count": 323,
   "id": "3031c3de",
   "metadata": {},
   "outputs": [
    {
     "data": {
      "text/plain": [
       "(1, 'abcd', ['ab', 100])"
      ]
     },
     "execution_count": 323,
     "metadata": {},
     "output_type": "execute_result"
    }
   ],
   "source": [
    "t7"
   ]
  },
  {
   "cell_type": "code",
   "execution_count": 333,
   "id": "8885f4e9",
   "metadata": {},
   "outputs": [],
   "source": [
    "t6 = list(t6)"
   ]
  },
  {
   "cell_type": "code",
   "execution_count": 334,
   "id": "7dfdc70a",
   "metadata": {},
   "outputs": [
    {
     "data": {
      "text/plain": [
       "[1000, 'abcd']"
      ]
     },
     "execution_count": 334,
     "metadata": {},
     "output_type": "execute_result"
    }
   ],
   "source": [
    "t6"
   ]
  },
  {
   "cell_type": "code",
   "execution_count": 335,
   "id": "21c9fab6",
   "metadata": {},
   "outputs": [
    {
     "data": {
      "text/plain": [
       "2419060609920"
      ]
     },
     "execution_count": 335,
     "metadata": {},
     "output_type": "execute_result"
    }
   ],
   "source": [
    "id(t6)"
   ]
  },
  {
   "cell_type": "code",
   "execution_count": 336,
   "id": "7f9ef8ad",
   "metadata": {},
   "outputs": [],
   "source": [
    "t6[0] = 1000"
   ]
  },
  {
   "cell_type": "code",
   "execution_count": 337,
   "id": "baacc0f8",
   "metadata": {},
   "outputs": [],
   "source": [
    "t6 = tuple(t6)"
   ]
  },
  {
   "cell_type": "code",
   "execution_count": 338,
   "id": "7bc73a6c",
   "metadata": {},
   "outputs": [
    {
     "name": "stdout",
     "output_type": "stream",
     "text": [
      "(1000, 'abcd')\n"
     ]
    }
   ],
   "source": [
    "print(t6)"
   ]
  },
  {
   "cell_type": "code",
   "execution_count": 339,
   "id": "da9a0b64",
   "metadata": {},
   "outputs": [
    {
     "data": {
      "text/plain": [
       "2419061495936"
      ]
     },
     "execution_count": 339,
     "metadata": {},
     "output_type": "execute_result"
    }
   ],
   "source": [
    "id(t6)"
   ]
  },
  {
   "cell_type": "code",
   "execution_count": 340,
   "id": "8ef0b4d4",
   "metadata": {},
   "outputs": [
    {
     "data": {
      "text/plain": [
       "(10, 20)"
      ]
     },
     "execution_count": 340,
     "metadata": {},
     "output_type": "execute_result"
    }
   ],
   "source": [
    "# O Python por default considera uma tupla\n",
    "10,20"
   ]
  },
  {
   "cell_type": "code",
   "execution_count": 342,
   "id": "87f4bbf4",
   "metadata": {},
   "outputs": [],
   "source": [
    "a, b = 10,20"
   ]
  },
  {
   "cell_type": "code",
   "execution_count": 343,
   "id": "66dbf674",
   "metadata": {},
   "outputs": [
    {
     "name": "stdout",
     "output_type": "stream",
     "text": [
      "10\n"
     ]
    }
   ],
   "source": [
    "print(a)"
   ]
  },
  {
   "cell_type": "code",
   "execution_count": 344,
   "id": "152b323d",
   "metadata": {},
   "outputs": [
    {
     "name": "stdout",
     "output_type": "stream",
     "text": [
      "20\n"
     ]
    }
   ],
   "source": [
    "print(b)"
   ]
  },
  {
   "cell_type": "code",
   "execution_count": 345,
   "id": "0f1c87dc",
   "metadata": {},
   "outputs": [],
   "source": [
    "a, b = (10,20)"
   ]
  },
  {
   "cell_type": "code",
   "execution_count": 346,
   "id": "79841e3c",
   "metadata": {},
   "outputs": [
    {
     "name": "stdout",
     "output_type": "stream",
     "text": [
      "10\n"
     ]
    }
   ],
   "source": [
    "print(a)"
   ]
  },
  {
   "cell_type": "code",
   "execution_count": 347,
   "id": "be675d10",
   "metadata": {},
   "outputs": [
    {
     "name": "stdout",
     "output_type": "stream",
     "text": [
      "20\n"
     ]
    }
   ],
   "source": [
    "print(b)"
   ]
  },
  {
   "cell_type": "code",
   "execution_count": 348,
   "id": "91afa9bf",
   "metadata": {},
   "outputs": [
    {
     "ename": "ValueError",
     "evalue": "not enough values to unpack (expected 3, got 2)",
     "output_type": "error",
     "traceback": [
      "\u001b[1;31m---------------------------------------------------------------------------\u001b[0m",
      "\u001b[1;31mValueError\u001b[0m                                Traceback (most recent call last)",
      "\u001b[1;32m~\\AppData\\Local\\Temp\\ipykernel_20016\\2406479390.py\u001b[0m in \u001b[0;36m<module>\u001b[1;34m\u001b[0m\n\u001b[1;32m----> 1\u001b[1;33m \u001b[0ma\u001b[0m\u001b[1;33m,\u001b[0m \u001b[0mb\u001b[0m\u001b[1;33m,\u001b[0m \u001b[0mc\u001b[0m \u001b[1;33m=\u001b[0m \u001b[1;33m(\u001b[0m\u001b[1;36m10\u001b[0m\u001b[1;33m,\u001b[0m\u001b[1;36m20\u001b[0m\u001b[1;33m)\u001b[0m\u001b[1;33m\u001b[0m\u001b[1;33m\u001b[0m\u001b[0m\n\u001b[0m",
      "\u001b[1;31mValueError\u001b[0m: not enough values to unpack (expected 3, got 2)"
     ]
    }
   ],
   "source": [
    "a, b, c = (10,20)"
   ]
  },
  {
   "cell_type": "code",
   "execution_count": 349,
   "id": "7ea7ad65",
   "metadata": {},
   "outputs": [
    {
     "ename": "ValueError",
     "evalue": "too many values to unpack (expected 2)",
     "output_type": "error",
     "traceback": [
      "\u001b[1;31m---------------------------------------------------------------------------\u001b[0m",
      "\u001b[1;31mValueError\u001b[0m                                Traceback (most recent call last)",
      "\u001b[1;32m~\\AppData\\Local\\Temp\\ipykernel_20016\\1594181555.py\u001b[0m in \u001b[0;36m<module>\u001b[1;34m\u001b[0m\n\u001b[1;32m----> 1\u001b[1;33m \u001b[0ma\u001b[0m\u001b[1;33m,\u001b[0m \u001b[0mb\u001b[0m \u001b[1;33m=\u001b[0m \u001b[1;33m(\u001b[0m\u001b[1;36m10\u001b[0m\u001b[1;33m,\u001b[0m \u001b[1;36m20\u001b[0m\u001b[1;33m,\u001b[0m \u001b[1;36m30\u001b[0m\u001b[1;33m)\u001b[0m\u001b[1;33m\u001b[0m\u001b[1;33m\u001b[0m\u001b[0m\n\u001b[0m",
      "\u001b[1;31mValueError\u001b[0m: too many values to unpack (expected 2)"
     ]
    }
   ],
   "source": [
    "a, b = (10, 20, 30)"
   ]
  },
  {
   "cell_type": "code",
   "execution_count": 350,
   "id": "2d487803",
   "metadata": {},
   "outputs": [],
   "source": [
    "a, b, d, c = (1, 'asd', True, [1, 2])"
   ]
  },
  {
   "cell_type": "code",
   "execution_count": 351,
   "id": "360083e7",
   "metadata": {},
   "outputs": [],
   "source": [
    "a ,b, d, c = [1, 'asd', True, [1, 2]]"
   ]
  },
  {
   "cell_type": "code",
   "execution_count": 352,
   "id": "cd56207c",
   "metadata": {},
   "outputs": [
    {
     "name": "stdout",
     "output_type": "stream",
     "text": [
      "asd [1, 2]\n"
     ]
    }
   ],
   "source": [
    "print(b, c)"
   ]
  },
  {
   "cell_type": "code",
   "execution_count": 353,
   "id": "a0fb80c8",
   "metadata": {},
   "outputs": [
    {
     "name": "stdout",
     "output_type": "stream",
     "text": [
      "1 [1, 2]\n"
     ]
    }
   ],
   "source": [
    "print(a, c)"
   ]
  },
  {
   "cell_type": "markdown",
   "id": "54e26fe1",
   "metadata": {},
   "source": [
    "## Dicionários"
   ]
  },
  {
   "cell_type": "code",
   "execution_count": 354,
   "id": "5cbf8963",
   "metadata": {},
   "outputs": [
    {
     "name": "stdout",
     "output_type": "stream",
     "text": [
      "{'jose': 35, 'bilbo': 28}\n"
     ]
    }
   ],
   "source": [
    "alunos = {\n",
    "    'jose' : 35,\n",
    "    'bilbo': 28\n",
    "}\n",
    "print(alunos)"
   ]
  },
  {
   "cell_type": "code",
   "execution_count": 355,
   "id": "f20db898",
   "metadata": {},
   "outputs": [
    {
     "name": "stdout",
     "output_type": "stream",
     "text": [
      "35\n"
     ]
    }
   ],
   "source": [
    "print(alunos['jose'])"
   ]
  },
  {
   "cell_type": "code",
   "execution_count": 356,
   "id": "bda56eea",
   "metadata": {},
   "outputs": [
    {
     "name": "stdout",
     "output_type": "stream",
     "text": [
      "28\n"
     ]
    }
   ],
   "source": [
    "print(alunos['bilbo'])"
   ]
  },
  {
   "cell_type": "code",
   "execution_count": 358,
   "id": "6dbf43fd",
   "metadata": {},
   "outputs": [],
   "source": [
    "alunos ['bilbo'] = 30"
   ]
  },
  {
   "cell_type": "code",
   "execution_count": 359,
   "id": "74a6e838",
   "metadata": {},
   "outputs": [
    {
     "name": "stdout",
     "output_type": "stream",
     "text": [
      "{'jose': 35, 'bilbo': 30}\n"
     ]
    }
   ],
   "source": [
    "print(alunos)"
   ]
  },
  {
   "cell_type": "code",
   "execution_count": 361,
   "id": "349d483b",
   "metadata": {},
   "outputs": [
    {
     "ename": "KeyError",
     "evalue": "'joão'",
     "output_type": "error",
     "traceback": [
      "\u001b[1;31m---------------------------------------------------------------------------\u001b[0m",
      "\u001b[1;31mKeyError\u001b[0m                                  Traceback (most recent call last)",
      "\u001b[1;32m~\\AppData\\Local\\Temp\\ipykernel_20016\\2955261020.py\u001b[0m in \u001b[0;36m<module>\u001b[1;34m\u001b[0m\n\u001b[1;32m----> 1\u001b[1;33m \u001b[0malunos\u001b[0m\u001b[1;33m[\u001b[0m\u001b[1;34m'joão'\u001b[0m\u001b[1;33m]\u001b[0m\u001b[1;33m\u001b[0m\u001b[1;33m\u001b[0m\u001b[0m\n\u001b[0m",
      "\u001b[1;31mKeyError\u001b[0m: 'joão'"
     ]
    }
   ],
   "source": [
    "alunos['joão']"
   ]
  },
  {
   "cell_type": "code",
   "execution_count": 362,
   "id": "c98a3a13",
   "metadata": {},
   "outputs": [],
   "source": [
    "alunos['joao'] = 100"
   ]
  },
  {
   "cell_type": "code",
   "execution_count": 363,
   "id": "38bb5abc",
   "metadata": {},
   "outputs": [
    {
     "name": "stdout",
     "output_type": "stream",
     "text": [
      "{'jose': 35, 'bilbo': 30, 'joao': 100}\n"
     ]
    }
   ],
   "source": [
    "print(alunos)"
   ]
  },
  {
   "cell_type": "code",
   "execution_count": 365,
   "id": "a9828696",
   "metadata": {},
   "outputs": [],
   "source": [
    "del alunos['bilbo']"
   ]
  },
  {
   "cell_type": "code",
   "execution_count": 366,
   "id": "41cbce61",
   "metadata": {},
   "outputs": [
    {
     "name": "stdout",
     "output_type": "stream",
     "text": [
      "{'jose': 35, 'joao': 100}\n"
     ]
    }
   ],
   "source": [
    "print(alunos)"
   ]
  },
  {
   "cell_type": "code",
   "execution_count": 367,
   "id": "37faff17",
   "metadata": {},
   "outputs": [
    {
     "data": {
      "text/plain": [
       "dict_values([35, 100])"
      ]
     },
     "execution_count": 367,
     "metadata": {},
     "output_type": "execute_result"
    }
   ],
   "source": [
    "alunos.values()"
   ]
  },
  {
   "cell_type": "code",
   "execution_count": 368,
   "id": "7383f5ca",
   "metadata": {},
   "outputs": [
    {
     "data": {
      "text/plain": [
       "dict_keys(['jose', 'joao'])"
      ]
     },
     "execution_count": 368,
     "metadata": {},
     "output_type": "execute_result"
    }
   ],
   "source": [
    "alunos.keys()"
   ]
  },
  {
   "cell_type": "code",
   "execution_count": 369,
   "id": "b0ad8759",
   "metadata": {},
   "outputs": [
    {
     "data": {
      "text/plain": [
       "dict_items([('jose', 35), ('joao', 100)])"
      ]
     },
     "execution_count": 369,
     "metadata": {},
     "output_type": "execute_result"
    }
   ],
   "source": [
    "alunos.items()"
   ]
  },
  {
   "cell_type": "code",
   "execution_count": 371,
   "id": "01da7474",
   "metadata": {},
   "outputs": [
    {
     "data": {
      "text/plain": [
       "[('jose', 35), ('joao', 100)]"
      ]
     },
     "execution_count": 371,
     "metadata": {},
     "output_type": "execute_result"
    }
   ],
   "source": [
    "aux = list(alunos.items())\n",
    "aux"
   ]
  },
  {
   "cell_type": "code",
   "execution_count": 372,
   "id": "324ad81e",
   "metadata": {},
   "outputs": [
    {
     "name": "stdout",
     "output_type": "stream",
     "text": [
      "jose\n"
     ]
    },
    {
     "data": {
      "text/plain": [
       "35"
      ]
     },
     "execution_count": 372,
     "metadata": {},
     "output_type": "execute_result"
    }
   ],
   "source": [
    "print(aux[0][0])\n",
    "aux[0][1]"
   ]
  },
  {
   "cell_type": "code",
   "execution_count": 373,
   "id": "d66de7de",
   "metadata": {},
   "outputs": [
    {
     "data": {
      "text/plain": [
       "'jose'"
      ]
     },
     "execution_count": 373,
     "metadata": {},
     "output_type": "execute_result"
    }
   ],
   "source": [
    "aux[0][0]"
   ]
  },
  {
   "cell_type": "code",
   "execution_count": 374,
   "id": "a47d8d74",
   "metadata": {},
   "outputs": [
    {
     "data": {
      "text/plain": [
       "35"
      ]
     },
     "execution_count": 374,
     "metadata": {},
     "output_type": "execute_result"
    }
   ],
   "source": [
    "aux[0][1]"
   ]
  },
  {
   "cell_type": "code",
   "execution_count": 375,
   "id": "ff83c6fc",
   "metadata": {},
   "outputs": [
    {
     "name": "stdout",
     "output_type": "stream",
     "text": [
      "jose\n",
      "35\n"
     ]
    }
   ],
   "source": [
    "print(aux[0][0])\n",
    "print(aux[0][1])"
   ]
  },
  {
   "cell_type": "code",
   "execution_count": 376,
   "id": "e585bfd7",
   "metadata": {},
   "outputs": [
    {
     "name": "stdout",
     "output_type": "stream",
     "text": [
      "{'maria': 35, 'catarina': 20, 'jose': 150}\n"
     ]
    }
   ],
   "source": [
    "n_alunos = {\n",
    "    'maria' : 35,\n",
    "    'catarina' : 20,\n",
    "    'jose' : 150\n",
    "}\n",
    "print(n_alunos)"
   ]
  },
  {
   "cell_type": "code",
   "execution_count": 377,
   "id": "dd2ca36b",
   "metadata": {},
   "outputs": [],
   "source": [
    "alunos.update(n_alunos)"
   ]
  },
  {
   "cell_type": "code",
   "execution_count": 378,
   "id": "848a5403",
   "metadata": {},
   "outputs": [
    {
     "data": {
      "text/plain": [
       "{'jose': 150, 'joao': 100, 'maria': 35, 'catarina': 20}"
      ]
     },
     "execution_count": 378,
     "metadata": {},
     "output_type": "execute_result"
    }
   ],
   "source": [
    "alunos"
   ]
  },
  {
   "cell_type": "code",
   "execution_count": 380,
   "id": "d52b1969",
   "metadata": {},
   "outputs": [
    {
     "data": {
      "text/plain": [
       "150"
      ]
     },
     "execution_count": 380,
     "metadata": {},
     "output_type": "execute_result"
    }
   ],
   "source": [
    "alunos.pop('jose')"
   ]
  },
  {
   "cell_type": "code",
   "execution_count": 383,
   "id": "6eb05249",
   "metadata": {},
   "outputs": [
    {
     "data": {
      "text/plain": [
       "{'joao': 100, 'maria': 35, 'catarina': 20}"
      ]
     },
     "execution_count": 383,
     "metadata": {},
     "output_type": "execute_result"
    }
   ],
   "source": [
    "alunos"
   ]
  },
  {
   "cell_type": "code",
   "execution_count": 385,
   "id": "97cb9753",
   "metadata": {},
   "outputs": [
    {
     "data": {
      "text/plain": [
       "20"
      ]
     },
     "execution_count": 385,
     "metadata": {},
     "output_type": "execute_result"
    }
   ],
   "source": [
    "alunos.get('catarina')"
   ]
  },
  {
   "cell_type": "code",
   "execution_count": 386,
   "id": "b3bdf291",
   "metadata": {},
   "outputs": [
    {
     "name": "stdout",
     "output_type": "stream",
     "text": [
      "None\n"
     ]
    }
   ],
   "source": [
    "print(alunos.get('asdf'))"
   ]
  },
  {
   "cell_type": "code",
   "execution_count": null,
   "id": "174596f0",
   "metadata": {},
   "outputs": [],
   "source": []
  }
 ],
 "metadata": {
  "kernelspec": {
   "display_name": "Python 3 (ipykernel)",
   "language": "python",
   "name": "python3"
  },
  "language_info": {
   "codemirror_mode": {
    "name": "ipython",
    "version": 3
   },
   "file_extension": ".py",
   "mimetype": "text/x-python",
   "name": "python",
   "nbconvert_exporter": "python",
   "pygments_lexer": "ipython3",
   "version": "3.9.13"
  }
 },
 "nbformat": 4,
 "nbformat_minor": 5
}
