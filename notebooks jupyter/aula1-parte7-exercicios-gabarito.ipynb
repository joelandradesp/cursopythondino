{
 "cells": [
  {
   "cell_type": "markdown",
   "metadata": {},
   "source": [
    "# Exercícios\n",
    "\n"
   ]
  },
  {
   "cell_type": "markdown",
   "metadata": {},
   "source": [
    "**```1 - Crie um programa que irá perguntar ao usuário para digitar o nome e a idade. Imprima uma mensagem que diga qual é o ano em que ele irá fazer 100 anos.```**"
   ]
  },
  {
   "cell_type": "code",
   "execution_count": 1,
   "metadata": {},
   "outputs": [
    {
     "name": "stdout",
     "output_type": "stream",
     "text": [
      "Digite seu nome: Dino\n",
      "Digite sua idade: 30\n"
     ]
    }
   ],
   "source": [
    "nome = input(\"Digite seu nome: \")\n",
    "idade = int(input(\"Digite sua idade: \"))"
   ]
  },
  {
   "cell_type": "code",
   "execution_count": 2,
   "metadata": {},
   "outputs": [
    {
     "name": "stdout",
     "output_type": "stream",
     "text": [
      "Você irá fazer 100 anos em 2088\n"
     ]
    }
   ],
   "source": [
    "print(\"Você irá fazer 100 anos em {}\".format((100-28)+2016))"
   ]
  },
  {
   "cell_type": "markdown",
   "metadata": {},
   "source": [
    "**```2 - Modifique o programa anterior e pergunte quantas vezes o usuário deseja imprimir a mensagem.```**"
   ]
  },
  {
   "cell_type": "code",
   "execution_count": 3,
   "metadata": {},
   "outputs": [
    {
     "name": "stdout",
     "output_type": "stream",
     "text": [
      "Digite quantas vezes deseja reptir a mensagem: 3\n"
     ]
    }
   ],
   "source": [
    "vezes = int(input(\"Digite quantas vezes deseja reptir a mensagem: \"))"
   ]
  },
  {
   "cell_type": "code",
   "execution_count": 4,
   "metadata": {},
   "outputs": [
    {
     "name": "stdout",
     "output_type": "stream",
     "text": [
      "1 - Você irá fazer 100 anos em 2088\n",
      "2 - Você irá fazer 100 anos em 2088\n",
      "3 - Você irá fazer 100 anos em 2088\n"
     ]
    }
   ],
   "source": [
    "for v in range(0, vezes):\n",
    "    print(\"{} - Você irá fazer 100 anos em {}\".format(v+1, (100-28)+2016))"
   ]
  },
  {
   "cell_type": "markdown",
   "metadata": {},
   "source": [
    "**```3 - Pergunte ao usuário para digitar um número. Verifique se o número digitado é par ou impar. Imprima a mensagem apropriada para cada caso.```**"
   ]
  },
  {
   "cell_type": "code",
   "execution_count": 5,
   "metadata": {},
   "outputs": [
    {
     "name": "stdout",
     "output_type": "stream",
     "text": [
      "Digite um número: 30\n"
     ]
    }
   ],
   "source": [
    "num = int(input(\"Digite um número: \"))"
   ]
  },
  {
   "cell_type": "code",
   "execution_count": 6,
   "metadata": {},
   "outputs": [
    {
     "name": "stdout",
     "output_type": "stream",
     "text": [
      "O 30 é par.\n"
     ]
    }
   ],
   "source": [
    "if num % 2 == 0:\n",
    "    print(\"O {} é par.\".format(num))\n",
    "else:\n",
    "    print(\"O {} é impar.\".format(num))"
   ]
  },
  {
   "cell_type": "markdown",
   "metadata": {},
   "source": [
    "**```4 - Utilize a lista lst = [1, 1, 2, 3, 5, 8, 13, 21, 34, 55, 89].```**\n",
    "\n",
    "    a) Escreva um programa que irá imprimir todos os elementos menor ou igual a 5.\n",
    "    b) Ao invés de imprimir os elementos um a um, faça uma nova lista que tenha todos os elementos que são menor ou igual a 5. Imprima essa lista.\n",
    "    c) Peça ao usuário para digitar um número e imprima todos os números menores que os elementos da lista l.\n"
   ]
  },
  {
   "cell_type": "code",
   "execution_count": 7,
   "metadata": {
    "collapsed": true
   },
   "outputs": [],
   "source": [
    "lst = [1, 1, 2, 3, 5, 8, 13, 21, 34, 55, 89]"
   ]
  },
  {
   "cell_type": "code",
   "execution_count": 8,
   "metadata": {},
   "outputs": [
    {
     "name": "stdout",
     "output_type": "stream",
     "text": [
      "1 1 2 3 5 "
     ]
    }
   ],
   "source": [
    "# a)\n",
    "for i in lst:\n",
    "    if i <= 5:\n",
    "        print(i, end=' ')"
   ]
  },
  {
   "cell_type": "code",
   "execution_count": 9,
   "metadata": {},
   "outputs": [
    {
     "name": "stdout",
     "output_type": "stream",
     "text": [
      "[1, 1, 2, 3, 5]\n"
     ]
    }
   ],
   "source": [
    "# b)\n",
    "n_lst = []\n",
    "for i in lst:\n",
    "    if i <= 5:\n",
    "        n_lst.append(i)\n",
    "print(n_lst)"
   ]
  },
  {
   "cell_type": "code",
   "execution_count": 12,
   "metadata": {},
   "outputs": [
    {
     "name": "stdout",
     "output_type": "stream",
     "text": [
      "Digite um número: 30\n"
     ]
    }
   ],
   "source": [
    "# c)\n",
    "n = int(input(\"Digite um número: \"))"
   ]
  },
  {
   "cell_type": "code",
   "execution_count": 13,
   "metadata": {},
   "outputs": [
    {
     "name": "stdout",
     "output_type": "stream",
     "text": [
      "1 1 2 3 5 8 13 21 "
     ]
    }
   ],
   "source": [
    "for i in lst:\n",
    "    if i <= n:\n",
    "        print(i, end=' ')"
   ]
  },
  {
   "cell_type": "markdown",
   "metadata": {},
   "source": [
    "**```5 - Utilize as duas listas abaixo:```**\n",
    "```\n",
    "    l1 = [1, 1, 2, 3, 5, 8, 13, 21, 34, 55, 89]\n",
    "    l2 = [1, 2, 3, 4, 5, 6, 7, 8, 9, 10, 11, 12, 13]\n",
    "```\n",
    "    Escreva um programa que irá retornar uma lista que contém apenas os elementos que são comuns entre as listas (sem duplica-los). \n",
    "    \n",
    "    Tenha certeza que seu programa funcione com duas listas de tamanhos diferentes."
   ]
  },
  {
   "cell_type": "code",
   "execution_count": 14,
   "metadata": {
    "collapsed": true
   },
   "outputs": [],
   "source": [
    "l1 = [1, 1, 2, 3, 5, 8, 13, 21, 34, 55, 89]\n",
    "l2 = [1, 2, 3, 4, 5, 6, 7, 8, 9, 10, 11, 12, 13]"
   ]
  },
  {
   "cell_type": "code",
   "execution_count": 15,
   "metadata": {},
   "outputs": [
    {
     "name": "stdout",
     "output_type": "stream",
     "text": [
      "[1, 2, 3, 5, 8, 13]\n"
     ]
    }
   ],
   "source": [
    "l_final = []\n",
    "for item in l1:\n",
    "    if item in l2:\n",
    "        if not item in l_final:\n",
    "            l_final.append(item)\n",
    "print(l_final)"
   ]
  },
  {
   "cell_type": "markdown",
   "metadata": {},
   "source": [
    "**```6 - Peça ao usuário para digitar uma frase. Escreva um programa para verificar a quantidade de letras maiúsculas e minúsculas da frase digitada pelo usuário. Utilize dicionários para salvar a quantidade de cada uma```**\n",
    "\n",
    "    OBS: Utilize as funções isupper() islower() disponíveis em strings."
   ]
  },
  {
   "cell_type": "code",
   "execution_count": 16,
   "metadata": {},
   "outputs": [
    {
     "name": "stdout",
     "output_type": "stream",
     "text": [
      "Digite uma frase: PytHon RocKS!\n"
     ]
    }
   ],
   "source": [
    "frase = input(\"Digite uma frase: \")"
   ]
  },
  {
   "cell_type": "code",
   "execution_count": 17,
   "metadata": {},
   "outputs": [
    {
     "name": "stdout",
     "output_type": "stream",
     "text": [
      "{'Maiusculas': 5, 'Minusculas': 6, 'Outros': 2}\n"
     ]
    }
   ],
   "source": [
    "dicionario = {\"Maiusculas\" : 0, \"Minusculas\" : 0, \"Outros\" : 0}\n",
    "for letra in frase:\n",
    "    if letra.isupper():\n",
    "        dicionario[\"Maiusculas\"] += 1\n",
    "    elif letra.islower():\n",
    "        dicionario[\"Minusculas\"] += 1\n",
    "    else:\n",
    "        dicionario[\"Outros\"] += 1\n",
    "print(dicionario)"
   ]
  },
  {
   "cell_type": "markdown",
   "metadata": {},
   "source": [
    "## Referências\n",
    "\n",
    "* http://www.practicepython.org/\n",
    "* https://github.com/zhiwehu/Python-programming-exercises/\n",
    "* http://introtopython.org/\n"
   ]
  },
  {
   "cell_type": "code",
   "execution_count": null,
   "metadata": {
    "collapsed": true
   },
   "outputs": [],
   "source": []
  }
 ],
 "metadata": {
  "kernelspec": {
   "display_name": "Python 3",
   "language": "python",
   "name": "python3"
  },
  "language_info": {
   "codemirror_mode": {
    "name": "ipython",
    "version": 3
   },
   "file_extension": ".py",
   "mimetype": "text/x-python",
   "name": "python",
   "nbconvert_exporter": "python",
   "pygments_lexer": "ipython3",
   "version": "3.7.8"
  }
 },
 "nbformat": 4,
 "nbformat_minor": 1
}
